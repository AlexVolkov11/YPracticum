{
 "cells": [
  {
   "cell_type": "markdown",
   "metadata": {},
   "source": [
    "<h1>Содержание<span class=\"tocSkip\"></span></h1>\n",
    "<div class=\"toc\"><ul class=\"toc-item\"><li><span><a href=\"#Изучение-данных-из-файла\" data-toc-modified-id=\"Изучение-данных-из-файла-1\"><span class=\"toc-item-num\">1&nbsp;&nbsp;</span>Изучение данных из файла</a></span><ul class=\"toc-item\"><li><span><a href=\"#Вывод\" data-toc-modified-id=\"Вывод-1.1\"><span class=\"toc-item-num\">1.1&nbsp;&nbsp;</span>Вывод</a></span></li></ul></li><li><span><a href=\"#Предобработка-данных\" data-toc-modified-id=\"Предобработка-данных-2\"><span class=\"toc-item-num\">2&nbsp;&nbsp;</span>Предобработка данных</a></span></li><li><span><a href=\"#Расчёты-и-добавление-результатов-в-таблицу\" data-toc-modified-id=\"Расчёты-и-добавление-результатов-в-таблицу-3\"><span class=\"toc-item-num\">3&nbsp;&nbsp;</span>Расчёты и добавление результатов в таблицу</a></span></li><li><span><a href=\"#Исследовательский-анализ-данных\" data-toc-modified-id=\"Исследовательский-анализ-данных-4\"><span class=\"toc-item-num\">4&nbsp;&nbsp;</span>Исследовательский анализ данных</a></span></li><li><span><a href=\"#Общий-вывод\" data-toc-modified-id=\"Общий-вывод-5\"><span class=\"toc-item-num\">5&nbsp;&nbsp;</span>Общий вывод</a></span></li><li><span><a href=\"#Чек-лист-готовности-проекта\" data-toc-modified-id=\"Чек-лист-готовности-проекта-6\"><span class=\"toc-item-num\">6&nbsp;&nbsp;</span>Чек-лист готовности проекта</a></span></li></ul></div>"
   ]
  },
  {
   "cell_type": "markdown",
   "metadata": {},
   "source": [
    "# Исследование объявлений о продаже квартир\n",
    "\n",
    "Шаги исследования:\n",
    "1. Изучение данных из файла\n",
    "    - скачиваем необходимые библиотеки\n",
    "    - читаем файл\n",
    "    - изучаем его методом info(): кол-во строк, названия столбцов, типы данных, пропуски\n",
    "    - выводим несколько первых строк с помощью head()\n",
    "2. Предобработка данных\n",
    "    - меняем тип данных и заполняем пропуски, где это необходимо\n",
    "    - проверяем датасет на дубликаты\n",
    "3. Расчёты и добавление результатов в таблицу\n",
    "    - получаем необходимые данные из других столбцов\n",
    "    - при необходимости рассчитываем нужные показатели (цена кв.м и т.д.)\n",
    "    - категоризируем данные (в новом столбце определить тип этажа)\n",
    "4. Исследовательский анализ данных\n",
    "    - получаем описание данных с помощью метода describe().\n",
    "    - строим гистограммы, диаграмы размаха (ящики с усами).\n",
    "    - убираем выбросы и лишние значения\n",
    "    - определяем какие факторы влияют на стоимость с помощью корреляции и сводных таблиц.\n",
    "    - определяем насленные пункты с наибольшим количество объявлений. Выделяем среди них пункты с самой высокой и самой низкой стоимстью кв.м\n",
    "    - определяем границу центра Санкт-Петрбурга с помощью графика изменения стоимости кв.м в зависимости от расстояния от центра.\n",
    "    - выделяем отдельно сегмент квартир в центре Санкт-Петербурга. Изучаем следующие параметры: площадь, цена, число комнат, высота потолков. Определяем влияние факторов (число комнат, этаж, удалённость от центра, дата размещения объявления) на стоимость квартиры. Сравниваем получившиеся результаты с общими выводами по всему датасету.\n",
    "5. Общий вывод\n",
    "    - Кратко описываем полученные результаты."
   ]
  },
  {
   "cell_type": "markdown",
   "metadata": {},
   "source": [
    "## Изучение данных из файла"
   ]
  },
  {
   "cell_type": "code",
   "execution_count": 57,
   "metadata": {},
   "outputs": [],
   "source": [
    "import pandas as pd\n",
    "import matplotlib.pyplot as plt\n",
    "import seaborn as sns"
   ]
  },
  {
   "cell_type": "code",
   "execution_count": 58,
   "metadata": {
    "scrolled": false
   },
   "outputs": [
    {
     "name": "stdout",
     "output_type": "stream",
     "text": [
      "<class 'pandas.core.frame.DataFrame'>\n",
      "RangeIndex: 23699 entries, 0 to 23698\n",
      "Data columns (total 22 columns):\n",
      " #   Column                Non-Null Count  Dtype  \n",
      "---  ------                --------------  -----  \n",
      " 0   total_images          23699 non-null  int64  \n",
      " 1   last_price            23699 non-null  float64\n",
      " 2   total_area            23699 non-null  float64\n",
      " 3   first_day_exposition  23699 non-null  object \n",
      " 4   rooms                 23699 non-null  int64  \n",
      " 5   ceiling_height        14504 non-null  float64\n",
      " 6   floors_total          23613 non-null  float64\n",
      " 7   living_area           21796 non-null  float64\n",
      " 8   floor                 23699 non-null  int64  \n",
      " 9   is_apartment          2775 non-null   object \n",
      " 10  studio                23699 non-null  bool   \n",
      " 11  open_plan             23699 non-null  bool   \n",
      " 12  kitchen_area          21421 non-null  float64\n",
      " 13  balcony               12180 non-null  float64\n",
      " 14  locality_name         23650 non-null  object \n",
      " 15  airports_nearest      18157 non-null  float64\n",
      " 16  cityCenters_nearest   18180 non-null  float64\n",
      " 17  parks_around3000      18181 non-null  float64\n",
      " 18  parks_nearest         8079 non-null   float64\n",
      " 19  ponds_around3000      18181 non-null  float64\n",
      " 20  ponds_nearest         9110 non-null   float64\n",
      " 21  days_exposition       20518 non-null  float64\n",
      "dtypes: bool(2), float64(14), int64(3), object(3)\n",
      "memory usage: 3.7+ MB\n"
     ]
    },
    {
     "data": {
      "text/html": [
       "<div>\n",
       "<style scoped>\n",
       "    .dataframe tbody tr th:only-of-type {\n",
       "        vertical-align: middle;\n",
       "    }\n",
       "\n",
       "    .dataframe tbody tr th {\n",
       "        vertical-align: top;\n",
       "    }\n",
       "\n",
       "    .dataframe thead th {\n",
       "        text-align: right;\n",
       "    }\n",
       "</style>\n",
       "<table border=\"1\" class=\"dataframe\">\n",
       "  <thead>\n",
       "    <tr style=\"text-align: right;\">\n",
       "      <th></th>\n",
       "      <th>total_images</th>\n",
       "      <th>last_price</th>\n",
       "      <th>total_area</th>\n",
       "      <th>first_day_exposition</th>\n",
       "      <th>rooms</th>\n",
       "      <th>ceiling_height</th>\n",
       "      <th>floors_total</th>\n",
       "      <th>living_area</th>\n",
       "      <th>floor</th>\n",
       "      <th>is_apartment</th>\n",
       "      <th>...</th>\n",
       "      <th>kitchen_area</th>\n",
       "      <th>balcony</th>\n",
       "      <th>locality_name</th>\n",
       "      <th>airports_nearest</th>\n",
       "      <th>cityCenters_nearest</th>\n",
       "      <th>parks_around3000</th>\n",
       "      <th>parks_nearest</th>\n",
       "      <th>ponds_around3000</th>\n",
       "      <th>ponds_nearest</th>\n",
       "      <th>days_exposition</th>\n",
       "    </tr>\n",
       "  </thead>\n",
       "  <tbody>\n",
       "    <tr>\n",
       "      <th>0</th>\n",
       "      <td>20</td>\n",
       "      <td>13000000.0</td>\n",
       "      <td>108.0</td>\n",
       "      <td>2019-03-07T00:00:00</td>\n",
       "      <td>3</td>\n",
       "      <td>2.70</td>\n",
       "      <td>16.0</td>\n",
       "      <td>51.0</td>\n",
       "      <td>8</td>\n",
       "      <td>NaN</td>\n",
       "      <td>...</td>\n",
       "      <td>25.0</td>\n",
       "      <td>NaN</td>\n",
       "      <td>Санкт-Петербург</td>\n",
       "      <td>18863.0</td>\n",
       "      <td>16028.0</td>\n",
       "      <td>1.0</td>\n",
       "      <td>482.0</td>\n",
       "      <td>2.0</td>\n",
       "      <td>755.0</td>\n",
       "      <td>NaN</td>\n",
       "    </tr>\n",
       "    <tr>\n",
       "      <th>1</th>\n",
       "      <td>7</td>\n",
       "      <td>3350000.0</td>\n",
       "      <td>40.4</td>\n",
       "      <td>2018-12-04T00:00:00</td>\n",
       "      <td>1</td>\n",
       "      <td>NaN</td>\n",
       "      <td>11.0</td>\n",
       "      <td>18.6</td>\n",
       "      <td>1</td>\n",
       "      <td>NaN</td>\n",
       "      <td>...</td>\n",
       "      <td>11.0</td>\n",
       "      <td>2.0</td>\n",
       "      <td>посёлок Шушары</td>\n",
       "      <td>12817.0</td>\n",
       "      <td>18603.0</td>\n",
       "      <td>0.0</td>\n",
       "      <td>NaN</td>\n",
       "      <td>0.0</td>\n",
       "      <td>NaN</td>\n",
       "      <td>81.0</td>\n",
       "    </tr>\n",
       "    <tr>\n",
       "      <th>2</th>\n",
       "      <td>10</td>\n",
       "      <td>5196000.0</td>\n",
       "      <td>56.0</td>\n",
       "      <td>2015-08-20T00:00:00</td>\n",
       "      <td>2</td>\n",
       "      <td>NaN</td>\n",
       "      <td>5.0</td>\n",
       "      <td>34.3</td>\n",
       "      <td>4</td>\n",
       "      <td>NaN</td>\n",
       "      <td>...</td>\n",
       "      <td>8.3</td>\n",
       "      <td>0.0</td>\n",
       "      <td>Санкт-Петербург</td>\n",
       "      <td>21741.0</td>\n",
       "      <td>13933.0</td>\n",
       "      <td>1.0</td>\n",
       "      <td>90.0</td>\n",
       "      <td>2.0</td>\n",
       "      <td>574.0</td>\n",
       "      <td>558.0</td>\n",
       "    </tr>\n",
       "    <tr>\n",
       "      <th>3</th>\n",
       "      <td>0</td>\n",
       "      <td>64900000.0</td>\n",
       "      <td>159.0</td>\n",
       "      <td>2015-07-24T00:00:00</td>\n",
       "      <td>3</td>\n",
       "      <td>NaN</td>\n",
       "      <td>14.0</td>\n",
       "      <td>NaN</td>\n",
       "      <td>9</td>\n",
       "      <td>NaN</td>\n",
       "      <td>...</td>\n",
       "      <td>NaN</td>\n",
       "      <td>0.0</td>\n",
       "      <td>Санкт-Петербург</td>\n",
       "      <td>28098.0</td>\n",
       "      <td>6800.0</td>\n",
       "      <td>2.0</td>\n",
       "      <td>84.0</td>\n",
       "      <td>3.0</td>\n",
       "      <td>234.0</td>\n",
       "      <td>424.0</td>\n",
       "    </tr>\n",
       "    <tr>\n",
       "      <th>4</th>\n",
       "      <td>2</td>\n",
       "      <td>10000000.0</td>\n",
       "      <td>100.0</td>\n",
       "      <td>2018-06-19T00:00:00</td>\n",
       "      <td>2</td>\n",
       "      <td>3.03</td>\n",
       "      <td>14.0</td>\n",
       "      <td>32.0</td>\n",
       "      <td>13</td>\n",
       "      <td>NaN</td>\n",
       "      <td>...</td>\n",
       "      <td>41.0</td>\n",
       "      <td>NaN</td>\n",
       "      <td>Санкт-Петербург</td>\n",
       "      <td>31856.0</td>\n",
       "      <td>8098.0</td>\n",
       "      <td>2.0</td>\n",
       "      <td>112.0</td>\n",
       "      <td>1.0</td>\n",
       "      <td>48.0</td>\n",
       "      <td>121.0</td>\n",
       "    </tr>\n",
       "  </tbody>\n",
       "</table>\n",
       "<p>5 rows × 22 columns</p>\n",
       "</div>"
      ],
      "text/plain": [
       "   total_images  last_price  total_area first_day_exposition  rooms  \\\n",
       "0            20  13000000.0       108.0  2019-03-07T00:00:00      3   \n",
       "1             7   3350000.0        40.4  2018-12-04T00:00:00      1   \n",
       "2            10   5196000.0        56.0  2015-08-20T00:00:00      2   \n",
       "3             0  64900000.0       159.0  2015-07-24T00:00:00      3   \n",
       "4             2  10000000.0       100.0  2018-06-19T00:00:00      2   \n",
       "\n",
       "   ceiling_height  floors_total  living_area  floor is_apartment  ...  \\\n",
       "0            2.70          16.0         51.0      8          NaN  ...   \n",
       "1             NaN          11.0         18.6      1          NaN  ...   \n",
       "2             NaN           5.0         34.3      4          NaN  ...   \n",
       "3             NaN          14.0          NaN      9          NaN  ...   \n",
       "4            3.03          14.0         32.0     13          NaN  ...   \n",
       "\n",
       "   kitchen_area  balcony    locality_name  airports_nearest  \\\n",
       "0          25.0      NaN  Санкт-Петербург           18863.0   \n",
       "1          11.0      2.0   посёлок Шушары           12817.0   \n",
       "2           8.3      0.0  Санкт-Петербург           21741.0   \n",
       "3           NaN      0.0  Санкт-Петербург           28098.0   \n",
       "4          41.0      NaN  Санкт-Петербург           31856.0   \n",
       "\n",
       "  cityCenters_nearest  parks_around3000  parks_nearest  ponds_around3000  \\\n",
       "0             16028.0               1.0          482.0               2.0   \n",
       "1             18603.0               0.0            NaN               0.0   \n",
       "2             13933.0               1.0           90.0               2.0   \n",
       "3              6800.0               2.0           84.0               3.0   \n",
       "4              8098.0               2.0          112.0               1.0   \n",
       "\n",
       "   ponds_nearest  days_exposition  \n",
       "0          755.0              NaN  \n",
       "1            NaN             81.0  \n",
       "2          574.0            558.0  \n",
       "3          234.0            424.0  \n",
       "4           48.0            121.0  \n",
       "\n",
       "[5 rows x 22 columns]"
      ]
     },
     "metadata": {},
     "output_type": "display_data"
    }
   ],
   "source": [
    "df = pd.read_csv('/datasets/real_estate_data.csv', sep='\\t')\n",
    "df.info()\n",
    "display(df.head())"
   ]
  },
  {
   "cell_type": "code",
   "execution_count": 59,
   "metadata": {},
   "outputs": [],
   "source": [
    "df.rename(columns={'cityCenters_nearest':'city_centers_nearest'}, inplace=True) #Приведём в нормальный вид название столбца"
   ]
  },
  {
   "cell_type": "markdown",
   "metadata": {},
   "source": [
    "### Вывод"
   ]
  },
  {
   "cell_type": "markdown",
   "metadata": {},
   "source": [
    "Пропуски есть в столбцах:\n",
    "- ceiling_height (высота потолка) - Не трогаем, слишком много пропусков. Возможна замена на медиану, так как большая часть квартир имеет потолок стандартного размера. Но важно учитывать Санкт-Петербург, где высота потолка может сильно отличаться из-за коммунальных квартир с высокими потолками.\n",
    "- floors_total (общее числло этажей) - пропусков мало, они составляют очень малую долю, их можно удалить\n",
    "- living_area (жилая площадь) - Не трогаем\n",
    "- is_apartment (является ли квартира апартаментами) - пропуски можно заменить на False, так как скорее всего, если там пропуск, то квартира не является апартаментами. Тип данных можно поменять на bool.\n",
    "- kitchen_area (площадь кухни) - Не трогаем. Вариант замены: на медиану, если это будет необходимо для расчётов\n",
    "- balcony (балкон) - заменить на ноль, так как если там пропуск, то скорее всего балкона нет.\n",
    "- locality_name (место расположения) - лучше удалить строки с пропусками, они составляют малую долю, а если это другой регион, то могут исказить результаты расчётов.\n",
    "- airports_nearest (расстояние до аэропорта) - Не трогаем. Возможно просто не было точного адреса квартиры, чтобы расчитать расстояние или был какой-то сбой в системе (напрмер, если в городе нет аэропорта, то расстояние до него не рассчитывается).\n",
    "- city_centers_nearest (расстояние до центра города) -  Не трогаем, см. пункт выше, но уже до центра города. Были бы координаты или адрес, то можно было бы рассчитать.\n",
    "-  parks_nearest,  ponds_nearest (расстояние до ближайшего парка, пруда) - слишком много пропусков, их тоже лучше не трогать. \n",
    "- parks_around3000, ponds_around3000 (парки и пруды в радиусе 3000 м) - возможно, пропуски в показателях 3000 м связаны с отсутствием явления и его можно заменить на 0. upd: пропуски лучше оставить.\n",
    "- days_exposition (дительность размещения) - Не трогаем. Пропусков более чем 3 тыс. шт. Возможен вариант замены на медианное значение. Пропуск возможно связан с повторной публикацией объявления или сбоем в работе системы."
   ]
  },
  {
   "cell_type": "markdown",
   "metadata": {},
   "source": [
    "## Предобработка данных"
   ]
  },
  {
   "cell_type": "code",
   "execution_count": 60,
   "metadata": {},
   "outputs": [
    {
     "name": "stdout",
     "output_type": "stream",
     "text": [
      "Доли пропусков в столбцах:\n",
      "total_images             | Пропусков нет\n",
      "last_price               | Пропусков нет\n",
      "total_area               | Пропусков нет\n",
      "first_day_exposition     | Пропусков нет\n",
      "rooms                    | Пропусков нет\n",
      "ceiling_height           | 38.80%\n",
      "floors_total             | 0.36%\n",
      "living_area              | 8.03%\n",
      "floor                    | Пропусков нет\n",
      "is_apartment             | 88.29%\n",
      "studio                   | Пропусков нет\n",
      "open_plan                | Пропусков нет\n",
      "kitchen_area             | 9.61%\n",
      "balcony                  | 48.61%\n",
      "locality_name            | 0.21%\n",
      "airports_nearest         | 23.38%\n",
      "city_centers_nearest     | 23.29%\n",
      "parks_around3000         | 23.28%\n",
      "parks_nearest            | 65.91%\n",
      "ponds_around3000         | 23.28%\n",
      "ponds_nearest            | 61.56%\n",
      "days_exposition          | 13.42%\n"
     ]
    }
   ],
   "source": [
    "print('Доли пропусков в столбцах:') #Добавил долю пропусков по столбцам\n",
    "for i in df:\n",
    "    na_share = 0\n",
    "    na_share = df[i].isna().sum()/len(df)\n",
    "    if na_share == 0:\n",
    "        print(f'{i: <25}| Пропусков нет') #Чтобы точно знать, что пропусков нет. Иногда доля пропусков может быть очень незначительна\n",
    "    else:\n",
    "        print(f'{i: <25}| {na_share:.2%}')"
   ]
  },
  {
   "cell_type": "code",
   "execution_count": 61,
   "metadata": {
    "scrolled": true
   },
   "outputs": [
    {
     "name": "stdout",
     "output_type": "stream",
     "text": [
      "[nan False True]\n",
      "2725\n",
      "[nan  2.  0.  1.  5.  4.  3.]\n"
     ]
    }
   ],
   "source": [
    "print(df['is_apartment'].unique())\n",
    "print(df[df['is_apartment'] == False]['total_images'].count())# в столбце с определением апартментов значительная часть непропущенных значений - True. False составляют малую долю.\n",
    "print(df['balcony'].unique()) # Проверял какие значения могут быть в разных столбцах. Сколько балконов может быть? оказывается даже 5."
   ]
  },
  {
   "cell_type": "code",
   "execution_count": 62,
   "metadata": {
    "scrolled": false
   },
   "outputs": [
    {
     "data": {
      "text/html": [
       "<div>\n",
       "<style scoped>\n",
       "    .dataframe tbody tr th:only-of-type {\n",
       "        vertical-align: middle;\n",
       "    }\n",
       "\n",
       "    .dataframe tbody tr th {\n",
       "        vertical-align: top;\n",
       "    }\n",
       "\n",
       "    .dataframe thead th {\n",
       "        text-align: right;\n",
       "    }\n",
       "</style>\n",
       "<table border=\"1\" class=\"dataframe\">\n",
       "  <thead>\n",
       "    <tr style=\"text-align: right;\">\n",
       "      <th></th>\n",
       "      <th>total_images</th>\n",
       "      <th>last_price</th>\n",
       "      <th>total_area</th>\n",
       "      <th>first_day_exposition</th>\n",
       "      <th>rooms</th>\n",
       "      <th>ceiling_height</th>\n",
       "      <th>floors_total</th>\n",
       "      <th>living_area</th>\n",
       "      <th>floor</th>\n",
       "      <th>is_apartment</th>\n",
       "      <th>...</th>\n",
       "      <th>kitchen_area</th>\n",
       "      <th>balcony</th>\n",
       "      <th>locality_name</th>\n",
       "      <th>airports_nearest</th>\n",
       "      <th>city_centers_nearest</th>\n",
       "      <th>parks_around3000</th>\n",
       "      <th>parks_nearest</th>\n",
       "      <th>ponds_around3000</th>\n",
       "      <th>ponds_nearest</th>\n",
       "      <th>days_exposition</th>\n",
       "    </tr>\n",
       "  </thead>\n",
       "  <tbody>\n",
       "    <tr>\n",
       "      <th>0</th>\n",
       "      <td>20</td>\n",
       "      <td>13000000.0</td>\n",
       "      <td>108.0</td>\n",
       "      <td>2019-03-07T00:00:00</td>\n",
       "      <td>3</td>\n",
       "      <td>2.70</td>\n",
       "      <td>16.0</td>\n",
       "      <td>51.0</td>\n",
       "      <td>8</td>\n",
       "      <td>False</td>\n",
       "      <td>...</td>\n",
       "      <td>25.0</td>\n",
       "      <td>0.0</td>\n",
       "      <td>Санкт-Петербург</td>\n",
       "      <td>18863.0</td>\n",
       "      <td>16028.0</td>\n",
       "      <td>1.0</td>\n",
       "      <td>482.0</td>\n",
       "      <td>2.0</td>\n",
       "      <td>755.0</td>\n",
       "      <td>NaN</td>\n",
       "    </tr>\n",
       "    <tr>\n",
       "      <th>1</th>\n",
       "      <td>7</td>\n",
       "      <td>3350000.0</td>\n",
       "      <td>40.4</td>\n",
       "      <td>2018-12-04T00:00:00</td>\n",
       "      <td>1</td>\n",
       "      <td>NaN</td>\n",
       "      <td>11.0</td>\n",
       "      <td>18.6</td>\n",
       "      <td>1</td>\n",
       "      <td>False</td>\n",
       "      <td>...</td>\n",
       "      <td>11.0</td>\n",
       "      <td>2.0</td>\n",
       "      <td>посёлок Шушары</td>\n",
       "      <td>12817.0</td>\n",
       "      <td>18603.0</td>\n",
       "      <td>0.0</td>\n",
       "      <td>NaN</td>\n",
       "      <td>0.0</td>\n",
       "      <td>NaN</td>\n",
       "      <td>81.0</td>\n",
       "    </tr>\n",
       "    <tr>\n",
       "      <th>2</th>\n",
       "      <td>10</td>\n",
       "      <td>5196000.0</td>\n",
       "      <td>56.0</td>\n",
       "      <td>2015-08-20T00:00:00</td>\n",
       "      <td>2</td>\n",
       "      <td>NaN</td>\n",
       "      <td>5.0</td>\n",
       "      <td>34.3</td>\n",
       "      <td>4</td>\n",
       "      <td>False</td>\n",
       "      <td>...</td>\n",
       "      <td>8.3</td>\n",
       "      <td>0.0</td>\n",
       "      <td>Санкт-Петербург</td>\n",
       "      <td>21741.0</td>\n",
       "      <td>13933.0</td>\n",
       "      <td>1.0</td>\n",
       "      <td>90.0</td>\n",
       "      <td>2.0</td>\n",
       "      <td>574.0</td>\n",
       "      <td>558.0</td>\n",
       "    </tr>\n",
       "    <tr>\n",
       "      <th>3</th>\n",
       "      <td>0</td>\n",
       "      <td>64900000.0</td>\n",
       "      <td>159.0</td>\n",
       "      <td>2015-07-24T00:00:00</td>\n",
       "      <td>3</td>\n",
       "      <td>NaN</td>\n",
       "      <td>14.0</td>\n",
       "      <td>NaN</td>\n",
       "      <td>9</td>\n",
       "      <td>False</td>\n",
       "      <td>...</td>\n",
       "      <td>NaN</td>\n",
       "      <td>0.0</td>\n",
       "      <td>Санкт-Петербург</td>\n",
       "      <td>28098.0</td>\n",
       "      <td>6800.0</td>\n",
       "      <td>2.0</td>\n",
       "      <td>84.0</td>\n",
       "      <td>3.0</td>\n",
       "      <td>234.0</td>\n",
       "      <td>424.0</td>\n",
       "    </tr>\n",
       "    <tr>\n",
       "      <th>4</th>\n",
       "      <td>2</td>\n",
       "      <td>10000000.0</td>\n",
       "      <td>100.0</td>\n",
       "      <td>2018-06-19T00:00:00</td>\n",
       "      <td>2</td>\n",
       "      <td>3.03</td>\n",
       "      <td>14.0</td>\n",
       "      <td>32.0</td>\n",
       "      <td>13</td>\n",
       "      <td>False</td>\n",
       "      <td>...</td>\n",
       "      <td>41.0</td>\n",
       "      <td>0.0</td>\n",
       "      <td>Санкт-Петербург</td>\n",
       "      <td>31856.0</td>\n",
       "      <td>8098.0</td>\n",
       "      <td>2.0</td>\n",
       "      <td>112.0</td>\n",
       "      <td>1.0</td>\n",
       "      <td>48.0</td>\n",
       "      <td>121.0</td>\n",
       "    </tr>\n",
       "  </tbody>\n",
       "</table>\n",
       "<p>5 rows × 22 columns</p>\n",
       "</div>"
      ],
      "text/plain": [
       "   total_images  last_price  total_area first_day_exposition  rooms  \\\n",
       "0            20  13000000.0       108.0  2019-03-07T00:00:00      3   \n",
       "1             7   3350000.0        40.4  2018-12-04T00:00:00      1   \n",
       "2            10   5196000.0        56.0  2015-08-20T00:00:00      2   \n",
       "3             0  64900000.0       159.0  2015-07-24T00:00:00      3   \n",
       "4             2  10000000.0       100.0  2018-06-19T00:00:00      2   \n",
       "\n",
       "   ceiling_height  floors_total  living_area  floor  is_apartment  ...  \\\n",
       "0            2.70          16.0         51.0      8         False  ...   \n",
       "1             NaN          11.0         18.6      1         False  ...   \n",
       "2             NaN           5.0         34.3      4         False  ...   \n",
       "3             NaN          14.0          NaN      9         False  ...   \n",
       "4            3.03          14.0         32.0     13         False  ...   \n",
       "\n",
       "   kitchen_area  balcony    locality_name  airports_nearest  \\\n",
       "0          25.0      0.0  Санкт-Петербург           18863.0   \n",
       "1          11.0      2.0   посёлок Шушары           12817.0   \n",
       "2           8.3      0.0  Санкт-Петербург           21741.0   \n",
       "3           NaN      0.0  Санкт-Петербург           28098.0   \n",
       "4          41.0      0.0  Санкт-Петербург           31856.0   \n",
       "\n",
       "  city_centers_nearest  parks_around3000  parks_nearest  ponds_around3000  \\\n",
       "0              16028.0               1.0          482.0               2.0   \n",
       "1              18603.0               0.0            NaN               0.0   \n",
       "2              13933.0               1.0           90.0               2.0   \n",
       "3               6800.0               2.0           84.0               3.0   \n",
       "4               8098.0               2.0          112.0               1.0   \n",
       "\n",
       "   ponds_nearest  days_exposition  \n",
       "0          755.0              NaN  \n",
       "1            NaN             81.0  \n",
       "2          574.0            558.0  \n",
       "3          234.0            424.0  \n",
       "4           48.0            121.0  \n",
       "\n",
       "[5 rows x 22 columns]"
      ]
     },
     "metadata": {},
     "output_type": "display_data"
    }
   ],
   "source": [
    "df['balcony'] = df['balcony'].fillna(0) #проводим замены пропусков в столбце с балконами на 0\n",
    "df['is_apartment'] = df['is_apartment'].fillna(False) #проводим замены пропусков в столбце с апартаментами на False\n",
    "df = df.dropna(subset=['floors_total','locality_name'])\n",
    "display(df.head())"
   ]
  },
  {
   "cell_type": "code",
   "execution_count": 63,
   "metadata": {},
   "outputs": [],
   "source": [
    "#df['ponds_around3000'] = df['ponds_around3000'].fillna(0) #пропуски в этих столбцах лучше оставить, на корреляцию они не повлияют.\n",
    "#df['parks_around3000'] = df['parks_around3000'].fillna(0)"
   ]
  },
  {
   "cell_type": "markdown",
   "metadata": {},
   "source": [
    "Есть явно дорогие квартиры: за 65 млн руб. с площадью 159 кв.м и всего 7 км до центра:)"
   ]
  },
  {
   "cell_type": "markdown",
   "metadata": {},
   "source": [
    "Ещё раз посмотрим на данные и выберем те столбцы, где нужно изменить тип:\n",
    "- В столбце с апартаментами они сами изменились на bool\n",
    "- день публикации изменить на dtype"
   ]
  },
  {
   "cell_type": "code",
   "execution_count": 64,
   "metadata": {},
   "outputs": [],
   "source": [
    "df['first_day_exposition'] = pd.to_datetime(df['first_day_exposition'], format='%Y-%m-%dT%H:%M:%S')#меняем тип данных на datatime"
   ]
  },
  {
   "cell_type": "code",
   "execution_count": 65,
   "metadata": {
    "scrolled": true
   },
   "outputs": [
    {
     "name": "stdout",
     "output_type": "stream",
     "text": [
      "<class 'pandas.core.frame.DataFrame'>\n",
      "Int64Index: 23565 entries, 0 to 23698\n",
      "Data columns (total 22 columns):\n",
      " #   Column                Non-Null Count  Dtype         \n",
      "---  ------                --------------  -----         \n",
      " 0   total_images          23565 non-null  int64         \n",
      " 1   last_price            23565 non-null  float64       \n",
      " 2   total_area            23565 non-null  float64       \n",
      " 3   first_day_exposition  23565 non-null  datetime64[ns]\n",
      " 4   rooms                 23565 non-null  int64         \n",
      " 5   ceiling_height        14481 non-null  float64       \n",
      " 6   floors_total          23565 non-null  float64       \n",
      " 7   living_area           21700 non-null  float64       \n",
      " 8   floor                 23565 non-null  int64         \n",
      " 9   is_apartment          23565 non-null  bool          \n",
      " 10  studio                23565 non-null  bool          \n",
      " 11  open_plan             23565 non-null  bool          \n",
      " 12  kitchen_area          21343 non-null  float64       \n",
      " 13  balcony               23565 non-null  float64       \n",
      " 14  locality_name         23565 non-null  object        \n",
      " 15  airports_nearest      18041 non-null  float64       \n",
      " 16  city_centers_nearest  18064 non-null  float64       \n",
      " 17  parks_around3000      18065 non-null  float64       \n",
      " 18  parks_nearest         8030 non-null   float64       \n",
      " 19  ponds_around3000      18065 non-null  float64       \n",
      " 20  ponds_nearest         9036 non-null   float64       \n",
      " 21  days_exposition       20394 non-null  float64       \n",
      "dtypes: bool(3), datetime64[ns](1), float64(14), int64(3), object(1)\n",
      "memory usage: 3.7+ MB\n"
     ]
    }
   ],
   "source": [
    "df.info()"
   ]
  },
  {
   "cell_type": "code",
   "execution_count": 66,
   "metadata": {
    "scrolled": false
   },
   "outputs": [
    {
     "data": {
      "text/html": [
       "<div>\n",
       "<style scoped>\n",
       "    .dataframe tbody tr th:only-of-type {\n",
       "        vertical-align: middle;\n",
       "    }\n",
       "\n",
       "    .dataframe tbody tr th {\n",
       "        vertical-align: top;\n",
       "    }\n",
       "\n",
       "    .dataframe thead th {\n",
       "        text-align: right;\n",
       "    }\n",
       "</style>\n",
       "<table border=\"1\" class=\"dataframe\">\n",
       "  <thead>\n",
       "    <tr style=\"text-align: right;\">\n",
       "      <th></th>\n",
       "      <th>total_images</th>\n",
       "      <th>last_price</th>\n",
       "      <th>total_area</th>\n",
       "      <th>first_day_exposition</th>\n",
       "      <th>rooms</th>\n",
       "      <th>ceiling_height</th>\n",
       "      <th>floors_total</th>\n",
       "      <th>living_area</th>\n",
       "      <th>floor</th>\n",
       "      <th>is_apartment</th>\n",
       "      <th>...</th>\n",
       "      <th>kitchen_area</th>\n",
       "      <th>balcony</th>\n",
       "      <th>locality_name</th>\n",
       "      <th>airports_nearest</th>\n",
       "      <th>city_centers_nearest</th>\n",
       "      <th>parks_around3000</th>\n",
       "      <th>parks_nearest</th>\n",
       "      <th>ponds_around3000</th>\n",
       "      <th>ponds_nearest</th>\n",
       "      <th>days_exposition</th>\n",
       "    </tr>\n",
       "  </thead>\n",
       "  <tbody>\n",
       "    <tr>\n",
       "      <th>0</th>\n",
       "      <td>20</td>\n",
       "      <td>13000000.0</td>\n",
       "      <td>108.0</td>\n",
       "      <td>2019-03-07</td>\n",
       "      <td>3</td>\n",
       "      <td>2.70</td>\n",
       "      <td>16.0</td>\n",
       "      <td>51.0</td>\n",
       "      <td>8</td>\n",
       "      <td>False</td>\n",
       "      <td>...</td>\n",
       "      <td>25.0</td>\n",
       "      <td>0.0</td>\n",
       "      <td>Санкт-Петербург</td>\n",
       "      <td>18863.0</td>\n",
       "      <td>16028.0</td>\n",
       "      <td>1.0</td>\n",
       "      <td>482.0</td>\n",
       "      <td>2.0</td>\n",
       "      <td>755.0</td>\n",
       "      <td>NaN</td>\n",
       "    </tr>\n",
       "    <tr>\n",
       "      <th>1</th>\n",
       "      <td>7</td>\n",
       "      <td>3350000.0</td>\n",
       "      <td>40.4</td>\n",
       "      <td>2018-12-04</td>\n",
       "      <td>1</td>\n",
       "      <td>NaN</td>\n",
       "      <td>11.0</td>\n",
       "      <td>18.6</td>\n",
       "      <td>1</td>\n",
       "      <td>False</td>\n",
       "      <td>...</td>\n",
       "      <td>11.0</td>\n",
       "      <td>2.0</td>\n",
       "      <td>посёлок Шушары</td>\n",
       "      <td>12817.0</td>\n",
       "      <td>18603.0</td>\n",
       "      <td>0.0</td>\n",
       "      <td>NaN</td>\n",
       "      <td>0.0</td>\n",
       "      <td>NaN</td>\n",
       "      <td>81.0</td>\n",
       "    </tr>\n",
       "    <tr>\n",
       "      <th>2</th>\n",
       "      <td>10</td>\n",
       "      <td>5196000.0</td>\n",
       "      <td>56.0</td>\n",
       "      <td>2015-08-20</td>\n",
       "      <td>2</td>\n",
       "      <td>NaN</td>\n",
       "      <td>5.0</td>\n",
       "      <td>34.3</td>\n",
       "      <td>4</td>\n",
       "      <td>False</td>\n",
       "      <td>...</td>\n",
       "      <td>8.3</td>\n",
       "      <td>0.0</td>\n",
       "      <td>Санкт-Петербург</td>\n",
       "      <td>21741.0</td>\n",
       "      <td>13933.0</td>\n",
       "      <td>1.0</td>\n",
       "      <td>90.0</td>\n",
       "      <td>2.0</td>\n",
       "      <td>574.0</td>\n",
       "      <td>558.0</td>\n",
       "    </tr>\n",
       "    <tr>\n",
       "      <th>3</th>\n",
       "      <td>0</td>\n",
       "      <td>64900000.0</td>\n",
       "      <td>159.0</td>\n",
       "      <td>2015-07-24</td>\n",
       "      <td>3</td>\n",
       "      <td>NaN</td>\n",
       "      <td>14.0</td>\n",
       "      <td>NaN</td>\n",
       "      <td>9</td>\n",
       "      <td>False</td>\n",
       "      <td>...</td>\n",
       "      <td>NaN</td>\n",
       "      <td>0.0</td>\n",
       "      <td>Санкт-Петербург</td>\n",
       "      <td>28098.0</td>\n",
       "      <td>6800.0</td>\n",
       "      <td>2.0</td>\n",
       "      <td>84.0</td>\n",
       "      <td>3.0</td>\n",
       "      <td>234.0</td>\n",
       "      <td>424.0</td>\n",
       "    </tr>\n",
       "    <tr>\n",
       "      <th>4</th>\n",
       "      <td>2</td>\n",
       "      <td>10000000.0</td>\n",
       "      <td>100.0</td>\n",
       "      <td>2018-06-19</td>\n",
       "      <td>2</td>\n",
       "      <td>3.03</td>\n",
       "      <td>14.0</td>\n",
       "      <td>32.0</td>\n",
       "      <td>13</td>\n",
       "      <td>False</td>\n",
       "      <td>...</td>\n",
       "      <td>41.0</td>\n",
       "      <td>0.0</td>\n",
       "      <td>Санкт-Петербург</td>\n",
       "      <td>31856.0</td>\n",
       "      <td>8098.0</td>\n",
       "      <td>2.0</td>\n",
       "      <td>112.0</td>\n",
       "      <td>1.0</td>\n",
       "      <td>48.0</td>\n",
       "      <td>121.0</td>\n",
       "    </tr>\n",
       "  </tbody>\n",
       "</table>\n",
       "<p>5 rows × 22 columns</p>\n",
       "</div>"
      ],
      "text/plain": [
       "   total_images  last_price  total_area first_day_exposition  rooms  \\\n",
       "0            20  13000000.0       108.0           2019-03-07      3   \n",
       "1             7   3350000.0        40.4           2018-12-04      1   \n",
       "2            10   5196000.0        56.0           2015-08-20      2   \n",
       "3             0  64900000.0       159.0           2015-07-24      3   \n",
       "4             2  10000000.0       100.0           2018-06-19      2   \n",
       "\n",
       "   ceiling_height  floors_total  living_area  floor  is_apartment  ...  \\\n",
       "0            2.70          16.0         51.0      8         False  ...   \n",
       "1             NaN          11.0         18.6      1         False  ...   \n",
       "2             NaN           5.0         34.3      4         False  ...   \n",
       "3             NaN          14.0          NaN      9         False  ...   \n",
       "4            3.03          14.0         32.0     13         False  ...   \n",
       "\n",
       "   kitchen_area  balcony    locality_name  airports_nearest  \\\n",
       "0          25.0      0.0  Санкт-Петербург           18863.0   \n",
       "1          11.0      2.0   посёлок Шушары           12817.0   \n",
       "2           8.3      0.0  Санкт-Петербург           21741.0   \n",
       "3           NaN      0.0  Санкт-Петербург           28098.0   \n",
       "4          41.0      0.0  Санкт-Петербург           31856.0   \n",
       "\n",
       "  city_centers_nearest  parks_around3000  parks_nearest  ponds_around3000  \\\n",
       "0              16028.0               1.0          482.0               2.0   \n",
       "1              18603.0               0.0            NaN               0.0   \n",
       "2              13933.0               1.0           90.0               2.0   \n",
       "3               6800.0               2.0           84.0               3.0   \n",
       "4               8098.0               2.0          112.0               1.0   \n",
       "\n",
       "   ponds_nearest  days_exposition  \n",
       "0          755.0              NaN  \n",
       "1            NaN             81.0  \n",
       "2          574.0            558.0  \n",
       "3          234.0            424.0  \n",
       "4           48.0            121.0  \n",
       "\n",
       "[5 rows x 22 columns]"
      ]
     },
     "metadata": {},
     "output_type": "display_data"
    }
   ],
   "source": [
    "display(df.head())# день публикации теперь отображается удобнее, без лишней информации о часах, минутах, секундах."
   ]
  },
  {
   "cell_type": "code",
   "execution_count": 67,
   "metadata": {},
   "outputs": [
    {
     "data": {
      "text/plain": [
       "0"
      ]
     },
     "execution_count": 67,
     "metadata": {},
     "output_type": "execute_result"
    }
   ],
   "source": [
    "df.duplicated().sum() #Дубликатов нет, это хорошо."
   ]
  },
  {
   "cell_type": "code",
   "execution_count": 68,
   "metadata": {
    "scrolled": true
   },
   "outputs": [
    {
     "name": "stdout",
     "output_type": "stream",
     "text": [
      "Доли пропусков в столбцах:\n",
      "total_images             | Пропусков нет\n",
      "last_price               | Пропусков нет\n",
      "total_area               | Пропусков нет\n",
      "first_day_exposition     | Пропусков нет\n",
      "rooms                    | Пропусков нет\n",
      "ceiling_height           | 38.55%\n",
      "floors_total             | Пропусков нет\n",
      "living_area              | 7.91%\n",
      "floor                    | Пропусков нет\n",
      "is_apartment             | Пропусков нет\n",
      "studio                   | Пропусков нет\n",
      "open_plan                | Пропусков нет\n",
      "kitchen_area             | 9.43%\n",
      "balcony                  | Пропусков нет\n",
      "locality_name            | Пропусков нет\n",
      "airports_nearest         | 23.44%\n",
      "city_centers_nearest     | 23.34%\n",
      "parks_around3000         | 23.34%\n",
      "parks_nearest            | 65.92%\n",
      "ponds_around3000         | 23.34%\n",
      "ponds_nearest            | 61.65%\n",
      "days_exposition          | 13.46%\n"
     ]
    }
   ],
   "source": [
    "print('Доли пропусков в столбцах:') #Добавил долю пропусков по столбцам\n",
    "for i in df:\n",
    "    na_share = 0\n",
    "    na_share = df[i].isna().sum()/len(df)\n",
    "    if na_share == 0:\n",
    "        print(f'{i: <25}| Пропусков нет') #Чтобы точно знать, что пропусков нет. Иногда доля пропусков может быть очень незначительна\n",
    "    else:\n",
    "        print(f'{i: <25}| {na_share:.2%}')"
   ]
  },
  {
   "cell_type": "code",
   "execution_count": 69,
   "metadata": {},
   "outputs": [],
   "source": [
    "df['total_area'] = df['total_area'].astype('float32') #замена типов данных у площадей на float32\n",
    "df['living_area'] = df['living_area'].astype('float32')\n",
    "df['kitchen_area'] = df['kitchen_area'].astype('float32')"
   ]
  },
  {
   "cell_type": "markdown",
   "metadata": {},
   "source": [
    "Вывод:\n",
    "\n",
    "Заменил пропуски в столбцах с балконами на 0, а в апартаментах на False. Тип данных самостоятельно поменялся на bool в столбце с апартаментми после удаления пропусков. В столбце с датой публикации поменял тип данных на datatime. У площадей заменил тип данных на float32 для экономии памяти.\n",
    "\n",
    "Строки с пропусками в столбцах floors_total и locality_name составляли менее 1% и я их удалил.\n",
    "\n",
    "Остальные пропуски в столбцах трогать не стал, так как нет четкого и явного значения замену и они составляют значительную часть датафрейма."
   ]
  },
  {
   "cell_type": "markdown",
   "metadata": {},
   "source": [
    "## Расчёты и добавление результатов в таблицу"
   ]
  },
  {
   "cell_type": "code",
   "execution_count": 70,
   "metadata": {},
   "outputs": [],
   "source": [
    "df['sq_m_price'] = df['last_price']/df['total_area'] #новый столбец с ценой кв.м\n",
    "df['exp_weekday'] = df['first_day_exposition'].dt.weekday #получаем новые столбцы с днём недели, месяцем, годом публикации объявления\n",
    "df['exp_month'] = df['first_day_exposition'].dt.month\n",
    "df['exp_year'] = df['first_day_exposition'].dt.year\n",
    "#display(df.loc[(df['floor']/df['floors_total']) > 1]) #проверка, нет ли в данных этажа выше чем этажность здания\n",
    "df['floor_type'] = df['floor'].where(df['floor'] != 1, 'первый').where(df['floor']/df['floors_total'] != 1, 'последний')\n",
    "df['floor_type'] = df['floor_type'].where(df['floor_type'].isin(['первый','последний']), 'другой') #столбец с типами этажа\n",
    "df['ratio_living_total'] = df['living_area']/df['total_area'] #отношение жилой площади к общей\n",
    "df['ratio_kitchen_total'] = df['kitchen_area']/df['total_area'] #отношение кухни к общей площади"
   ]
  },
  {
   "cell_type": "code",
   "execution_count": 72,
   "metadata": {},
   "outputs": [],
   "source": [
    "df['last_price_mln'] = df['last_price']/1000000 #так будет удобнее считать цену и не возиться с кучей нулей."
   ]
  },
  {
   "cell_type": "code",
   "execution_count": 73,
   "metadata": {
    "scrolled": false
   },
   "outputs": [
    {
     "data": {
      "text/html": [
       "<div>\n",
       "<style scoped>\n",
       "    .dataframe tbody tr th:only-of-type {\n",
       "        vertical-align: middle;\n",
       "    }\n",
       "\n",
       "    .dataframe tbody tr th {\n",
       "        vertical-align: top;\n",
       "    }\n",
       "\n",
       "    .dataframe thead th {\n",
       "        text-align: right;\n",
       "    }\n",
       "</style>\n",
       "<table border=\"1\" class=\"dataframe\">\n",
       "  <thead>\n",
       "    <tr style=\"text-align: right;\">\n",
       "      <th></th>\n",
       "      <th>total_images</th>\n",
       "      <th>last_price</th>\n",
       "      <th>total_area</th>\n",
       "      <th>first_day_exposition</th>\n",
       "      <th>rooms</th>\n",
       "      <th>ceiling_height</th>\n",
       "      <th>floors_total</th>\n",
       "      <th>living_area</th>\n",
       "      <th>floor</th>\n",
       "      <th>is_apartment</th>\n",
       "      <th>...</th>\n",
       "      <th>ponds_nearest</th>\n",
       "      <th>days_exposition</th>\n",
       "      <th>sq_m_price</th>\n",
       "      <th>exp_weekday</th>\n",
       "      <th>exp_month</th>\n",
       "      <th>exp_year</th>\n",
       "      <th>floor_type</th>\n",
       "      <th>ratio_living_total</th>\n",
       "      <th>ratio_kitchen_total</th>\n",
       "      <th>last_price_mln</th>\n",
       "    </tr>\n",
       "  </thead>\n",
       "  <tbody>\n",
       "    <tr>\n",
       "      <th>0</th>\n",
       "      <td>20</td>\n",
       "      <td>13000000.0</td>\n",
       "      <td>108.000000</td>\n",
       "      <td>2019-03-07</td>\n",
       "      <td>3</td>\n",
       "      <td>2.70</td>\n",
       "      <td>16.0</td>\n",
       "      <td>51.000000</td>\n",
       "      <td>8</td>\n",
       "      <td>False</td>\n",
       "      <td>...</td>\n",
       "      <td>755.0</td>\n",
       "      <td>NaN</td>\n",
       "      <td>120370.370370</td>\n",
       "      <td>3</td>\n",
       "      <td>3</td>\n",
       "      <td>2019</td>\n",
       "      <td>другой</td>\n",
       "      <td>0.472222</td>\n",
       "      <td>0.231481</td>\n",
       "      <td>13.000</td>\n",
       "    </tr>\n",
       "    <tr>\n",
       "      <th>1</th>\n",
       "      <td>7</td>\n",
       "      <td>3350000.0</td>\n",
       "      <td>40.400002</td>\n",
       "      <td>2018-12-04</td>\n",
       "      <td>1</td>\n",
       "      <td>NaN</td>\n",
       "      <td>11.0</td>\n",
       "      <td>18.600000</td>\n",
       "      <td>1</td>\n",
       "      <td>False</td>\n",
       "      <td>...</td>\n",
       "      <td>NaN</td>\n",
       "      <td>81.0</td>\n",
       "      <td>82920.788947</td>\n",
       "      <td>1</td>\n",
       "      <td>12</td>\n",
       "      <td>2018</td>\n",
       "      <td>первый</td>\n",
       "      <td>0.460396</td>\n",
       "      <td>0.272277</td>\n",
       "      <td>3.350</td>\n",
       "    </tr>\n",
       "    <tr>\n",
       "      <th>2</th>\n",
       "      <td>10</td>\n",
       "      <td>5196000.0</td>\n",
       "      <td>56.000000</td>\n",
       "      <td>2015-08-20</td>\n",
       "      <td>2</td>\n",
       "      <td>NaN</td>\n",
       "      <td>5.0</td>\n",
       "      <td>34.299999</td>\n",
       "      <td>4</td>\n",
       "      <td>False</td>\n",
       "      <td>...</td>\n",
       "      <td>574.0</td>\n",
       "      <td>558.0</td>\n",
       "      <td>92785.714286</td>\n",
       "      <td>3</td>\n",
       "      <td>8</td>\n",
       "      <td>2015</td>\n",
       "      <td>другой</td>\n",
       "      <td>0.612500</td>\n",
       "      <td>0.148214</td>\n",
       "      <td>5.196</td>\n",
       "    </tr>\n",
       "    <tr>\n",
       "      <th>3</th>\n",
       "      <td>0</td>\n",
       "      <td>64900000.0</td>\n",
       "      <td>159.000000</td>\n",
       "      <td>2015-07-24</td>\n",
       "      <td>3</td>\n",
       "      <td>NaN</td>\n",
       "      <td>14.0</td>\n",
       "      <td>NaN</td>\n",
       "      <td>9</td>\n",
       "      <td>False</td>\n",
       "      <td>...</td>\n",
       "      <td>234.0</td>\n",
       "      <td>424.0</td>\n",
       "      <td>408176.100629</td>\n",
       "      <td>4</td>\n",
       "      <td>7</td>\n",
       "      <td>2015</td>\n",
       "      <td>другой</td>\n",
       "      <td>NaN</td>\n",
       "      <td>NaN</td>\n",
       "      <td>64.900</td>\n",
       "    </tr>\n",
       "    <tr>\n",
       "      <th>4</th>\n",
       "      <td>2</td>\n",
       "      <td>10000000.0</td>\n",
       "      <td>100.000000</td>\n",
       "      <td>2018-06-19</td>\n",
       "      <td>2</td>\n",
       "      <td>3.03</td>\n",
       "      <td>14.0</td>\n",
       "      <td>32.000000</td>\n",
       "      <td>13</td>\n",
       "      <td>False</td>\n",
       "      <td>...</td>\n",
       "      <td>48.0</td>\n",
       "      <td>121.0</td>\n",
       "      <td>100000.000000</td>\n",
       "      <td>1</td>\n",
       "      <td>6</td>\n",
       "      <td>2018</td>\n",
       "      <td>другой</td>\n",
       "      <td>0.320000</td>\n",
       "      <td>0.410000</td>\n",
       "      <td>10.000</td>\n",
       "    </tr>\n",
       "    <tr>\n",
       "      <th>5</th>\n",
       "      <td>10</td>\n",
       "      <td>2890000.0</td>\n",
       "      <td>30.400000</td>\n",
       "      <td>2018-09-10</td>\n",
       "      <td>1</td>\n",
       "      <td>NaN</td>\n",
       "      <td>12.0</td>\n",
       "      <td>14.400000</td>\n",
       "      <td>5</td>\n",
       "      <td>False</td>\n",
       "      <td>...</td>\n",
       "      <td>NaN</td>\n",
       "      <td>55.0</td>\n",
       "      <td>95065.790667</td>\n",
       "      <td>0</td>\n",
       "      <td>9</td>\n",
       "      <td>2018</td>\n",
       "      <td>другой</td>\n",
       "      <td>0.473684</td>\n",
       "      <td>0.299342</td>\n",
       "      <td>2.890</td>\n",
       "    </tr>\n",
       "    <tr>\n",
       "      <th>6</th>\n",
       "      <td>6</td>\n",
       "      <td>3700000.0</td>\n",
       "      <td>37.299999</td>\n",
       "      <td>2017-11-02</td>\n",
       "      <td>1</td>\n",
       "      <td>NaN</td>\n",
       "      <td>26.0</td>\n",
       "      <td>10.600000</td>\n",
       "      <td>6</td>\n",
       "      <td>False</td>\n",
       "      <td>...</td>\n",
       "      <td>NaN</td>\n",
       "      <td>155.0</td>\n",
       "      <td>99195.712485</td>\n",
       "      <td>3</td>\n",
       "      <td>11</td>\n",
       "      <td>2017</td>\n",
       "      <td>другой</td>\n",
       "      <td>0.284182</td>\n",
       "      <td>0.386059</td>\n",
       "      <td>3.700</td>\n",
       "    </tr>\n",
       "    <tr>\n",
       "      <th>7</th>\n",
       "      <td>5</td>\n",
       "      <td>7915000.0</td>\n",
       "      <td>71.599998</td>\n",
       "      <td>2019-04-18</td>\n",
       "      <td>2</td>\n",
       "      <td>NaN</td>\n",
       "      <td>24.0</td>\n",
       "      <td>NaN</td>\n",
       "      <td>22</td>\n",
       "      <td>False</td>\n",
       "      <td>...</td>\n",
       "      <td>NaN</td>\n",
       "      <td>NaN</td>\n",
       "      <td>110544.695093</td>\n",
       "      <td>3</td>\n",
       "      <td>4</td>\n",
       "      <td>2019</td>\n",
       "      <td>другой</td>\n",
       "      <td>NaN</td>\n",
       "      <td>0.263966</td>\n",
       "      <td>7.915</td>\n",
       "    </tr>\n",
       "    <tr>\n",
       "      <th>8</th>\n",
       "      <td>20</td>\n",
       "      <td>2900000.0</td>\n",
       "      <td>33.160000</td>\n",
       "      <td>2018-05-23</td>\n",
       "      <td>1</td>\n",
       "      <td>NaN</td>\n",
       "      <td>27.0</td>\n",
       "      <td>15.430000</td>\n",
       "      <td>26</td>\n",
       "      <td>False</td>\n",
       "      <td>...</td>\n",
       "      <td>NaN</td>\n",
       "      <td>189.0</td>\n",
       "      <td>87454.765179</td>\n",
       "      <td>2</td>\n",
       "      <td>5</td>\n",
       "      <td>2018</td>\n",
       "      <td>другой</td>\n",
       "      <td>0.465320</td>\n",
       "      <td>0.265682</td>\n",
       "      <td>2.900</td>\n",
       "    </tr>\n",
       "    <tr>\n",
       "      <th>9</th>\n",
       "      <td>18</td>\n",
       "      <td>5400000.0</td>\n",
       "      <td>61.000000</td>\n",
       "      <td>2017-02-26</td>\n",
       "      <td>3</td>\n",
       "      <td>2.50</td>\n",
       "      <td>9.0</td>\n",
       "      <td>43.599998</td>\n",
       "      <td>7</td>\n",
       "      <td>False</td>\n",
       "      <td>...</td>\n",
       "      <td>NaN</td>\n",
       "      <td>289.0</td>\n",
       "      <td>88524.590164</td>\n",
       "      <td>6</td>\n",
       "      <td>2</td>\n",
       "      <td>2017</td>\n",
       "      <td>другой</td>\n",
       "      <td>0.714754</td>\n",
       "      <td>0.106557</td>\n",
       "      <td>5.400</td>\n",
       "    </tr>\n",
       "    <tr>\n",
       "      <th>10</th>\n",
       "      <td>5</td>\n",
       "      <td>5050000.0</td>\n",
       "      <td>39.599998</td>\n",
       "      <td>2017-11-16</td>\n",
       "      <td>1</td>\n",
       "      <td>2.67</td>\n",
       "      <td>12.0</td>\n",
       "      <td>20.299999</td>\n",
       "      <td>3</td>\n",
       "      <td>False</td>\n",
       "      <td>...</td>\n",
       "      <td>553.0</td>\n",
       "      <td>137.0</td>\n",
       "      <td>127525.257439</td>\n",
       "      <td>3</td>\n",
       "      <td>11</td>\n",
       "      <td>2017</td>\n",
       "      <td>другой</td>\n",
       "      <td>0.512626</td>\n",
       "      <td>0.214646</td>\n",
       "      <td>5.050</td>\n",
       "    </tr>\n",
       "    <tr>\n",
       "      <th>11</th>\n",
       "      <td>9</td>\n",
       "      <td>3300000.0</td>\n",
       "      <td>44.000000</td>\n",
       "      <td>2018-08-27</td>\n",
       "      <td>2</td>\n",
       "      <td>NaN</td>\n",
       "      <td>5.0</td>\n",
       "      <td>31.000000</td>\n",
       "      <td>4</td>\n",
       "      <td>False</td>\n",
       "      <td>...</td>\n",
       "      <td>NaN</td>\n",
       "      <td>7.0</td>\n",
       "      <td>75000.000000</td>\n",
       "      <td>0</td>\n",
       "      <td>8</td>\n",
       "      <td>2018</td>\n",
       "      <td>другой</td>\n",
       "      <td>0.704545</td>\n",
       "      <td>0.136364</td>\n",
       "      <td>3.300</td>\n",
       "    </tr>\n",
       "    <tr>\n",
       "      <th>12</th>\n",
       "      <td>10</td>\n",
       "      <td>3890000.0</td>\n",
       "      <td>54.000000</td>\n",
       "      <td>2016-06-30</td>\n",
       "      <td>2</td>\n",
       "      <td>NaN</td>\n",
       "      <td>5.0</td>\n",
       "      <td>30.000000</td>\n",
       "      <td>5</td>\n",
       "      <td>False</td>\n",
       "      <td>...</td>\n",
       "      <td>NaN</td>\n",
       "      <td>90.0</td>\n",
       "      <td>72037.037037</td>\n",
       "      <td>3</td>\n",
       "      <td>6</td>\n",
       "      <td>2016</td>\n",
       "      <td>последний</td>\n",
       "      <td>0.555556</td>\n",
       "      <td>0.166667</td>\n",
       "      <td>3.890</td>\n",
       "    </tr>\n",
       "    <tr>\n",
       "      <th>13</th>\n",
       "      <td>20</td>\n",
       "      <td>3550000.0</td>\n",
       "      <td>42.799999</td>\n",
       "      <td>2017-07-01</td>\n",
       "      <td>2</td>\n",
       "      <td>2.56</td>\n",
       "      <td>5.0</td>\n",
       "      <td>27.000000</td>\n",
       "      <td>5</td>\n",
       "      <td>False</td>\n",
       "      <td>...</td>\n",
       "      <td>298.0</td>\n",
       "      <td>366.0</td>\n",
       "      <td>82943.926712</td>\n",
       "      <td>5</td>\n",
       "      <td>7</td>\n",
       "      <td>2017</td>\n",
       "      <td>последний</td>\n",
       "      <td>0.630841</td>\n",
       "      <td>0.121495</td>\n",
       "      <td>3.550</td>\n",
       "    </tr>\n",
       "    <tr>\n",
       "      <th>14</th>\n",
       "      <td>1</td>\n",
       "      <td>4400000.0</td>\n",
       "      <td>36.000000</td>\n",
       "      <td>2016-06-23</td>\n",
       "      <td>1</td>\n",
       "      <td>NaN</td>\n",
       "      <td>6.0</td>\n",
       "      <td>17.000000</td>\n",
       "      <td>1</td>\n",
       "      <td>False</td>\n",
       "      <td>...</td>\n",
       "      <td>96.0</td>\n",
       "      <td>203.0</td>\n",
       "      <td>122222.222222</td>\n",
       "      <td>3</td>\n",
       "      <td>6</td>\n",
       "      <td>2016</td>\n",
       "      <td>первый</td>\n",
       "      <td>0.472222</td>\n",
       "      <td>0.222222</td>\n",
       "      <td>4.400</td>\n",
       "    </tr>\n",
       "  </tbody>\n",
       "</table>\n",
       "<p>15 rows × 30 columns</p>\n",
       "</div>"
      ],
      "text/plain": [
       "    total_images  last_price  total_area first_day_exposition  rooms  \\\n",
       "0             20  13000000.0  108.000000           2019-03-07      3   \n",
       "1              7   3350000.0   40.400002           2018-12-04      1   \n",
       "2             10   5196000.0   56.000000           2015-08-20      2   \n",
       "3              0  64900000.0  159.000000           2015-07-24      3   \n",
       "4              2  10000000.0  100.000000           2018-06-19      2   \n",
       "5             10   2890000.0   30.400000           2018-09-10      1   \n",
       "6              6   3700000.0   37.299999           2017-11-02      1   \n",
       "7              5   7915000.0   71.599998           2019-04-18      2   \n",
       "8             20   2900000.0   33.160000           2018-05-23      1   \n",
       "9             18   5400000.0   61.000000           2017-02-26      3   \n",
       "10             5   5050000.0   39.599998           2017-11-16      1   \n",
       "11             9   3300000.0   44.000000           2018-08-27      2   \n",
       "12            10   3890000.0   54.000000           2016-06-30      2   \n",
       "13            20   3550000.0   42.799999           2017-07-01      2   \n",
       "14             1   4400000.0   36.000000           2016-06-23      1   \n",
       "\n",
       "    ceiling_height  floors_total  living_area  floor  is_apartment  ...  \\\n",
       "0             2.70          16.0    51.000000      8         False  ...   \n",
       "1              NaN          11.0    18.600000      1         False  ...   \n",
       "2              NaN           5.0    34.299999      4         False  ...   \n",
       "3              NaN          14.0          NaN      9         False  ...   \n",
       "4             3.03          14.0    32.000000     13         False  ...   \n",
       "5              NaN          12.0    14.400000      5         False  ...   \n",
       "6              NaN          26.0    10.600000      6         False  ...   \n",
       "7              NaN          24.0          NaN     22         False  ...   \n",
       "8              NaN          27.0    15.430000     26         False  ...   \n",
       "9             2.50           9.0    43.599998      7         False  ...   \n",
       "10            2.67          12.0    20.299999      3         False  ...   \n",
       "11             NaN           5.0    31.000000      4         False  ...   \n",
       "12             NaN           5.0    30.000000      5         False  ...   \n",
       "13            2.56           5.0    27.000000      5         False  ...   \n",
       "14             NaN           6.0    17.000000      1         False  ...   \n",
       "\n",
       "    ponds_nearest  days_exposition     sq_m_price  exp_weekday exp_month  \\\n",
       "0           755.0              NaN  120370.370370            3         3   \n",
       "1             NaN             81.0   82920.788947            1        12   \n",
       "2           574.0            558.0   92785.714286            3         8   \n",
       "3           234.0            424.0  408176.100629            4         7   \n",
       "4            48.0            121.0  100000.000000            1         6   \n",
       "5             NaN             55.0   95065.790667            0         9   \n",
       "6             NaN            155.0   99195.712485            3        11   \n",
       "7             NaN              NaN  110544.695093            3         4   \n",
       "8             NaN            189.0   87454.765179            2         5   \n",
       "9             NaN            289.0   88524.590164            6         2   \n",
       "10          553.0            137.0  127525.257439            3        11   \n",
       "11            NaN              7.0   75000.000000            0         8   \n",
       "12            NaN             90.0   72037.037037            3         6   \n",
       "13          298.0            366.0   82943.926712            5         7   \n",
       "14           96.0            203.0  122222.222222            3         6   \n",
       "\n",
       "    exp_year  floor_type  ratio_living_total  ratio_kitchen_total  \\\n",
       "0       2019      другой            0.472222             0.231481   \n",
       "1       2018      первый            0.460396             0.272277   \n",
       "2       2015      другой            0.612500             0.148214   \n",
       "3       2015      другой                 NaN                  NaN   \n",
       "4       2018      другой            0.320000             0.410000   \n",
       "5       2018      другой            0.473684             0.299342   \n",
       "6       2017      другой            0.284182             0.386059   \n",
       "7       2019      другой                 NaN             0.263966   \n",
       "8       2018      другой            0.465320             0.265682   \n",
       "9       2017      другой            0.714754             0.106557   \n",
       "10      2017      другой            0.512626             0.214646   \n",
       "11      2018      другой            0.704545             0.136364   \n",
       "12      2016   последний            0.555556             0.166667   \n",
       "13      2017   последний            0.630841             0.121495   \n",
       "14      2016      первый            0.472222             0.222222   \n",
       "\n",
       "    last_price_mln  \n",
       "0           13.000  \n",
       "1            3.350  \n",
       "2            5.196  \n",
       "3           64.900  \n",
       "4           10.000  \n",
       "5            2.890  \n",
       "6            3.700  \n",
       "7            7.915  \n",
       "8            2.900  \n",
       "9            5.400  \n",
       "10           5.050  \n",
       "11           3.300  \n",
       "12           3.890  \n",
       "13           3.550  \n",
       "14           4.400  \n",
       "\n",
       "[15 rows x 30 columns]"
      ]
     },
     "metadata": {},
     "output_type": "display_data"
    }
   ],
   "source": [
    "display(df.head(15)) #15 строк - чтобы увидеть значения первый, последний, другой в столбце floor_type"
   ]
  },
  {
   "cell_type": "markdown",
   "metadata": {},
   "source": [
    "Добавил все пречисленные в заднии столбцы и ещё один со стоимостью квартиры в млн, чтобы было удобнее считать."
   ]
  },
  {
   "cell_type": "markdown",
   "metadata": {},
   "source": [
    "## Исследовательский анализ данных"
   ]
  },
  {
   "cell_type": "code",
   "execution_count": 74,
   "metadata": {
    "scrolled": true
   },
   "outputs": [
    {
     "data": {
      "text/plain": [
       "count    23565.000000\n",
       "mean        60.322826\n",
       "std         35.657059\n",
       "min         12.000000\n",
       "25%         40.000000\n",
       "50%         52.000000\n",
       "75%         69.699997\n",
       "max        900.000000\n",
       "Name: total_area, dtype: float64"
      ]
     },
     "execution_count": 74,
     "metadata": {},
     "output_type": "execute_result"
    }
   ],
   "source": [
    "df['total_area'].describe()"
   ]
  },
  {
   "cell_type": "markdown",
   "metadata": {},
   "source": [
    "Значения очень похожи на правду, только выбивающиеся значения сильно меняют среднее, что видно по его разнице с медианой. 900 кв.м для квартры многовато. Больше похоже на крупный частный дом."
   ]
  },
  {
   "cell_type": "code",
   "execution_count": 75,
   "metadata": {
    "scrolled": true
   },
   "outputs": [
    {
     "data": {
      "text/plain": [
       "Text(0.5, 0, 'Total area, m2')"
      ]
     },
     "execution_count": 75,
     "metadata": {},
     "output_type": "execute_result"
    },
    {
     "data": {
      "image/png": "[encoded data removed]",
      "text/plain": [
       "<Figure size 432x288 with 1 Axes>"
      ]
     },
     "metadata": {
      "needs_background": "light"
     },
     "output_type": "display_data"
    }
   ],
   "source": [
    "#df['total_area'].hist(bins=50) #пытаемся сначала построить гистограмму, по всем значениям. Видим, что большая часть находится в промежутке от 0 до 300 кв.м\n",
    "df['total_area'].hist(bins=100, range=(0,300)).set_xlabel(\"Total area, m2\", labelpad=20, size=12)\n",
    "#plt.show()\n",
    "#то же самое делаем с другими показателями"
   ]
  },
  {
   "cell_type": "markdown",
   "metadata": {},
   "source": [
    "Возможно пики на гистограмме связаны с типичным метражом квартир. Так, первый пик 25-30 кв.м - типичный метраж однокомнатных квартир, 40-45 кв.м - двухкомнатных, 55-65 кв.м - трёхкомнатных."
   ]
  },
  {
   "cell_type": "code",
   "execution_count": 76,
   "metadata": {
    "scrolled": true
   },
   "outputs": [
    {
     "data": {
      "text/plain": [
       "<AxesSubplot:>"
      ]
     },
     "execution_count": 76,
     "metadata": {},
     "output_type": "execute_result"
    },
    {
     "data": {
      "image/png": "[encoded data removed]",
      "text/plain": [
       "<Figure size 432x288 with 1 Axes>"
      ]
     },
     "metadata": {
      "needs_background": "light"
     },
     "output_type": "display_data"
    }
   ],
   "source": [
    "df['total_area'].plot.box()"
   ]
  },
  {
   "cell_type": "code",
   "execution_count": 77,
   "metadata": {},
   "outputs": [
    {
     "data": {
      "text/plain": [
       "count    23565.000000\n",
       "mean         6.540058\n",
       "std         10.910935\n",
       "min          0.012190\n",
       "25%          3.400000\n",
       "50%          4.646000\n",
       "75%          6.790000\n",
       "max        763.000000\n",
       "Name: last_price_mln, dtype: float64"
      ]
     },
     "execution_count": 77,
     "metadata": {},
     "output_type": "execute_result"
    }
   ],
   "source": [
    "df['last_price_mln'].describe()"
   ]
  },
  {
   "cell_type": "code",
   "execution_count": 78,
   "metadata": {
    "scrolled": true
   },
   "outputs": [
    {
     "data": {
      "text/plain": [
       "Text(0.5, 0, 'Price, mln')"
      ]
     },
     "execution_count": 78,
     "metadata": {},
     "output_type": "execute_result"
    },
    {
     "data": {
      "image/png": "[encoded data removed]",
      "text/plain": [
       "<Figure size 432x288 with 1 Axes>"
      ]
     },
     "metadata": {
      "needs_background": "light"
     },
     "output_type": "display_data"
    }
   ],
   "source": [
    "#df['last_price'].hist(bins=50)\n",
    "df['last_price_mln'].hist(bins=50, range=(0,30)).set_xlabel(\"Price, mln\", labelpad=20, size=12)#красота"
   ]
  },
  {
   "cell_type": "markdown",
   "metadata": {},
   "source": [
    "Средняя цена квартиры составляет 6,5 млн, медиана - 4,6 млн. Возможно стоит убрать выбивающиеся значения, например, максимальное - 763 млн. Они искажают среднюю стоимость и сильно влияют на результаты исследования"
   ]
  },
  {
   "cell_type": "code",
   "execution_count": 79,
   "metadata": {},
   "outputs": [],
   "source": [
    "#df['last_price_mln'].plot.box() #диаграмма размаха менее репрезентативна по сравнению с гистограммой"
   ]
  },
  {
   "cell_type": "code",
   "execution_count": 80,
   "metadata": {},
   "outputs": [
    {
     "data": {
      "text/plain": [
       "count    23565.000000\n",
       "mean         2.070656\n",
       "std          1.078591\n",
       "min          0.000000\n",
       "25%          1.000000\n",
       "50%          2.000000\n",
       "75%          3.000000\n",
       "max         19.000000\n",
       "Name: rooms, dtype: float64"
      ]
     },
     "execution_count": 80,
     "metadata": {},
     "output_type": "execute_result"
    }
   ],
   "source": [
    "df['rooms'].describe()"
   ]
  },
  {
   "cell_type": "code",
   "execution_count": 81,
   "metadata": {
    "scrolled": false
   },
   "outputs": [
    {
     "data": {
      "text/plain": [
       "Text(0.5, 0, 'Rooms')"
      ]
     },
     "execution_count": 81,
     "metadata": {},
     "output_type": "execute_result"
    },
    {
     "data": {
      "image/png": "[encoded data removed]",
      "text/plain": [
       "<Figure size 432x288 with 1 Axes>"
      ]
     },
     "metadata": {
      "needs_background": "light"
     },
     "output_type": "display_data"
    }
   ],
   "source": [
    "#df['rooms'].hist(bins=20) #лучше всего выбрать промежуток от 0 до 9 комнат\n",
    "df['rooms'].hist(bins=9,range=(0,9)).set_xlabel(\"Rooms\", labelpad=20, size=12)"
   ]
  },
  {
   "cell_type": "code",
   "execution_count": 82,
   "metadata": {
    "scrolled": true
   },
   "outputs": [
    {
     "data": {
      "text/plain": [
       "<AxesSubplot:>"
      ]
     },
     "execution_count": 82,
     "metadata": {},
     "output_type": "execute_result"
    },
    {
     "data": {
      "image/png": "[encoded data removed]",
      "text/plain": [
       "<Figure size 432x288 with 1 Axes>"
      ]
     },
     "metadata": {
      "needs_background": "light"
     },
     "output_type": "display_data"
    }
   ],
   "source": [
    "df['rooms'].plot.box()"
   ]
  },
  {
   "cell_type": "markdown",
   "metadata": {},
   "source": [
    "Хорошо видно, что к выбросам можно отнести квартиры с 7 и более комнатами."
   ]
  },
  {
   "cell_type": "code",
   "execution_count": 83,
   "metadata": {
    "scrolled": true
   },
   "outputs": [
    {
     "data": {
      "text/plain": [
       "count    14481.000000\n",
       "mean         2.771283\n",
       "std          1.261983\n",
       "min          1.000000\n",
       "25%          2.510000\n",
       "50%          2.650000\n",
       "75%          2.800000\n",
       "max        100.000000\n",
       "Name: ceiling_height, dtype: float64"
      ]
     },
     "execution_count": 83,
     "metadata": {},
     "output_type": "execute_result"
    }
   ],
   "source": [
    "df['ceiling_height'].describe()"
   ]
  },
  {
   "cell_type": "code",
   "execution_count": 84,
   "metadata": {
    "scrolled": true
   },
   "outputs": [
    {
     "name": "stdout",
     "output_type": "stream",
     "text": [
      "Доля потолков ниже 2.5 метров: 0.003097814555484829\n",
      "Доля потолков выше 4.5 метров: 0.003182686187141948\n"
     ]
    },
    {
     "data": {
      "image/png": "[encoded data removed]",
      "text/plain": [
       "<Figure size 432x288 with 1 Axes>"
      ]
     },
     "metadata": {
      "needs_background": "light"
     },
     "output_type": "display_data"
    }
   ],
   "source": [
    "#df['ceiling_height'].hist(bins=50)\n",
    "df['ceiling_height'].hist(bins=35, range=(2.5,4)).set_xlabel(\"Ceiling height, m\", labelpad=20, size=12)\n",
    "print('Доля потолков ниже 2.5 метров:', len(df.loc[df['ceiling_height'] < 2.5])/len(df))\n",
    "print('Доля потолков выше 4.5 метров:', len(df.loc[df['ceiling_height'] > 4])/len(df))"
   ]
  },
  {
   "cell_type": "markdown",
   "metadata": {},
   "source": [
    "Если выбрать 10 корзин для гистограммы, то мы увидим красивое распределение Пуассона. Но если увеличить число корзин,\n",
    "то видны зубья, что связано с типичной высотой потолков в квартирах в разные временные эпохи: хрущевки - 2,5 м, сталинки (+современный комфорт класс и выше) - 3 и более м, современный эконом/стандарт и поздняя советская застройка - 2,7 м. Потолки ниже 2,5 м и выше 4 м составляют малую долю, поэтому их лучше отбросить."
   ]
  },
  {
   "cell_type": "code",
   "execution_count": 85,
   "metadata": {},
   "outputs": [],
   "source": [
    "#df['ceiling_height'].plot.box() #диаграмма размаха менее репрезентативна по сравнению с гистограммой"
   ]
  },
  {
   "cell_type": "code",
   "execution_count": 86,
   "metadata": {},
   "outputs": [
    {
     "data": {
      "text/plain": [
       "count    20394.000000\n",
       "mean       180.741395\n",
       "std        219.732782\n",
       "min          1.000000\n",
       "25%         45.000000\n",
       "50%         95.000000\n",
       "75%        231.000000\n",
       "max       1580.000000\n",
       "Name: days_exposition, dtype: float64"
      ]
     },
     "execution_count": 86,
     "metadata": {},
     "output_type": "execute_result"
    }
   ],
   "source": [
    "df['days_exposition'].describe()"
   ]
  },
  {
   "cell_type": "code",
   "execution_count": 87,
   "metadata": {},
   "outputs": [
    {
     "data": {
      "text/plain": [
       "Text(0.5, 0, 'Exposition, days')"
      ]
     },
     "execution_count": 87,
     "metadata": {},
     "output_type": "execute_result"
    },
    {
     "data": {
      "image/png": "[encoded data removed]",
      "text/plain": [
       "<Figure size 432x288 with 1 Axes>"
      ]
     },
     "metadata": {
      "needs_background": "light"
     },
     "output_type": "display_data"
    }
   ],
   "source": [
    "df['days_exposition'].hist(bins=50).set_xlabel(\"Exposition, days\", labelpad=20, size=12)"
   ]
  },
  {
   "cell_type": "markdown",
   "metadata": {},
   "source": [
    "Красивое распределение Пуассона. Медиана меньше среднего значения в 2 раза и стоит убрать выбросы. Половина квартир снимается с публикации в течение 3 месяцев. Самая длинная публикация составила более 4 лет. Необычно долгие публикации - те, продажа которых занимает более 425 дней - на графике гистораммы видна ступень на этом значении. Можно ещё проверить это диаграммой размаха."
   ]
  },
  {
   "cell_type": "code",
   "execution_count": 88,
   "metadata": {
    "scrolled": true
   },
   "outputs": [
    {
     "data": {
      "text/plain": [
       "<AxesSubplot:>"
      ]
     },
     "execution_count": 88,
     "metadata": {},
     "output_type": "execute_result"
    },
    {
     "data": {
      "image/png": "[encoded data removed]",
      "text/plain": [
       "<Figure size 432x288 with 1 Axes>"
      ]
     },
     "metadata": {
      "needs_background": "light"
     },
     "output_type": "display_data"
    }
   ],
   "source": [
    "df['days_exposition'].plot.box()"
   ]
  },
  {
   "cell_type": "markdown",
   "metadata": {},
   "source": [
    "Диаграмма размаха показывает, что к необычно долгим продажам относятся квартиры с длительностью публикации более 95+219,7*1,5= 425 дней (медиана плюс 1,5 стандартного отклонения)."
   ]
  },
  {
   "cell_type": "code",
   "execution_count": 89,
   "metadata": {
    "scrolled": true
   },
   "outputs": [
    {
     "name": "stdout",
     "output_type": "stream",
     "text": [
      "0.7650753235730957\n"
     ]
    }
   ],
   "source": [
    "print(len(df.query('days_exposition < 425'))/len(df)) #76,5% квартир продается раньше этого срока."
   ]
  },
  {
   "cell_type": "markdown",
   "metadata": {},
   "source": [
    "Опираясь на данные гистограмм и данные \"ящиков с усами\" (диаграмм размаха) мы можем убрать все выбивающиеся значения и оставить только те, которые использовались в границах построения гистограмм."
   ]
  },
  {
   "cell_type": "code",
   "execution_count": 90,
   "metadata": {
    "scrolled": true
   },
   "outputs": [],
   "source": [
    "#df.iloc[:,:23].describe() #Смотрел выбивающиеся значения по всем столбцам: минимальные и максимальные значения высоты потолков, кол-ва комнат, жилой площади"
   ]
  },
  {
   "cell_type": "code",
   "execution_count": 91,
   "metadata": {
    "scrolled": true
   },
   "outputs": [],
   "source": [
    "#df.iloc[:,23:].describe()"
   ]
  },
  {
   "cell_type": "markdown",
   "metadata": {},
   "source": [
    "Убираем редкие и выбивающиеся значения."
   ]
  },
  {
   "cell_type": "code",
   "execution_count": 92,
   "metadata": {},
   "outputs": [
    {
     "name": "stdout",
     "output_type": "stream",
     "text": [
      "Сколько строк было: 23565\n",
      "Сколько строк удаляем: 657\n",
      "Сколько строк стало: 22908\n"
     ]
    }
   ],
   "source": [
    "print('Сколько строк было:', len(df))\n",
    "print('Сколько строк удаляем:', len(df.query('total_area > 300 | last_price_mln > 30 | last_price_mln < 0.1 | rooms > 9 | rooms < 1 |ceiling_height > 4 | ceiling_height < 2.5'))) #сколько строк относятся к выбросам\n",
    "df = (df.loc[~(df['total_area'] > 300)]\n",
    "      .loc[~(df['last_price_mln'] > 30) & ~(df['last_price_mln'] < 0.1)]\n",
    "      .loc[~(df['rooms'] > 9) & ~(df['rooms'] < 1)]\n",
    "      .loc[~(df['ceiling_height'] > 4) & ~(df['ceiling_height'] < 2.5)])\n",
    "print('Сколько строк стало:', len(df))"
   ]
  },
  {
   "cell_type": "code",
   "execution_count": 93,
   "metadata": {},
   "outputs": [
    {
     "data": {
      "text/html": [
       "<div>\n",
       "<style scoped>\n",
       "    .dataframe tbody tr th:only-of-type {\n",
       "        vertical-align: middle;\n",
       "    }\n",
       "\n",
       "    .dataframe tbody tr th {\n",
       "        vertical-align: top;\n",
       "    }\n",
       "\n",
       "    .dataframe thead th {\n",
       "        text-align: right;\n",
       "    }\n",
       "</style>\n",
       "<table border=\"1\" class=\"dataframe\">\n",
       "  <thead>\n",
       "    <tr style=\"text-align: right;\">\n",
       "      <th></th>\n",
       "      <th>total_area</th>\n",
       "      <th>rooms</th>\n",
       "      <th>city_centers_nearest</th>\n",
       "      <th>last_price_mln</th>\n",
       "    </tr>\n",
       "  </thead>\n",
       "  <tbody>\n",
       "    <tr>\n",
       "      <th>0</th>\n",
       "      <td>108.000000</td>\n",
       "      <td>3</td>\n",
       "      <td>16028.0</td>\n",
       "      <td>13.000</td>\n",
       "    </tr>\n",
       "    <tr>\n",
       "      <th>1</th>\n",
       "      <td>40.400002</td>\n",
       "      <td>1</td>\n",
       "      <td>18603.0</td>\n",
       "      <td>3.350</td>\n",
       "    </tr>\n",
       "    <tr>\n",
       "      <th>2</th>\n",
       "      <td>56.000000</td>\n",
       "      <td>2</td>\n",
       "      <td>13933.0</td>\n",
       "      <td>5.196</td>\n",
       "    </tr>\n",
       "    <tr>\n",
       "      <th>4</th>\n",
       "      <td>100.000000</td>\n",
       "      <td>2</td>\n",
       "      <td>8098.0</td>\n",
       "      <td>10.000</td>\n",
       "    </tr>\n",
       "    <tr>\n",
       "      <th>5</th>\n",
       "      <td>30.400000</td>\n",
       "      <td>1</td>\n",
       "      <td>NaN</td>\n",
       "      <td>2.890</td>\n",
       "    </tr>\n",
       "  </tbody>\n",
       "</table>\n",
       "</div>"
      ],
      "text/plain": [
       "   total_area  rooms  city_centers_nearest  last_price_mln\n",
       "0  108.000000      3               16028.0          13.000\n",
       "1   40.400002      1               18603.0           3.350\n",
       "2   56.000000      2               13933.0           5.196\n",
       "4  100.000000      2                8098.0          10.000\n",
       "5   30.400000      1                   NaN           2.890"
      ]
     },
     "metadata": {},
     "output_type": "display_data"
    }
   ],
   "source": [
    "df_filt = df[['total_area','rooms', 'city_centers_nearest', 'last_price_mln']]\n",
    "display(df_filt.head())"
   ]
  },
  {
   "cell_type": "code",
   "execution_count": 94,
   "metadata": {},
   "outputs": [
    {
     "data": {
      "text/html": [
       "<div>\n",
       "<style scoped>\n",
       "    .dataframe tbody tr th:only-of-type {\n",
       "        vertical-align: middle;\n",
       "    }\n",
       "\n",
       "    .dataframe tbody tr th {\n",
       "        vertical-align: top;\n",
       "    }\n",
       "\n",
       "    .dataframe thead th {\n",
       "        text-align: right;\n",
       "    }\n",
       "</style>\n",
       "<table border=\"1\" class=\"dataframe\">\n",
       "  <thead>\n",
       "    <tr style=\"text-align: right;\">\n",
       "      <th></th>\n",
       "      <th>total_area</th>\n",
       "      <th>rooms</th>\n",
       "      <th>city_centers_nearest</th>\n",
       "      <th>last_price_mln</th>\n",
       "    </tr>\n",
       "  </thead>\n",
       "  <tbody>\n",
       "    <tr>\n",
       "      <th>total_area</th>\n",
       "      <td>1.000000</td>\n",
       "      <td>0.794304</td>\n",
       "      <td>-0.222250</td>\n",
       "      <td>0.791436</td>\n",
       "    </tr>\n",
       "    <tr>\n",
       "      <th>rooms</th>\n",
       "      <td>0.794304</td>\n",
       "      <td>1.000000</td>\n",
       "      <td>-0.165109</td>\n",
       "      <td>0.515630</td>\n",
       "    </tr>\n",
       "    <tr>\n",
       "      <th>city_centers_nearest</th>\n",
       "      <td>-0.222250</td>\n",
       "      <td>-0.165109</td>\n",
       "      <td>1.000000</td>\n",
       "      <td>-0.346786</td>\n",
       "    </tr>\n",
       "    <tr>\n",
       "      <th>last_price_mln</th>\n",
       "      <td>0.791436</td>\n",
       "      <td>0.515630</td>\n",
       "      <td>-0.346786</td>\n",
       "      <td>1.000000</td>\n",
       "    </tr>\n",
       "  </tbody>\n",
       "</table>\n",
       "</div>"
      ],
      "text/plain": [
       "                      total_area     rooms  city_centers_nearest  \\\n",
       "total_area              1.000000  0.794304             -0.222250   \n",
       "rooms                   0.794304  1.000000             -0.165109   \n",
       "city_centers_nearest   -0.222250 -0.165109              1.000000   \n",
       "last_price_mln          0.791436  0.515630             -0.346786   \n",
       "\n",
       "                      last_price_mln  \n",
       "total_area                  0.791436  \n",
       "rooms                       0.515630  \n",
       "city_centers_nearest       -0.346786  \n",
       "last_price_mln              1.000000  "
      ]
     },
     "execution_count": 94,
     "metadata": {},
     "output_type": "execute_result"
    }
   ],
   "source": [
    "df_filt.corr()"
   ]
  },
  {
   "cell_type": "code",
   "execution_count": 95,
   "metadata": {
    "scrolled": true
   },
   "outputs": [
    {
     "data": {
      "text/plain": [
       "<seaborn.axisgrid.PairGrid at 0x7f3e3a9f7f40>"
      ]
     },
     "execution_count": 95,
     "metadata": {},
     "output_type": "execute_result"
    },
    {
     "data": {
      "image/png": "[encoded data removed]",
      "text/plain": [
       "<Figure size 720x720 with 20 Axes>"
      ]
     },
     "metadata": {
      "needs_background": "light"
     },
     "output_type": "display_data"
    }
   ],
   "source": [
    "sns.pairplot(df_filt)"
   ]
  },
  {
   "cell_type": "markdown",
   "metadata": {},
   "source": [
    "Здесь видно явную взамосвязь между площадью квартиры, количеством комнат и ценой. Чем больше комнат и площадь квартиры, тем выше цена. В меньшей мере оказывает влияние на цену квартиры удалённость от центра: чем дальше от центра, тем ниже цена."
   ]
  },
  {
   "cell_type": "markdown",
   "metadata": {},
   "source": [
    "Так как показатель типа этажа (floor_type) категориальный, то построим сводную таблицу."
   ]
  },
  {
   "cell_type": "code",
   "execution_count": 96,
   "metadata": {
    "scrolled": true
   },
   "outputs": [
    {
     "data": {
      "text/html": [
       "<div>\n",
       "<style scoped>\n",
       "    .dataframe tbody tr th:only-of-type {\n",
       "        vertical-align: middle;\n",
       "    }\n",
       "\n",
       "    .dataframe tbody tr th {\n",
       "        vertical-align: top;\n",
       "    }\n",
       "\n",
       "    .dataframe thead tr th {\n",
       "        text-align: left;\n",
       "    }\n",
       "\n",
       "    .dataframe thead tr:last-of-type th {\n",
       "        text-align: right;\n",
       "    }\n",
       "</style>\n",
       "<table border=\"1\" class=\"dataframe\">\n",
       "  <thead>\n",
       "    <tr>\n",
       "      <th></th>\n",
       "      <th>median</th>\n",
       "      <th>count</th>\n",
       "    </tr>\n",
       "    <tr>\n",
       "      <th></th>\n",
       "      <th>last_price_mln</th>\n",
       "      <th>last_price_mln</th>\n",
       "    </tr>\n",
       "    <tr>\n",
       "      <th>floor_type</th>\n",
       "      <th></th>\n",
       "      <th></th>\n",
       "    </tr>\n",
       "  </thead>\n",
       "  <tbody>\n",
       "    <tr>\n",
       "      <th>другой</th>\n",
       "      <td>4.80</td>\n",
       "      <td>16842</td>\n",
       "    </tr>\n",
       "    <tr>\n",
       "      <th>последний</th>\n",
       "      <td>4.25</td>\n",
       "      <td>3232</td>\n",
       "    </tr>\n",
       "    <tr>\n",
       "      <th>первый</th>\n",
       "      <td>3.90</td>\n",
       "      <td>2834</td>\n",
       "    </tr>\n",
       "  </tbody>\n",
       "</table>\n",
       "</div>"
      ],
      "text/plain": [
       "                   median          count\n",
       "           last_price_mln last_price_mln\n",
       "floor_type                              \n",
       "другой               4.80          16842\n",
       "последний            4.25           3232\n",
       "первый               3.90           2834"
      ]
     },
     "metadata": {},
     "output_type": "display_data"
    }
   ],
   "source": [
    "df_floor_type_pt = df.pivot_table(index='floor_type', values='last_price_mln', aggfunc=['median', 'count']).sort_values(by=('median','last_price_mln'), ascending=False)\n",
    "display(df_floor_type_pt)"
   ]
  },
  {
   "cell_type": "code",
   "execution_count": 97,
   "metadata": {},
   "outputs": [
    {
     "data": {
      "text/plain": [
       "<AxesSubplot:xlabel='Floor type', ylabel='mln'>"
      ]
     },
     "execution_count": 97,
     "metadata": {},
     "output_type": "execute_result"
    },
    {
     "data": {
      "image/png": "[encoded data removed]",
      "text/plain": [
       "<Figure size 432x288 with 1 Axes>"
      ]
     },
     "metadata": {
      "needs_background": "light"
     },
     "output_type": "display_data"
    }
   ],
   "source": [
    "df_floor_type_pt.plot(y=('median','last_price_mln'), kind='bar', legend=False, xlabel='Floor type', ylabel='mln')"
   ]
  },
  {
   "cell_type": "markdown",
   "metadata": {},
   "source": [
    "Квартира на первом этаже стоит дешевле, чем на остальных этажах по ряду причин:\n",
    "1. Холодно и влажно: близость к подвалу\n",
    "2. Любопытные прохожие\n",
    "3. Привлекательность для воров\n",
    "4. Живность от магазинов\n",
    "5. Шумно и пыльно, если квартира у дороги\n",
    "6. Вид из окон может быть перекрыт растительностью\n",
    "\n",
    "В современных постройках первые этажи чаще всего отдают под коммерческую недвижимость, что является хорошим вариантом решения проблемы.\n",
    "\n",
    "На последний этаж трудно добираться, особенно если возникнут проблемы с лифтом, а также не все любят вид из окна с большой высоты. Самая высокая цена у других этажей."
   ]
  },
  {
   "cell_type": "markdown",
   "metadata": {},
   "source": [
    "Зависимость цены квартиры от месяца, дня недели и года лучше рассмотреть через сводные таблицы и построить по ним графики, так как здесь цена квартиры может изменяться нелинейно."
   ]
  },
  {
   "cell_type": "code",
   "execution_count": 98,
   "metadata": {
    "scrolled": true
   },
   "outputs": [
    {
     "data": {
      "text/html": [
       "<div>\n",
       "<style scoped>\n",
       "    .dataframe tbody tr th:only-of-type {\n",
       "        vertical-align: middle;\n",
       "    }\n",
       "\n",
       "    .dataframe tbody tr th {\n",
       "        vertical-align: top;\n",
       "    }\n",
       "\n",
       "    .dataframe thead tr th {\n",
       "        text-align: left;\n",
       "    }\n",
       "\n",
       "    .dataframe thead tr:last-of-type th {\n",
       "        text-align: right;\n",
       "    }\n",
       "</style>\n",
       "<table border=\"1\" class=\"dataframe\">\n",
       "  <thead>\n",
       "    <tr>\n",
       "      <th></th>\n",
       "      <th>median</th>\n",
       "      <th>count</th>\n",
       "    </tr>\n",
       "    <tr>\n",
       "      <th></th>\n",
       "      <th>last_price_mln</th>\n",
       "      <th>last_price_mln</th>\n",
       "    </tr>\n",
       "    <tr>\n",
       "      <th>exp_weekday</th>\n",
       "      <th></th>\n",
       "      <th></th>\n",
       "    </tr>\n",
       "  </thead>\n",
       "  <tbody>\n",
       "    <tr>\n",
       "      <th>0</th>\n",
       "      <td>4.60</td>\n",
       "      <td>3504</td>\n",
       "    </tr>\n",
       "    <tr>\n",
       "      <th>1</th>\n",
       "      <td>4.70</td>\n",
       "      <td>4053</td>\n",
       "    </tr>\n",
       "    <tr>\n",
       "      <th>2</th>\n",
       "      <td>4.70</td>\n",
       "      <td>3847</td>\n",
       "    </tr>\n",
       "    <tr>\n",
       "      <th>3</th>\n",
       "      <td>4.60</td>\n",
       "      <td>4142</td>\n",
       "    </tr>\n",
       "    <tr>\n",
       "      <th>4</th>\n",
       "      <td>4.55</td>\n",
       "      <td>3861</td>\n",
       "    </tr>\n",
       "    <tr>\n",
       "      <th>5</th>\n",
       "      <td>4.50</td>\n",
       "      <td>1871</td>\n",
       "    </tr>\n",
       "    <tr>\n",
       "      <th>6</th>\n",
       "      <td>4.50</td>\n",
       "      <td>1630</td>\n",
       "    </tr>\n",
       "  </tbody>\n",
       "</table>\n",
       "</div>"
      ],
      "text/plain": [
       "                    median          count\n",
       "            last_price_mln last_price_mln\n",
       "exp_weekday                              \n",
       "0                     4.60           3504\n",
       "1                     4.70           4053\n",
       "2                     4.70           3847\n",
       "3                     4.60           4142\n",
       "4                     4.55           3861\n",
       "5                     4.50           1871\n",
       "6                     4.50           1630"
      ]
     },
     "metadata": {},
     "output_type": "display_data"
    }
   ],
   "source": [
    "df_weekday_pt = df.pivot_table(index='exp_weekday', values='last_price_mln', aggfunc=['median', 'count'])\n",
    "display(df_weekday_pt)"
   ]
  },
  {
   "cell_type": "code",
   "execution_count": 99,
   "metadata": {},
   "outputs": [
    {
     "data": {
      "text/plain": [
       "<AxesSubplot:xlabel='Weekday', ylabel='mln'>"
      ]
     },
     "execution_count": 99,
     "metadata": {},
     "output_type": "execute_result"
    },
    {
     "data": {
      "image/png": "[encoded data removed]",
      "text/plain": [
       "<Figure size 432x288 with 1 Axes>"
      ]
     },
     "metadata": {
      "needs_background": "light"
     },
     "output_type": "display_data"
    }
   ],
   "source": [
    "df_weekday_pt.plot(y=('median','last_price_mln'), kind='bar', legend=False, xlabel='Weekday', ylabel='mln')"
   ]
  },
  {
   "cell_type": "markdown",
   "metadata": {},
   "source": [
    "По дням недели разница минимальная и находится в пределах погрешности."
   ]
  },
  {
   "cell_type": "code",
   "execution_count": 100,
   "metadata": {},
   "outputs": [
    {
     "data": {
      "text/html": [
       "<div>\n",
       "<style scoped>\n",
       "    .dataframe tbody tr th:only-of-type {\n",
       "        vertical-align: middle;\n",
       "    }\n",
       "\n",
       "    .dataframe tbody tr th {\n",
       "        vertical-align: top;\n",
       "    }\n",
       "\n",
       "    .dataframe thead tr th {\n",
       "        text-align: left;\n",
       "    }\n",
       "\n",
       "    .dataframe thead tr:last-of-type th {\n",
       "        text-align: right;\n",
       "    }\n",
       "</style>\n",
       "<table border=\"1\" class=\"dataframe\">\n",
       "  <thead>\n",
       "    <tr>\n",
       "      <th></th>\n",
       "      <th>median</th>\n",
       "      <th>count</th>\n",
       "    </tr>\n",
       "    <tr>\n",
       "      <th></th>\n",
       "      <th>last_price_mln</th>\n",
       "      <th>last_price_mln</th>\n",
       "    </tr>\n",
       "    <tr>\n",
       "      <th>exp_month</th>\n",
       "      <th></th>\n",
       "      <th></th>\n",
       "    </tr>\n",
       "  </thead>\n",
       "  <tbody>\n",
       "    <tr>\n",
       "      <th>1</th>\n",
       "      <td>4.6000</td>\n",
       "      <td>1444</td>\n",
       "    </tr>\n",
       "    <tr>\n",
       "      <th>2</th>\n",
       "      <td>4.6500</td>\n",
       "      <td>2567</td>\n",
       "    </tr>\n",
       "    <tr>\n",
       "      <th>3</th>\n",
       "      <td>4.6375</td>\n",
       "      <td>2504</td>\n",
       "    </tr>\n",
       "    <tr>\n",
       "      <th>4</th>\n",
       "      <td>4.7995</td>\n",
       "      <td>2308</td>\n",
       "    </tr>\n",
       "    <tr>\n",
       "      <th>5</th>\n",
       "      <td>4.5000</td>\n",
       "      <td>1224</td>\n",
       "    </tr>\n",
       "    <tr>\n",
       "      <th>6</th>\n",
       "      <td>4.3900</td>\n",
       "      <td>1707</td>\n",
       "    </tr>\n",
       "    <tr>\n",
       "      <th>7</th>\n",
       "      <td>4.6000</td>\n",
       "      <td>1636</td>\n",
       "    </tr>\n",
       "    <tr>\n",
       "      <th>8</th>\n",
       "      <td>4.5700</td>\n",
       "      <td>1683</td>\n",
       "    </tr>\n",
       "    <tr>\n",
       "      <th>9</th>\n",
       "      <td>4.6995</td>\n",
       "      <td>1912</td>\n",
       "    </tr>\n",
       "    <tr>\n",
       "      <th>10</th>\n",
       "      <td>4.5700</td>\n",
       "      <td>2059</td>\n",
       "    </tr>\n",
       "    <tr>\n",
       "      <th>11</th>\n",
       "      <td>4.6990</td>\n",
       "      <td>2277</td>\n",
       "    </tr>\n",
       "    <tr>\n",
       "      <th>12</th>\n",
       "      <td>4.6900</td>\n",
       "      <td>1587</td>\n",
       "    </tr>\n",
       "  </tbody>\n",
       "</table>\n",
       "</div>"
      ],
      "text/plain": [
       "                  median          count\n",
       "          last_price_mln last_price_mln\n",
       "exp_month                              \n",
       "1                 4.6000           1444\n",
       "2                 4.6500           2567\n",
       "3                 4.6375           2504\n",
       "4                 4.7995           2308\n",
       "5                 4.5000           1224\n",
       "6                 4.3900           1707\n",
       "7                 4.6000           1636\n",
       "8                 4.5700           1683\n",
       "9                 4.6995           1912\n",
       "10                4.5700           2059\n",
       "11                4.6990           2277\n",
       "12                4.6900           1587"
      ]
     },
     "metadata": {},
     "output_type": "display_data"
    }
   ],
   "source": [
    "df_month_pt = df.pivot_table(index='exp_month', values='last_price_mln', aggfunc=['median', 'count']) \n",
    "display(df_month_pt)"
   ]
  },
  {
   "cell_type": "code",
   "execution_count": 101,
   "metadata": {},
   "outputs": [
    {
     "data": {
      "text/plain": [
       "<AxesSubplot:xlabel='Month', ylabel='mln'>"
      ]
     },
     "execution_count": 101,
     "metadata": {},
     "output_type": "execute_result"
    },
    {
     "data": {
      "image/png": "[encoded data removed]",
      "text/plain": [
       "<Figure size 432x288 with 1 Axes>"
      ]
     },
     "metadata": {
      "needs_background": "light"
     },
     "output_type": "display_data"
    }
   ],
   "source": [
    "df_month_pt.plot(y=('median','last_price_mln'), kind='bar', legend=False, xlabel='Month', ylabel='mln')"
   ]
  },
  {
   "cell_type": "markdown",
   "metadata": {},
   "source": [
    "На графике видно увеличение стоимости квартир с начала года до апреля (на сленге риелторов: \"народ отходит от новогодних праздников и рынок оживает\"), а затем видно снижение стоимости квартир с мая по июнь, что возможно связано с приблежением сезона отпусков и падением спроса на квартиры. К осени средние цены на квартиры восстанавливаются."
   ]
  },
  {
   "cell_type": "code",
   "execution_count": 102,
   "metadata": {
    "scrolled": true
   },
   "outputs": [
    {
     "data": {
      "text/html": [
       "<div>\n",
       "<style scoped>\n",
       "    .dataframe tbody tr th:only-of-type {\n",
       "        vertical-align: middle;\n",
       "    }\n",
       "\n",
       "    .dataframe tbody tr th {\n",
       "        vertical-align: top;\n",
       "    }\n",
       "\n",
       "    .dataframe thead tr th {\n",
       "        text-align: left;\n",
       "    }\n",
       "\n",
       "    .dataframe thead tr:last-of-type th {\n",
       "        text-align: right;\n",
       "    }\n",
       "</style>\n",
       "<table border=\"1\" class=\"dataframe\">\n",
       "  <thead>\n",
       "    <tr>\n",
       "      <th></th>\n",
       "      <th>median</th>\n",
       "      <th>count</th>\n",
       "    </tr>\n",
       "    <tr>\n",
       "      <th></th>\n",
       "      <th>last_price_mln</th>\n",
       "      <th>last_price_mln</th>\n",
       "    </tr>\n",
       "    <tr>\n",
       "      <th>exp_year</th>\n",
       "      <th></th>\n",
       "      <th></th>\n",
       "    </tr>\n",
       "  </thead>\n",
       "  <tbody>\n",
       "    <tr>\n",
       "      <th>2014</th>\n",
       "      <td>7.38828</td>\n",
       "      <td>128</td>\n",
       "    </tr>\n",
       "    <tr>\n",
       "      <th>2015</th>\n",
       "      <td>5.20000</td>\n",
       "      <td>1120</td>\n",
       "    </tr>\n",
       "    <tr>\n",
       "      <th>2016</th>\n",
       "      <td>4.50000</td>\n",
       "      <td>2675</td>\n",
       "    </tr>\n",
       "    <tr>\n",
       "      <th>2017</th>\n",
       "      <td>4.50000</td>\n",
       "      <td>7901</td>\n",
       "    </tr>\n",
       "    <tr>\n",
       "      <th>2018</th>\n",
       "      <td>4.57000</td>\n",
       "      <td>8287</td>\n",
       "    </tr>\n",
       "    <tr>\n",
       "      <th>2019</th>\n",
       "      <td>5.00000</td>\n",
       "      <td>2797</td>\n",
       "    </tr>\n",
       "  </tbody>\n",
       "</table>\n",
       "</div>"
      ],
      "text/plain": [
       "                 median          count\n",
       "         last_price_mln last_price_mln\n",
       "exp_year                              \n",
       "2014            7.38828            128\n",
       "2015            5.20000           1120\n",
       "2016            4.50000           2675\n",
       "2017            4.50000           7901\n",
       "2018            4.57000           8287\n",
       "2019            5.00000           2797"
      ]
     },
     "metadata": {},
     "output_type": "display_data"
    }
   ],
   "source": [
    "df_year_pt = df.pivot_table(index='exp_year', values='last_price_mln', aggfunc=['median', 'count'])\n",
    "display(df_year_pt)"
   ]
  },
  {
   "cell_type": "code",
   "execution_count": 103,
   "metadata": {},
   "outputs": [
    {
     "data": {
      "text/plain": [
       "<AxesSubplot:xlabel='Year', ylabel='mln'>"
      ]
     },
     "execution_count": 103,
     "metadata": {},
     "output_type": "execute_result"
    },
    {
     "data": {
      "image/png": "[encoded data removed]",
      "text/plain": [
       "<Figure size 432x288 with 1 Axes>"
      ]
     },
     "metadata": {
      "needs_background": "light"
     },
     "output_type": "display_data"
    }
   ],
   "source": [
    "df_year_pt.plot(y=('median','last_price_mln'), kind='bar', legend=False, xlabel='Year', ylabel='mln')"
   ]
  },
  {
   "cell_type": "markdown",
   "metadata": {},
   "source": [
    "Очень мало объявлений в 2014 году, поэтому выборка с учётом этого года может быть нерепрезентативна (слабая представленность одной из групп). Правильно рассмотреть период 2015-2019 гг. В 2015 году цены на недвижимость находились на высоком уровне, так как было значительное колебание курса валюты и высокий темп инфляции. В этот преиод люди пытались сохранить свои деньги (вложение в недвижимость было одним из таких способов). В 2016 году произошёл спад цен на квартиры в связи с укреплением курса рубля и стабилизацией экономической ситуации.\n",
    "\n",
    "В 2017-2019 гг. происходил постепенный рост цен, что связано с ростом курса доллара и увеличением цен на некоторые строительные материалы. Или, предположительно, с введением программы семейной ипотеки, которая позволила покупать семьям с детьми жилье в ипотеку под низкий процент (6%), что увеличило спрос. "
   ]
  },
  {
   "cell_type": "code",
   "execution_count": 104,
   "metadata": {},
   "outputs": [],
   "source": [
    "top_publ = df['locality_name'].value_counts().head(10).index"
   ]
  },
  {
   "cell_type": "code",
   "execution_count": 105,
   "metadata": {
    "scrolled": false
   },
   "outputs": [
    {
     "data": {
      "text/html": [
       "<div>\n",
       "<style scoped>\n",
       "    .dataframe tbody tr th:only-of-type {\n",
       "        vertical-align: middle;\n",
       "    }\n",
       "\n",
       "    .dataframe tbody tr th {\n",
       "        vertical-align: top;\n",
       "    }\n",
       "\n",
       "    .dataframe thead tr th {\n",
       "        text-align: left;\n",
       "    }\n",
       "\n",
       "    .dataframe thead tr:last-of-type th {\n",
       "        text-align: right;\n",
       "    }\n",
       "</style>\n",
       "<table border=\"1\" class=\"dataframe\">\n",
       "  <thead>\n",
       "    <tr>\n",
       "      <th></th>\n",
       "      <th>median</th>\n",
       "      <th>mean</th>\n",
       "      <th>count</th>\n",
       "    </tr>\n",
       "    <tr>\n",
       "      <th></th>\n",
       "      <th>sq_m_price</th>\n",
       "      <th>sq_m_price</th>\n",
       "      <th>sq_m_price</th>\n",
       "    </tr>\n",
       "    <tr>\n",
       "      <th>locality_name</th>\n",
       "      <th></th>\n",
       "      <th></th>\n",
       "      <th></th>\n",
       "    </tr>\n",
       "  </thead>\n",
       "  <tbody>\n",
       "    <tr>\n",
       "      <th>Санкт-Петербург</th>\n",
       "      <td>104033.973646</td>\n",
       "      <td>110461.296946</td>\n",
       "      <td>15139</td>\n",
       "    </tr>\n",
       "    <tr>\n",
       "      <th>Пушкин</th>\n",
       "      <td>99987.179487</td>\n",
       "      <td>103084.708140</td>\n",
       "      <td>363</td>\n",
       "    </tr>\n",
       "    <tr>\n",
       "      <th>посёлок Парголово</th>\n",
       "      <td>91984.437700</td>\n",
       "      <td>90320.008942</td>\n",
       "      <td>322</td>\n",
       "    </tr>\n",
       "    <tr>\n",
       "      <th>деревня Кудрово</th>\n",
       "      <td>91666.666667</td>\n",
       "      <td>92297.218760</td>\n",
       "      <td>283</td>\n",
       "    </tr>\n",
       "    <tr>\n",
       "      <th>посёлок Мурино</th>\n",
       "      <td>84285.714286</td>\n",
       "      <td>85076.238764</td>\n",
       "      <td>493</td>\n",
       "    </tr>\n",
       "    <tr>\n",
       "      <th>посёлок Шушары</th>\n",
       "      <td>76666.666667</td>\n",
       "      <td>78277.935486</td>\n",
       "      <td>435</td>\n",
       "    </tr>\n",
       "    <tr>\n",
       "      <th>Колпино</th>\n",
       "      <td>74723.748474</td>\n",
       "      <td>75352.475490</td>\n",
       "      <td>336</td>\n",
       "    </tr>\n",
       "    <tr>\n",
       "      <th>Гатчина</th>\n",
       "      <td>67860.570210</td>\n",
       "      <td>68757.678558</td>\n",
       "      <td>306</td>\n",
       "    </tr>\n",
       "    <tr>\n",
       "      <th>Всеволожск</th>\n",
       "      <td>65789.473684</td>\n",
       "      <td>68634.058496</td>\n",
       "      <td>390</td>\n",
       "    </tr>\n",
       "    <tr>\n",
       "      <th>Выборг</th>\n",
       "      <td>58233.005372</td>\n",
       "      <td>58190.127945</td>\n",
       "      <td>234</td>\n",
       "    </tr>\n",
       "  </tbody>\n",
       "</table>\n",
       "</div>"
      ],
      "text/plain": [
       "                          median           mean      count\n",
       "                      sq_m_price     sq_m_price sq_m_price\n",
       "locality_name                                             \n",
       "Санкт-Петербург    104033.973646  110461.296946      15139\n",
       "Пушкин              99987.179487  103084.708140        363\n",
       "посёлок Парголово   91984.437700   90320.008942        322\n",
       "деревня Кудрово     91666.666667   92297.218760        283\n",
       "посёлок Мурино      84285.714286   85076.238764        493\n",
       "посёлок Шушары      76666.666667   78277.935486        435\n",
       "Колпино             74723.748474   75352.475490        336\n",
       "Гатчина             67860.570210   68757.678558        306\n",
       "Всеволожск          65789.473684   68634.058496        390\n",
       "Выборг              58233.005372   58190.127945        234"
      ]
     },
     "metadata": {},
     "output_type": "display_data"
    }
   ],
   "source": [
    "df_top_10_publ = df.query('locality_name.isin(@top_publ)').pivot_table(index='locality_name', values='sq_m_price', aggfunc=['median', 'mean', 'count']).sort_values(by=('median','sq_m_price'), ascending=False)\n",
    "display(df_top_10_publ)"
   ]
  },
  {
   "cell_type": "code",
   "execution_count": 106,
   "metadata": {},
   "outputs": [
    {
     "data": {
      "text/plain": [
       "<AxesSubplot:xlabel='Top 10 cities with the most publications', ylabel='Rub/m2'>"
      ]
     },
     "execution_count": 106,
     "metadata": {},
     "output_type": "execute_result"
    },
    {
     "data": {
      "image/png": "[encoded data removed]",
      "text/plain": [
       "<Figure size 432x288 with 1 Axes>"
      ]
     },
     "metadata": {
      "needs_background": "light"
     },
     "output_type": "display_data"
    }
   ],
   "source": [
    "df_top_10_publ.plot(y=('median','sq_m_price'), kind='bar', legend=False, xlabel='Top 10 cities with the most publications', ylabel='Rub/m2')"
   ]
  },
  {
   "cell_type": "markdown",
   "metadata": {},
   "source": [
    "Самые дорогие квартиры в Санкт-Петербурге и Пушкине. Также высокие цены в Кудрово и Парголово. Самые низкие цены - в Гатчине, Всеволжске и Выборге. "
   ]
  },
  {
   "cell_type": "code",
   "execution_count": 107,
   "metadata": {},
   "outputs": [
    {
     "name": "stderr",
     "output_type": "stream",
     "text": [
      "/tmp/ipykernel_36/1760451504.py:2: SettingWithCopyWarning: \n",
      "A value is trying to be set on a copy of a slice from a DataFrame.\n",
      "Try using .loc[row_indexer,col_indexer] = value instead\n",
      "\n",
      "See the caveats in the documentation: https://pandas.pydata.org/pandas-docs/stable/user_guide/indexing.html#returning-a-view-versus-a-copy\n",
      "  df_spb['city_center_km'] = df_spb['city_centers_nearest']/1000\n",
      "/tmp/ipykernel_36/1760451504.py:3: SettingWithCopyWarning: \n",
      "A value is trying to be set on a copy of a slice from a DataFrame.\n",
      "Try using .loc[row_indexer,col_indexer] = value instead\n",
      "\n",
      "See the caveats in the documentation: https://pandas.pydata.org/pandas-docs/stable/user_guide/indexing.html#returning-a-view-versus-a-copy\n",
      "  df_spb['city_center_km'] = df_spb['city_center_km'].round(0)\n"
     ]
    },
    {
     "data": {
      "text/html": [
       "<div>\n",
       "<style scoped>\n",
       "    .dataframe tbody tr th:only-of-type {\n",
       "        vertical-align: middle;\n",
       "    }\n",
       "\n",
       "    .dataframe tbody tr th {\n",
       "        vertical-align: top;\n",
       "    }\n",
       "\n",
       "    .dataframe thead th {\n",
       "        text-align: right;\n",
       "    }\n",
       "</style>\n",
       "<table border=\"1\" class=\"dataframe\">\n",
       "  <thead>\n",
       "    <tr style=\"text-align: right;\">\n",
       "      <th></th>\n",
       "      <th>total_images</th>\n",
       "      <th>last_price</th>\n",
       "      <th>total_area</th>\n",
       "      <th>first_day_exposition</th>\n",
       "      <th>rooms</th>\n",
       "      <th>ceiling_height</th>\n",
       "      <th>floors_total</th>\n",
       "      <th>living_area</th>\n",
       "      <th>floor</th>\n",
       "      <th>is_apartment</th>\n",
       "      <th>...</th>\n",
       "      <th>days_exposition</th>\n",
       "      <th>sq_m_price</th>\n",
       "      <th>exp_weekday</th>\n",
       "      <th>exp_month</th>\n",
       "      <th>exp_year</th>\n",
       "      <th>floor_type</th>\n",
       "      <th>ratio_living_total</th>\n",
       "      <th>ratio_kitchen_total</th>\n",
       "      <th>last_price_mln</th>\n",
       "      <th>city_center_km</th>\n",
       "    </tr>\n",
       "  </thead>\n",
       "  <tbody>\n",
       "    <tr>\n",
       "      <th>0</th>\n",
       "      <td>20</td>\n",
       "      <td>13000000.0</td>\n",
       "      <td>108.000000</td>\n",
       "      <td>2019-03-07</td>\n",
       "      <td>3</td>\n",
       "      <td>2.70</td>\n",
       "      <td>16.0</td>\n",
       "      <td>51.000000</td>\n",
       "      <td>8</td>\n",
       "      <td>False</td>\n",
       "      <td>...</td>\n",
       "      <td>NaN</td>\n",
       "      <td>120370.370370</td>\n",
       "      <td>3</td>\n",
       "      <td>3</td>\n",
       "      <td>2019</td>\n",
       "      <td>другой</td>\n",
       "      <td>0.472222</td>\n",
       "      <td>0.231481</td>\n",
       "      <td>13.000</td>\n",
       "      <td>16.0</td>\n",
       "    </tr>\n",
       "    <tr>\n",
       "      <th>2</th>\n",
       "      <td>10</td>\n",
       "      <td>5196000.0</td>\n",
       "      <td>56.000000</td>\n",
       "      <td>2015-08-20</td>\n",
       "      <td>2</td>\n",
       "      <td>NaN</td>\n",
       "      <td>5.0</td>\n",
       "      <td>34.299999</td>\n",
       "      <td>4</td>\n",
       "      <td>False</td>\n",
       "      <td>...</td>\n",
       "      <td>558.0</td>\n",
       "      <td>92785.714286</td>\n",
       "      <td>3</td>\n",
       "      <td>8</td>\n",
       "      <td>2015</td>\n",
       "      <td>другой</td>\n",
       "      <td>0.612500</td>\n",
       "      <td>0.148214</td>\n",
       "      <td>5.196</td>\n",
       "      <td>14.0</td>\n",
       "    </tr>\n",
       "    <tr>\n",
       "      <th>4</th>\n",
       "      <td>2</td>\n",
       "      <td>10000000.0</td>\n",
       "      <td>100.000000</td>\n",
       "      <td>2018-06-19</td>\n",
       "      <td>2</td>\n",
       "      <td>3.03</td>\n",
       "      <td>14.0</td>\n",
       "      <td>32.000000</td>\n",
       "      <td>13</td>\n",
       "      <td>False</td>\n",
       "      <td>...</td>\n",
       "      <td>121.0</td>\n",
       "      <td>100000.000000</td>\n",
       "      <td>1</td>\n",
       "      <td>6</td>\n",
       "      <td>2018</td>\n",
       "      <td>другой</td>\n",
       "      <td>0.320000</td>\n",
       "      <td>0.410000</td>\n",
       "      <td>10.000</td>\n",
       "      <td>8.0</td>\n",
       "    </tr>\n",
       "    <tr>\n",
       "      <th>7</th>\n",
       "      <td>5</td>\n",
       "      <td>7915000.0</td>\n",
       "      <td>71.599998</td>\n",
       "      <td>2019-04-18</td>\n",
       "      <td>2</td>\n",
       "      <td>NaN</td>\n",
       "      <td>24.0</td>\n",
       "      <td>NaN</td>\n",
       "      <td>22</td>\n",
       "      <td>False</td>\n",
       "      <td>...</td>\n",
       "      <td>NaN</td>\n",
       "      <td>110544.695093</td>\n",
       "      <td>3</td>\n",
       "      <td>4</td>\n",
       "      <td>2019</td>\n",
       "      <td>другой</td>\n",
       "      <td>NaN</td>\n",
       "      <td>0.263966</td>\n",
       "      <td>7.915</td>\n",
       "      <td>12.0</td>\n",
       "    </tr>\n",
       "    <tr>\n",
       "      <th>9</th>\n",
       "      <td>18</td>\n",
       "      <td>5400000.0</td>\n",
       "      <td>61.000000</td>\n",
       "      <td>2017-02-26</td>\n",
       "      <td>3</td>\n",
       "      <td>2.50</td>\n",
       "      <td>9.0</td>\n",
       "      <td>43.599998</td>\n",
       "      <td>7</td>\n",
       "      <td>False</td>\n",
       "      <td>...</td>\n",
       "      <td>289.0</td>\n",
       "      <td>88524.590164</td>\n",
       "      <td>6</td>\n",
       "      <td>2</td>\n",
       "      <td>2017</td>\n",
       "      <td>другой</td>\n",
       "      <td>0.714754</td>\n",
       "      <td>0.106557</td>\n",
       "      <td>5.400</td>\n",
       "      <td>15.0</td>\n",
       "    </tr>\n",
       "  </tbody>\n",
       "</table>\n",
       "<p>5 rows × 31 columns</p>\n",
       "</div>"
      ],
      "text/plain": [
       "   total_images  last_price  total_area first_day_exposition  rooms  \\\n",
       "0            20  13000000.0  108.000000           2019-03-07      3   \n",
       "2            10   5196000.0   56.000000           2015-08-20      2   \n",
       "4             2  10000000.0  100.000000           2018-06-19      2   \n",
       "7             5   7915000.0   71.599998           2019-04-18      2   \n",
       "9            18   5400000.0   61.000000           2017-02-26      3   \n",
       "\n",
       "   ceiling_height  floors_total  living_area  floor  is_apartment  ...  \\\n",
       "0            2.70          16.0    51.000000      8         False  ...   \n",
       "2             NaN           5.0    34.299999      4         False  ...   \n",
       "4            3.03          14.0    32.000000     13         False  ...   \n",
       "7             NaN          24.0          NaN     22         False  ...   \n",
       "9            2.50           9.0    43.599998      7         False  ...   \n",
       "\n",
       "   days_exposition     sq_m_price  exp_weekday  exp_month exp_year  \\\n",
       "0              NaN  120370.370370            3          3     2019   \n",
       "2            558.0   92785.714286            3          8     2015   \n",
       "4            121.0  100000.000000            1          6     2018   \n",
       "7              NaN  110544.695093            3          4     2019   \n",
       "9            289.0   88524.590164            6          2     2017   \n",
       "\n",
       "   floor_type  ratio_living_total  ratio_kitchen_total  last_price_mln  \\\n",
       "0      другой            0.472222             0.231481          13.000   \n",
       "2      другой            0.612500             0.148214           5.196   \n",
       "4      другой            0.320000             0.410000          10.000   \n",
       "7      другой                 NaN             0.263966           7.915   \n",
       "9      другой            0.714754             0.106557           5.400   \n",
       "\n",
       "   city_center_km  \n",
       "0            16.0  \n",
       "2            14.0  \n",
       "4             8.0  \n",
       "7            12.0  \n",
       "9            15.0  \n",
       "\n",
       "[5 rows x 31 columns]"
      ]
     },
     "metadata": {},
     "output_type": "display_data"
    }
   ],
   "source": [
    "df_spb = df.loc[df['locality_name'] == 'Санкт-Петербург'] #фильтруем объявления только из Санкт-Петербурга\n",
    "df_spb['city_center_km'] = df_spb['city_centers_nearest']/1000\n",
    "df_spb['city_center_km'] = df_spb['city_center_km'].round(0)\n",
    "display(df_spb.head())"
   ]
  },
  {
   "cell_type": "code",
   "execution_count": 108,
   "metadata": {},
   "outputs": [
    {
     "data": {
      "text/html": [
       "<div>\n",
       "<style scoped>\n",
       "    .dataframe tbody tr th:only-of-type {\n",
       "        vertical-align: middle;\n",
       "    }\n",
       "\n",
       "    .dataframe tbody tr th {\n",
       "        vertical-align: top;\n",
       "    }\n",
       "\n",
       "    .dataframe thead tr th {\n",
       "        text-align: left;\n",
       "    }\n",
       "\n",
       "    .dataframe thead tr:last-of-type th {\n",
       "        text-align: right;\n",
       "    }\n",
       "</style>\n",
       "<table border=\"1\" class=\"dataframe\">\n",
       "  <thead>\n",
       "    <tr>\n",
       "      <th></th>\n",
       "      <th>mean</th>\n",
       "      <th>median</th>\n",
       "      <th>count</th>\n",
       "    </tr>\n",
       "    <tr>\n",
       "      <th></th>\n",
       "      <th>sq_m_price</th>\n",
       "      <th>sq_m_price</th>\n",
       "      <th>sq_m_price</th>\n",
       "    </tr>\n",
       "    <tr>\n",
       "      <th>city_center_km</th>\n",
       "      <th></th>\n",
       "      <th></th>\n",
       "      <th></th>\n",
       "    </tr>\n",
       "  </thead>\n",
       "  <tbody>\n",
       "    <tr>\n",
       "      <th>0.0</th>\n",
       "      <td>116000.381323</td>\n",
       "      <td>109900.000000</td>\n",
       "      <td>13</td>\n",
       "    </tr>\n",
       "    <tr>\n",
       "      <th>1.0</th>\n",
       "      <td>144405.249399</td>\n",
       "      <td>124145.394007</td>\n",
       "      <td>170</td>\n",
       "    </tr>\n",
       "    <tr>\n",
       "      <th>2.0</th>\n",
       "      <td>126511.545865</td>\n",
       "      <td>116593.033135</td>\n",
       "      <td>272</td>\n",
       "    </tr>\n",
       "    <tr>\n",
       "      <th>3.0</th>\n",
       "      <td>116709.811769</td>\n",
       "      <td>107567.567568</td>\n",
       "      <td>333</td>\n",
       "    </tr>\n",
       "    <tr>\n",
       "      <th>4.0</th>\n",
       "      <td>124914.600283</td>\n",
       "      <td>116372.027775</td>\n",
       "      <td>646</td>\n",
       "    </tr>\n",
       "    <tr>\n",
       "      <th>5.0</th>\n",
       "      <td>131600.604291</td>\n",
       "      <td>125233.644860</td>\n",
       "      <td>853</td>\n",
       "    </tr>\n",
       "    <tr>\n",
       "      <th>6.0</th>\n",
       "      <td>130429.444836</td>\n",
       "      <td>123409.090909</td>\n",
       "      <td>540</td>\n",
       "    </tr>\n",
       "    <tr>\n",
       "      <th>7.0</th>\n",
       "      <td>131214.639409</td>\n",
       "      <td>121348.314607</td>\n",
       "      <td>365</td>\n",
       "    </tr>\n",
       "    <tr>\n",
       "      <th>8.0</th>\n",
       "      <td>123550.063425</td>\n",
       "      <td>122222.222222</td>\n",
       "      <td>571</td>\n",
       "    </tr>\n",
       "    <tr>\n",
       "      <th>9.0</th>\n",
       "      <td>112511.201040</td>\n",
       "      <td>105679.779982</td>\n",
       "      <td>580</td>\n",
       "    </tr>\n",
       "    <tr>\n",
       "      <th>10.0</th>\n",
       "      <td>112730.224792</td>\n",
       "      <td>106442.367608</td>\n",
       "      <td>708</td>\n",
       "    </tr>\n",
       "    <tr>\n",
       "      <th>11.0</th>\n",
       "      <td>107834.670601</td>\n",
       "      <td>103244.407600</td>\n",
       "      <td>1160</td>\n",
       "    </tr>\n",
       "    <tr>\n",
       "      <th>12.0</th>\n",
       "      <td>107381.970298</td>\n",
       "      <td>103796.056490</td>\n",
       "      <td>1580</td>\n",
       "    </tr>\n",
       "    <tr>\n",
       "      <th>13.0</th>\n",
       "      <td>107875.334787</td>\n",
       "      <td>103806.794587</td>\n",
       "      <td>1430</td>\n",
       "    </tr>\n",
       "    <tr>\n",
       "      <th>14.0</th>\n",
       "      <td>103942.651875</td>\n",
       "      <td>101580.137190</td>\n",
       "      <td>1253</td>\n",
       "    </tr>\n",
       "    <tr>\n",
       "      <th>15.0</th>\n",
       "      <td>104189.528308</td>\n",
       "      <td>101339.712919</td>\n",
       "      <td>1544</td>\n",
       "    </tr>\n",
       "    <tr>\n",
       "      <th>16.0</th>\n",
       "      <td>100394.876962</td>\n",
       "      <td>97386.765764</td>\n",
       "      <td>1250</td>\n",
       "    </tr>\n",
       "    <tr>\n",
       "      <th>17.0</th>\n",
       "      <td>96752.852347</td>\n",
       "      <td>94508.252279</td>\n",
       "      <td>854</td>\n",
       "    </tr>\n",
       "    <tr>\n",
       "      <th>18.0</th>\n",
       "      <td>96354.187628</td>\n",
       "      <td>95000.000000</td>\n",
       "      <td>258</td>\n",
       "    </tr>\n",
       "    <tr>\n",
       "      <th>19.0</th>\n",
       "      <td>98709.710290</td>\n",
       "      <td>97117.959437</td>\n",
       "      <td>154</td>\n",
       "    </tr>\n",
       "    <tr>\n",
       "      <th>20.0</th>\n",
       "      <td>101380.578024</td>\n",
       "      <td>103703.693333</td>\n",
       "      <td>45</td>\n",
       "    </tr>\n",
       "    <tr>\n",
       "      <th>21.0</th>\n",
       "      <td>94540.814227</td>\n",
       "      <td>89790.696168</td>\n",
       "      <td>116</td>\n",
       "    </tr>\n",
       "    <tr>\n",
       "      <th>22.0</th>\n",
       "      <td>91330.424964</td>\n",
       "      <td>88781.475732</td>\n",
       "      <td>202</td>\n",
       "    </tr>\n",
       "    <tr>\n",
       "      <th>23.0</th>\n",
       "      <td>91570.367659</td>\n",
       "      <td>89815.524224</td>\n",
       "      <td>82</td>\n",
       "    </tr>\n",
       "    <tr>\n",
       "      <th>24.0</th>\n",
       "      <td>84962.459023</td>\n",
       "      <td>86184.840440</td>\n",
       "      <td>25</td>\n",
       "    </tr>\n",
       "    <tr>\n",
       "      <th>25.0</th>\n",
       "      <td>91531.371973</td>\n",
       "      <td>93612.160740</td>\n",
       "      <td>26</td>\n",
       "    </tr>\n",
       "    <tr>\n",
       "      <th>26.0</th>\n",
       "      <td>87798.872628</td>\n",
       "      <td>87368.421053</td>\n",
       "      <td>43</td>\n",
       "    </tr>\n",
       "    <tr>\n",
       "      <th>27.0</th>\n",
       "      <td>132115.709459</td>\n",
       "      <td>132115.709459</td>\n",
       "      <td>2</td>\n",
       "    </tr>\n",
       "    <tr>\n",
       "      <th>28.0</th>\n",
       "      <td>81161.915320</td>\n",
       "      <td>79372.093023</td>\n",
       "      <td>7</td>\n",
       "    </tr>\n",
       "    <tr>\n",
       "      <th>29.0</th>\n",
       "      <td>72953.365089</td>\n",
       "      <td>76084.734708</td>\n",
       "      <td>6</td>\n",
       "    </tr>\n",
       "  </tbody>\n",
       "</table>\n",
       "</div>"
      ],
      "text/plain": [
       "                         mean         median      count\n",
       "                   sq_m_price     sq_m_price sq_m_price\n",
       "city_center_km                                         \n",
       "0.0             116000.381323  109900.000000         13\n",
       "1.0             144405.249399  124145.394007        170\n",
       "2.0             126511.545865  116593.033135        272\n",
       "3.0             116709.811769  107567.567568        333\n",
       "4.0             124914.600283  116372.027775        646\n",
       "5.0             131600.604291  125233.644860        853\n",
       "6.0             130429.444836  123409.090909        540\n",
       "7.0             131214.639409  121348.314607        365\n",
       "8.0             123550.063425  122222.222222        571\n",
       "9.0             112511.201040  105679.779982        580\n",
       "10.0            112730.224792  106442.367608        708\n",
       "11.0            107834.670601  103244.407600       1160\n",
       "12.0            107381.970298  103796.056490       1580\n",
       "13.0            107875.334787  103806.794587       1430\n",
       "14.0            103942.651875  101580.137190       1253\n",
       "15.0            104189.528308  101339.712919       1544\n",
       "16.0            100394.876962   97386.765764       1250\n",
       "17.0             96752.852347   94508.252279        854\n",
       "18.0             96354.187628   95000.000000        258\n",
       "19.0             98709.710290   97117.959437        154\n",
       "20.0            101380.578024  103703.693333         45\n",
       "21.0             94540.814227   89790.696168        116\n",
       "22.0             91330.424964   88781.475732        202\n",
       "23.0             91570.367659   89815.524224         82\n",
       "24.0             84962.459023   86184.840440         25\n",
       "25.0             91531.371973   93612.160740         26\n",
       "26.0             87798.872628   87368.421053         43\n",
       "27.0            132115.709459  132115.709459          2\n",
       "28.0             81161.915320   79372.093023          7\n",
       "29.0             72953.365089   76084.734708          6"
      ]
     },
     "metadata": {},
     "output_type": "display_data"
    }
   ],
   "source": [
    "df_spb_pivot = df_spb.pivot_table(index='city_center_km', values='sq_m_price', aggfunc=['mean','median','count'])\n",
    "display(df_spb_pivot)"
   ]
  },
  {
   "cell_type": "code",
   "execution_count": 109,
   "metadata": {},
   "outputs": [
    {
     "data": {
      "text/plain": [
       "<AxesSubplot:xlabel='Distance from city center, km'>"
      ]
     },
     "execution_count": 109,
     "metadata": {},
     "output_type": "execute_result"
    },
    {
     "data": {
      "image/png": "[encoded data removed]",
      "text/plain": [
       "<Figure size 432x288 with 1 Axes>"
      ]
     },
     "metadata": {
      "needs_background": "light"
     },
     "output_type": "display_data"
    }
   ],
   "source": [
    "df_spb_pivot.plot(y=('median','sq_m_price'), kind='bar', legend=False, xlabel='Distance from city center, km')"
   ]
  },
  {
   "cell_type": "markdown",
   "metadata": {},
   "source": [
    "По графику видно, что граница центра города находится на 8 км (явная ступень в графике). Есть несколько выбросов (20 км, 27 км), что связано с низкой представленностью этих групп объявлений. Их можно заменить на среднее между двумя соседними столбцами."
   ]
  },
  {
   "cell_type": "code",
   "execution_count": 110,
   "metadata": {
    "scrolled": true
   },
   "outputs": [
    {
     "data": {
      "text/html": [
       "<div>\n",
       "<style scoped>\n",
       "    .dataframe tbody tr th:only-of-type {\n",
       "        vertical-align: middle;\n",
       "    }\n",
       "\n",
       "    .dataframe tbody tr th {\n",
       "        vertical-align: top;\n",
       "    }\n",
       "\n",
       "    .dataframe thead th {\n",
       "        text-align: right;\n",
       "    }\n",
       "</style>\n",
       "<table border=\"1\" class=\"dataframe\">\n",
       "  <thead>\n",
       "    <tr style=\"text-align: right;\">\n",
       "      <th></th>\n",
       "      <th>total_area</th>\n",
       "      <th>last_price_mln</th>\n",
       "      <th>rooms</th>\n",
       "      <th>ceiling_height</th>\n",
       "    </tr>\n",
       "  </thead>\n",
       "  <tbody>\n",
       "    <tr>\n",
       "      <th>count</th>\n",
       "      <td>3763.000000</td>\n",
       "      <td>3763.000000</td>\n",
       "      <td>3763.000000</td>\n",
       "      <td>2442.000000</td>\n",
       "    </tr>\n",
       "    <tr>\n",
       "      <th>mean</th>\n",
       "      <td>81.005119</td>\n",
       "      <td>10.152821</td>\n",
       "      <td>2.642838</td>\n",
       "      <td>3.025987</td>\n",
       "    </tr>\n",
       "    <tr>\n",
       "      <th>std</th>\n",
       "      <td>38.679436</td>\n",
       "      <td>5.585848</td>\n",
       "      <td>1.237159</td>\n",
       "      <td>0.324643</td>\n",
       "    </tr>\n",
       "    <tr>\n",
       "      <th>min</th>\n",
       "      <td>12.000000</td>\n",
       "      <td>1.600000</td>\n",
       "      <td>1.000000</td>\n",
       "      <td>2.500000</td>\n",
       "    </tr>\n",
       "    <tr>\n",
       "      <th>25%</th>\n",
       "      <td>53.000000</td>\n",
       "      <td>6.300000</td>\n",
       "      <td>2.000000</td>\n",
       "      <td>2.800000</td>\n",
       "    </tr>\n",
       "    <tr>\n",
       "      <th>50%</th>\n",
       "      <td>73.000000</td>\n",
       "      <td>8.500000</td>\n",
       "      <td>3.000000</td>\n",
       "      <td>3.000000</td>\n",
       "    </tr>\n",
       "    <tr>\n",
       "      <th>75%</th>\n",
       "      <td>98.000000</td>\n",
       "      <td>12.500000</td>\n",
       "      <td>3.000000</td>\n",
       "      <td>3.200000</td>\n",
       "    </tr>\n",
       "    <tr>\n",
       "      <th>max</th>\n",
       "      <td>292.200012</td>\n",
       "      <td>30.000000</td>\n",
       "      <td>9.000000</td>\n",
       "      <td>4.000000</td>\n",
       "    </tr>\n",
       "  </tbody>\n",
       "</table>\n",
       "</div>"
      ],
      "text/plain": [
       "        total_area  last_price_mln        rooms  ceiling_height\n",
       "count  3763.000000     3763.000000  3763.000000     2442.000000\n",
       "mean     81.005119       10.152821     2.642838        3.025987\n",
       "std      38.679436        5.585848     1.237159        0.324643\n",
       "min      12.000000        1.600000     1.000000        2.500000\n",
       "25%      53.000000        6.300000     2.000000        2.800000\n",
       "50%      73.000000        8.500000     3.000000        3.000000\n",
       "75%      98.000000       12.500000     3.000000        3.200000\n",
       "max     292.200012       30.000000     9.000000        4.000000"
      ]
     },
     "execution_count": 110,
     "metadata": {},
     "output_type": "execute_result"
    }
   ],
   "source": [
    "df_spb_center = df_spb.query('city_center_km <= 8')\n",
    "#display(df_spb_center.head())\n",
    "df_spb_center[['total_area', 'last_price_mln', 'rooms', 'ceiling_height']].describe()"
   ]
  },
  {
   "cell_type": "code",
   "execution_count": 111,
   "metadata": {
    "scrolled": false
   },
   "outputs": [
    {
     "data": {
      "text/html": [
       "<div>\n",
       "<style scoped>\n",
       "    .dataframe tbody tr th:only-of-type {\n",
       "        vertical-align: middle;\n",
       "    }\n",
       "\n",
       "    .dataframe tbody tr th {\n",
       "        vertical-align: top;\n",
       "    }\n",
       "\n",
       "    .dataframe thead th {\n",
       "        text-align: right;\n",
       "    }\n",
       "</style>\n",
       "<table border=\"1\" class=\"dataframe\">\n",
       "  <thead>\n",
       "    <tr style=\"text-align: right;\">\n",
       "      <th></th>\n",
       "      <th>total_area</th>\n",
       "      <th>last_price_mln</th>\n",
       "      <th>rooms</th>\n",
       "      <th>ceiling_height</th>\n",
       "    </tr>\n",
       "  </thead>\n",
       "  <tbody>\n",
       "    <tr>\n",
       "      <th>count</th>\n",
       "      <td>22908.000000</td>\n",
       "      <td>22908.000000</td>\n",
       "      <td>22908.000000</td>\n",
       "      <td>14048.000000</td>\n",
       "    </tr>\n",
       "    <tr>\n",
       "      <th>mean</th>\n",
       "      <td>58.314491</td>\n",
       "      <td>5.750022</td>\n",
       "      <td>2.052427</td>\n",
       "      <td>2.714994</td>\n",
       "    </tr>\n",
       "    <tr>\n",
       "      <th>std</th>\n",
       "      <td>27.230707</td>\n",
       "      <td>4.014450</td>\n",
       "      <td>0.997531</td>\n",
       "      <td>0.249144</td>\n",
       "    </tr>\n",
       "    <tr>\n",
       "      <th>min</th>\n",
       "      <td>12.000000</td>\n",
       "      <td>0.430000</td>\n",
       "      <td>1.000000</td>\n",
       "      <td>2.500000</td>\n",
       "    </tr>\n",
       "    <tr>\n",
       "      <th>25%</th>\n",
       "      <td>40.000000</td>\n",
       "      <td>3.439800</td>\n",
       "      <td>1.000000</td>\n",
       "      <td>2.510000</td>\n",
       "    </tr>\n",
       "    <tr>\n",
       "      <th>50%</th>\n",
       "      <td>52.000000</td>\n",
       "      <td>4.600000</td>\n",
       "      <td>2.000000</td>\n",
       "      <td>2.650000</td>\n",
       "    </tr>\n",
       "    <tr>\n",
       "      <th>75%</th>\n",
       "      <td>68.500000</td>\n",
       "      <td>6.650000</td>\n",
       "      <td>3.000000</td>\n",
       "      <td>2.800000</td>\n",
       "    </tr>\n",
       "    <tr>\n",
       "      <th>max</th>\n",
       "      <td>292.200012</td>\n",
       "      <td>30.000000</td>\n",
       "      <td>9.000000</td>\n",
       "      <td>4.000000</td>\n",
       "    </tr>\n",
       "  </tbody>\n",
       "</table>\n",
       "</div>"
      ],
      "text/plain": [
       "         total_area  last_price_mln         rooms  ceiling_height\n",
       "count  22908.000000    22908.000000  22908.000000    14048.000000\n",
       "mean      58.314491        5.750022      2.052427        2.714994\n",
       "std       27.230707        4.014450      0.997531        0.249144\n",
       "min       12.000000        0.430000      1.000000        2.500000\n",
       "25%       40.000000        3.439800      1.000000        2.510000\n",
       "50%       52.000000        4.600000      2.000000        2.650000\n",
       "75%       68.500000        6.650000      3.000000        2.800000\n",
       "max      292.200012       30.000000      9.000000        4.000000"
      ]
     },
     "execution_count": 111,
     "metadata": {},
     "output_type": "execute_result"
    }
   ],
   "source": [
    "df[['total_area', 'last_price_mln', 'rooms', 'ceiling_height']].describe()#для сравнения те же данные по всему массиву объявлений."
   ]
  },
  {
   "cell_type": "markdown",
   "metadata": {},
   "source": [
    "Видно, что квартиры в центре стоят дороже (что очевидно), имеют большую комнатность и площадь, а также высота потолков там выше. Это объясняется более старым фондом в центре города, который включает в себя в том числе коммунальные квартиры. "
   ]
  },
  {
   "cell_type": "code",
   "execution_count": 114,
   "metadata": {
    "scrolled": false
   },
   "outputs": [
    {
     "data": {
      "text/html": [
       "<div>\n",
       "<style scoped>\n",
       "    .dataframe tbody tr th:only-of-type {\n",
       "        vertical-align: middle;\n",
       "    }\n",
       "\n",
       "    .dataframe tbody tr th {\n",
       "        vertical-align: top;\n",
       "    }\n",
       "\n",
       "    .dataframe thead th {\n",
       "        text-align: right;\n",
       "    }\n",
       "</style>\n",
       "<table border=\"1\" class=\"dataframe\">\n",
       "  <thead>\n",
       "    <tr style=\"text-align: right;\">\n",
       "      <th></th>\n",
       "      <th>rooms</th>\n",
       "      <th>city_centers_nearest</th>\n",
       "      <th>total_area</th>\n",
       "      <th>last_price_mln</th>\n",
       "    </tr>\n",
       "  </thead>\n",
       "  <tbody>\n",
       "    <tr>\n",
       "      <th>rooms</th>\n",
       "      <td>1.000000</td>\n",
       "      <td>-0.227688</td>\n",
       "      <td>0.807064</td>\n",
       "      <td>0.491018</td>\n",
       "    </tr>\n",
       "    <tr>\n",
       "      <th>city_centers_nearest</th>\n",
       "      <td>-0.227688</td>\n",
       "      <td>1.000000</td>\n",
       "      <td>-0.189085</td>\n",
       "      <td>-0.124611</td>\n",
       "    </tr>\n",
       "    <tr>\n",
       "      <th>total_area</th>\n",
       "      <td>0.807064</td>\n",
       "      <td>-0.189085</td>\n",
       "      <td>1.000000</td>\n",
       "      <td>0.743633</td>\n",
       "    </tr>\n",
       "    <tr>\n",
       "      <th>last_price_mln</th>\n",
       "      <td>0.491018</td>\n",
       "      <td>-0.124611</td>\n",
       "      <td>0.743633</td>\n",
       "      <td>1.000000</td>\n",
       "    </tr>\n",
       "  </tbody>\n",
       "</table>\n",
       "</div>"
      ],
      "text/plain": [
       "                         rooms  city_centers_nearest  total_area  \\\n",
       "rooms                 1.000000             -0.227688    0.807064   \n",
       "city_centers_nearest -0.227688              1.000000   -0.189085   \n",
       "total_area            0.807064             -0.189085    1.000000   \n",
       "last_price_mln        0.491018             -0.124611    0.743633   \n",
       "\n",
       "                      last_price_mln  \n",
       "rooms                       0.491018  \n",
       "city_centers_nearest       -0.124611  \n",
       "total_area                  0.743633  \n",
       "last_price_mln              1.000000  "
      ]
     },
     "execution_count": 114,
     "metadata": {},
     "output_type": "execute_result"
    }
   ],
   "source": [
    "df_spb_center[['rooms', 'city_centers_nearest', 'total_area', 'last_price_mln']].corr()"
   ]
  },
  {
   "cell_type": "code",
   "execution_count": 115,
   "metadata": {},
   "outputs": [
    {
     "data": {
      "text/plain": [
       "<seaborn.axisgrid.PairGrid at 0x7f3e27da1f70>"
      ]
     },
     "execution_count": 115,
     "metadata": {},
     "output_type": "execute_result"
    },
    {
     "data": {
      "image/png": "[encoded data removed]",
      "text/plain": [
       "<Figure size 720x720 with 20 Axes>"
      ]
     },
     "metadata": {
      "needs_background": "light"
     },
     "output_type": "display_data"
    }
   ],
   "source": [
    "sns.pairplot(df_spb_center[['rooms', 'city_centers_nearest', 'total_area', 'last_price_mln']])"
   ]
  },
  {
   "cell_type": "markdown",
   "metadata": {},
   "source": [
    "По сравнению с общим массивом данных, в центре Санкт-Петербурга не прослеживается увеличение цены с приближением к центру города (все квартры итак в центре), но сохраняется значимость фактора количества комнат и площади: чем больше комнат и площадь квартиры, тем выше цена квартиры. Дата публикации объявления и тип этажа также представляет собой нелинейную зависимость и поэтому их лучше рассмотреть через сводную таблицу и построить по ним графики зависимости цены от даты публикации объялвения и типа этажа."
   ]
  },
  {
   "cell_type": "code",
   "execution_count": 119,
   "metadata": {
    "scrolled": false
   },
   "outputs": [
    {
     "data": {
      "text/html": [
       "<div>\n",
       "<style scoped>\n",
       "    .dataframe tbody tr th:only-of-type {\n",
       "        vertical-align: middle;\n",
       "    }\n",
       "\n",
       "    .dataframe tbody tr th {\n",
       "        vertical-align: top;\n",
       "    }\n",
       "\n",
       "    .dataframe thead tr th {\n",
       "        text-align: left;\n",
       "    }\n",
       "\n",
       "    .dataframe thead tr:last-of-type th {\n",
       "        text-align: right;\n",
       "    }\n",
       "</style>\n",
       "<table border=\"1\" class=\"dataframe\">\n",
       "  <thead>\n",
       "    <tr>\n",
       "      <th></th>\n",
       "      <th>median</th>\n",
       "      <th>count</th>\n",
       "    </tr>\n",
       "    <tr>\n",
       "      <th></th>\n",
       "      <th>last_price_mln</th>\n",
       "      <th>last_price_mln</th>\n",
       "    </tr>\n",
       "    <tr>\n",
       "      <th>floor_type</th>\n",
       "      <th></th>\n",
       "      <th></th>\n",
       "    </tr>\n",
       "  </thead>\n",
       "  <tbody>\n",
       "    <tr>\n",
       "      <th>другой</th>\n",
       "      <td>8.900</td>\n",
       "      <td>2721</td>\n",
       "    </tr>\n",
       "    <tr>\n",
       "      <th>последний</th>\n",
       "      <td>8.589</td>\n",
       "      <td>625</td>\n",
       "    </tr>\n",
       "    <tr>\n",
       "      <th>первый</th>\n",
       "      <td>6.350</td>\n",
       "      <td>417</td>\n",
       "    </tr>\n",
       "  </tbody>\n",
       "</table>\n",
       "</div>"
      ],
      "text/plain": [
       "                   median          count\n",
       "           last_price_mln last_price_mln\n",
       "floor_type                              \n",
       "другой              8.900           2721\n",
       "последний           8.589            625\n",
       "первый              6.350            417"
      ]
     },
     "metadata": {},
     "output_type": "display_data"
    }
   ],
   "source": [
    "df_spb_center_ft_pt = df_spb_center.pivot_table(index='floor_type', values='last_price_mln', aggfunc=['median', 'count']).sort_values(by=('median','last_price_mln'), ascending=False)\n",
    "display(df_spb_center_ft_pt)"
   ]
  },
  {
   "cell_type": "code",
   "execution_count": 120,
   "metadata": {},
   "outputs": [
    {
     "data": {
      "text/plain": [
       "<AxesSubplot:xlabel='Floor type', ylabel='mln'>"
      ]
     },
     "execution_count": 120,
     "metadata": {},
     "output_type": "execute_result"
    },
    {
     "data": {
      "image/png": "[encoded data removed]",
      "text/plain": [
       "<Figure size 432x288 with 1 Axes>"
      ]
     },
     "metadata": {
      "needs_background": "light"
     },
     "output_type": "display_data"
    }
   ],
   "source": [
    "df_spb_center_ft_pt.plot(y=('median','last_price_mln'), kind='bar', legend=False, xlabel='Floor type', ylabel='mln')"
   ]
  },
  {
   "cell_type": "markdown",
   "metadata": {},
   "source": [
    "С этажом квартры в центре прослеживается та же зависимоть, как и в общем массиве данных: самые дешёвые квартиры на первом этаже, самые дорогие на других. Разница между другими этажами и последним меньше у квартир в центре, чем в общем массиве данных, так как в центре Санкт-Петербурга средняя этажность ниже."
   ]
  },
  {
   "cell_type": "code",
   "execution_count": 122,
   "metadata": {
    "scrolled": true
   },
   "outputs": [
    {
     "data": {
      "text/html": [
       "<div>\n",
       "<style scoped>\n",
       "    .dataframe tbody tr th:only-of-type {\n",
       "        vertical-align: middle;\n",
       "    }\n",
       "\n",
       "    .dataframe tbody tr th {\n",
       "        vertical-align: top;\n",
       "    }\n",
       "\n",
       "    .dataframe thead tr th {\n",
       "        text-align: left;\n",
       "    }\n",
       "\n",
       "    .dataframe thead tr:last-of-type th {\n",
       "        text-align: right;\n",
       "    }\n",
       "</style>\n",
       "<table border=\"1\" class=\"dataframe\">\n",
       "  <thead>\n",
       "    <tr>\n",
       "      <th></th>\n",
       "      <th>median</th>\n",
       "      <th>count</th>\n",
       "    </tr>\n",
       "    <tr>\n",
       "      <th></th>\n",
       "      <th>last_price_mln</th>\n",
       "      <th>last_price_mln</th>\n",
       "    </tr>\n",
       "    <tr>\n",
       "      <th>exp_weekday</th>\n",
       "      <th></th>\n",
       "      <th></th>\n",
       "    </tr>\n",
       "  </thead>\n",
       "  <tbody>\n",
       "    <tr>\n",
       "      <th>0</th>\n",
       "      <td>8.8</td>\n",
       "      <td>569</td>\n",
       "    </tr>\n",
       "    <tr>\n",
       "      <th>1</th>\n",
       "      <td>8.3</td>\n",
       "      <td>640</td>\n",
       "    </tr>\n",
       "    <tr>\n",
       "      <th>2</th>\n",
       "      <td>8.7</td>\n",
       "      <td>658</td>\n",
       "    </tr>\n",
       "    <tr>\n",
       "      <th>3</th>\n",
       "      <td>8.5</td>\n",
       "      <td>771</td>\n",
       "    </tr>\n",
       "    <tr>\n",
       "      <th>4</th>\n",
       "      <td>8.5</td>\n",
       "      <td>635</td>\n",
       "    </tr>\n",
       "    <tr>\n",
       "      <th>5</th>\n",
       "      <td>8.0</td>\n",
       "      <td>275</td>\n",
       "    </tr>\n",
       "    <tr>\n",
       "      <th>6</th>\n",
       "      <td>8.7</td>\n",
       "      <td>215</td>\n",
       "    </tr>\n",
       "  </tbody>\n",
       "</table>\n",
       "</div>"
      ],
      "text/plain": [
       "                    median          count\n",
       "            last_price_mln last_price_mln\n",
       "exp_weekday                              \n",
       "0                      8.8            569\n",
       "1                      8.3            640\n",
       "2                      8.7            658\n",
       "3                      8.5            771\n",
       "4                      8.5            635\n",
       "5                      8.0            275\n",
       "6                      8.7            215"
      ]
     },
     "metadata": {},
     "output_type": "display_data"
    }
   ],
   "source": [
    "df_spb_center_wd_pt = df_spb_center.pivot_table(index='exp_weekday', values='last_price_mln', aggfunc=['median', 'count'])\n",
    "display(df_spb_center_wd_pt)"
   ]
  },
  {
   "cell_type": "code",
   "execution_count": 123,
   "metadata": {},
   "outputs": [
    {
     "data": {
      "text/plain": [
       "<AxesSubplot:xlabel='Weekday', ylabel='mln'>"
      ]
     },
     "execution_count": 123,
     "metadata": {},
     "output_type": "execute_result"
    },
    {
     "data": {
      "image/png": "[encoded data removed]",
      "text/plain": [
       "<Figure size 432x288 with 1 Axes>"
      ]
     },
     "metadata": {
      "needs_background": "light"
     },
     "output_type": "display_data"
    }
   ],
   "source": [
    "df_spb_center_wd_pt.plot(y=('median','last_price_mln'), kind='bar', legend=False, xlabel='Weekday', ylabel='mln')"
   ]
  },
  {
   "cell_type": "code",
   "execution_count": 127,
   "metadata": {
    "scrolled": false
   },
   "outputs": [
    {
     "data": {
      "text/html": [
       "<div>\n",
       "<style scoped>\n",
       "    .dataframe tbody tr th:only-of-type {\n",
       "        vertical-align: middle;\n",
       "    }\n",
       "\n",
       "    .dataframe tbody tr th {\n",
       "        vertical-align: top;\n",
       "    }\n",
       "\n",
       "    .dataframe thead tr th {\n",
       "        text-align: left;\n",
       "    }\n",
       "\n",
       "    .dataframe thead tr:last-of-type th {\n",
       "        text-align: right;\n",
       "    }\n",
       "</style>\n",
       "<table border=\"1\" class=\"dataframe\">\n",
       "  <thead>\n",
       "    <tr>\n",
       "      <th></th>\n",
       "      <th>median</th>\n",
       "      <th>count</th>\n",
       "    </tr>\n",
       "    <tr>\n",
       "      <th></th>\n",
       "      <th>last_price_mln</th>\n",
       "      <th>last_price_mln</th>\n",
       "    </tr>\n",
       "    <tr>\n",
       "      <th>exp_month</th>\n",
       "      <th></th>\n",
       "      <th></th>\n",
       "    </tr>\n",
       "  </thead>\n",
       "  <tbody>\n",
       "    <tr>\n",
       "      <th>1</th>\n",
       "      <td>8.550000</td>\n",
       "      <td>235</td>\n",
       "    </tr>\n",
       "    <tr>\n",
       "      <th>2</th>\n",
       "      <td>8.500000</td>\n",
       "      <td>402</td>\n",
       "    </tr>\n",
       "    <tr>\n",
       "      <th>3</th>\n",
       "      <td>8.700000</td>\n",
       "      <td>397</td>\n",
       "    </tr>\n",
       "    <tr>\n",
       "      <th>4</th>\n",
       "      <td>8.420000</td>\n",
       "      <td>363</td>\n",
       "    </tr>\n",
       "    <tr>\n",
       "      <th>5</th>\n",
       "      <td>8.435051</td>\n",
       "      <td>221</td>\n",
       "    </tr>\n",
       "    <tr>\n",
       "      <th>6</th>\n",
       "      <td>8.262475</td>\n",
       "      <td>294</td>\n",
       "    </tr>\n",
       "    <tr>\n",
       "      <th>7</th>\n",
       "      <td>8.888888</td>\n",
       "      <td>301</td>\n",
       "    </tr>\n",
       "    <tr>\n",
       "      <th>8</th>\n",
       "      <td>8.500000</td>\n",
       "      <td>279</td>\n",
       "    </tr>\n",
       "    <tr>\n",
       "      <th>9</th>\n",
       "      <td>9.000000</td>\n",
       "      <td>341</td>\n",
       "    </tr>\n",
       "    <tr>\n",
       "      <th>10</th>\n",
       "      <td>8.300000</td>\n",
       "      <td>317</td>\n",
       "    </tr>\n",
       "    <tr>\n",
       "      <th>11</th>\n",
       "      <td>8.806000</td>\n",
       "      <td>362</td>\n",
       "    </tr>\n",
       "    <tr>\n",
       "      <th>12</th>\n",
       "      <td>7.500000</td>\n",
       "      <td>251</td>\n",
       "    </tr>\n",
       "  </tbody>\n",
       "</table>\n",
       "</div>"
      ],
      "text/plain": [
       "                  median          count\n",
       "          last_price_mln last_price_mln\n",
       "exp_month                              \n",
       "1               8.550000            235\n",
       "2               8.500000            402\n",
       "3               8.700000            397\n",
       "4               8.420000            363\n",
       "5               8.435051            221\n",
       "6               8.262475            294\n",
       "7               8.888888            301\n",
       "8               8.500000            279\n",
       "9               9.000000            341\n",
       "10              8.300000            317\n",
       "11              8.806000            362\n",
       "12              7.500000            251"
      ]
     },
     "metadata": {},
     "output_type": "display_data"
    }
   ],
   "source": [
    "df_spb_center_month_pt = df_spb_center.pivot_table(index='exp_month', values='last_price_mln', aggfunc=['median', 'count'])\n",
    "display(df_spb_center_month_pt)"
   ]
  },
  {
   "cell_type": "code",
   "execution_count": 128,
   "metadata": {},
   "outputs": [
    {
     "data": {
      "text/plain": [
       "<AxesSubplot:xlabel='Month', ylabel='mln'>"
      ]
     },
     "execution_count": 128,
     "metadata": {},
     "output_type": "execute_result"
    },
    {
     "data": {
      "image/png": "[encoded data removed]",
      "text/plain": [
       "<Figure size 432x288 with 1 Axes>"
      ]
     },
     "metadata": {
      "needs_background": "light"
     },
     "output_type": "display_data"
    }
   ],
   "source": [
    "df_spb_center_month_pt.plot(y=('median','last_price_mln'), kind='bar', legend=False, xlabel='Month', ylabel='mln')"
   ]
  },
  {
   "cell_type": "code",
   "execution_count": 130,
   "metadata": {
    "scrolled": true
   },
   "outputs": [
    {
     "data": {
      "text/html": [
       "<div>\n",
       "<style scoped>\n",
       "    .dataframe tbody tr th:only-of-type {\n",
       "        vertical-align: middle;\n",
       "    }\n",
       "\n",
       "    .dataframe tbody tr th {\n",
       "        vertical-align: top;\n",
       "    }\n",
       "\n",
       "    .dataframe thead tr th {\n",
       "        text-align: left;\n",
       "    }\n",
       "\n",
       "    .dataframe thead tr:last-of-type th {\n",
       "        text-align: right;\n",
       "    }\n",
       "</style>\n",
       "<table border=\"1\" class=\"dataframe\">\n",
       "  <thead>\n",
       "    <tr>\n",
       "      <th></th>\n",
       "      <th>median</th>\n",
       "      <th>count</th>\n",
       "    </tr>\n",
       "    <tr>\n",
       "      <th></th>\n",
       "      <th>last_price_mln</th>\n",
       "      <th>last_price_mln</th>\n",
       "    </tr>\n",
       "    <tr>\n",
       "      <th>exp_year</th>\n",
       "      <th></th>\n",
       "      <th></th>\n",
       "    </tr>\n",
       "  </thead>\n",
       "  <tbody>\n",
       "    <tr>\n",
       "      <th>2014</th>\n",
       "      <td>12.561120</td>\n",
       "      <td>25</td>\n",
       "    </tr>\n",
       "    <tr>\n",
       "      <th>2015</th>\n",
       "      <td>8.995000</td>\n",
       "      <td>316</td>\n",
       "    </tr>\n",
       "    <tr>\n",
       "      <th>2016</th>\n",
       "      <td>8.800000</td>\n",
       "      <td>513</td>\n",
       "    </tr>\n",
       "    <tr>\n",
       "      <th>2017</th>\n",
       "      <td>8.500000</td>\n",
       "      <td>1336</td>\n",
       "    </tr>\n",
       "    <tr>\n",
       "      <th>2018</th>\n",
       "      <td>8.385000</td>\n",
       "      <td>1166</td>\n",
       "    </tr>\n",
       "    <tr>\n",
       "      <th>2019</th>\n",
       "      <td>8.599999</td>\n",
       "      <td>407</td>\n",
       "    </tr>\n",
       "  </tbody>\n",
       "</table>\n",
       "</div>"
      ],
      "text/plain": [
       "                 median          count\n",
       "         last_price_mln last_price_mln\n",
       "exp_year                              \n",
       "2014          12.561120             25\n",
       "2015           8.995000            316\n",
       "2016           8.800000            513\n",
       "2017           8.500000           1336\n",
       "2018           8.385000           1166\n",
       "2019           8.599999            407"
      ]
     },
     "metadata": {},
     "output_type": "display_data"
    }
   ],
   "source": [
    "df_spb_center_year_pt = df_spb_center.pivot_table(index='exp_year', values='last_price_mln', aggfunc=['median', 'count'])\n",
    "display(df_spb_center_year_pt)"
   ]
  },
  {
   "cell_type": "code",
   "execution_count": 131,
   "metadata": {},
   "outputs": [
    {
     "data": {
      "text/plain": [
       "<AxesSubplot:xlabel='Year', ylabel='mln'>"
      ]
     },
     "execution_count": 131,
     "metadata": {},
     "output_type": "execute_result"
    },
    {
     "data": {
      "image/png": "[encoded data removed]",
      "text/plain": [
       "<Figure size 432x288 with 1 Axes>"
      ]
     },
     "metadata": {
      "needs_background": "light"
     },
     "output_type": "display_data"
    }
   ],
   "source": [
    "df_spb_center_year_pt.plot(y=('median','last_price_mln'), kind='bar', legend=False, xlabel='Year', ylabel='mln')"
   ]
  },
  {
   "cell_type": "markdown",
   "metadata": {},
   "source": [
    "Существенную взамосвязь между ценой квартиры в центре и днём недели (или месяцем) публикации выделить сложно, как и в общем массиве данных. В декабре наблюдается заметное снижение средней цены квартиры в центре в объявлениях, но определить фактор этого явления представляется затруднительным. \n",
    "\n",
    "Изменение цены в 2015-2019 гг. в объявлениях квартир в центре Санкт-Петербурга является слабозаметным по сравнению с общим массивом данных. Спрос на эти квартиры всегда находится на высоком уровне. 2014 год включать в исследование является некорректным из-за слабой представленности этой группы квартир (как и в общем массиве данных)."
   ]
  },
  {
   "cell_type": "markdown",
   "metadata": {},
   "source": [
    "## Общий вывод"
   ]
  },
  {
   "cell_type": "markdown",
   "metadata": {},
   "source": [
    "Для анализа были предоставлены данные сервиса Яндекс Недвижимость — архив объявлений о продаже квартир в Санкт-Петербурге и соседних населённых пунктах за несколько лет. Он содержал в себе более 23,5 тыс. строк с описанием квартиры, датой публикации, ценой и прочими данными.\n",
    "\n",
    "В данных были обнаружены пропуски в 14 столбцах. Пропуски в столбце с балконами заменил на 0 (отстутствие явления), в апартаментах на False. Тип данных поменял на bool в столбце с апартаментми, на datatime в столбце датой публикации. У площадей заменил тип данных на float32 для экономии памяти.\n",
    "Строки с пропусками были удалены в столбцах floors_total и locality_name - там они составляли менее 1%.\n",
    "\n",
    "Пропуски в остальных столбцах были оставлены без изменения так как нет четкого и явного значения замену и они составляют значительную часть датафрейма (более 1%).\n",
    "\n",
    "Для расчета линейной зависимости показателей использовался коэффициент корреляции Пирсона. Для поиска нелинейной зависимости и анализа категориальных значений данные визуализировались с помощью столбчатых диаграмм.\n",
    "\n",
    "Основные выводы:\n",
    "- В исследуемом регионе (Санкт-Петербург и Ленинградская обл.) средняя квартира в объявлениях выглядит следующем образом: Двухкомнатная квартра площадью - 52 кв. м и высотой потолков 2,65 м. Цена продажи - 4,65 млн руб. \n",
    "- Значимое влияние на стоимость квартиры в общем массиве данных оказывают площадь, комнатность квартиры, её удалённость от центра города и на каком этаже она расположена (первом, последнем, другом). Самая низкая цена на первом, немного выше на последнем и самые дорогие квартиры на других этажах.\n",
    "- Летом цена квартир в объявлениях немного снижается, что предположительно связяно с падением спроса из-за приближения сезона отпусков. \n",
    "- Центральный район Санкт-Петербурга находится в радиусе 8 км от центра города. Это было определено на основе резкого понижения средней цены кв.м в объявлениях. \n",
    "- В этом районе на цену квартиры не оказывает вляние расстояние от центра города (все квартиры итак в центре) и менее заметен сезонный фактор. Здесь также как и во всем исследуемом регионе играет значение на каком этаже расположена квартира, её площадь и комнатность. Разница между ценой последнего этажа и другими (искл. первый) здесь ниже, чем в общем объеме данных\n",
    "- Важно отметить, что в объявлениях по всему региону наблюдался рост цены кв.м в 2016-2019 гг., что возможно связано с инфляцией, реализацией государственных программ по улучшению доступности ипотеки для определенных групп граждан или другими факторами. \n",
    "- В объявлениях в центре Санкт-Петербурга это изменение цены было слабозаметным, так как спрос на эти квартиры всегда находится на высоком уровне.\n",
    "- День недели публикации объявления существенного влияния на стоимость квартиры не оказывает. \n",
    "\n",
    "Итоговые параметры для рыночной оценки стоимости квартиры: \n",
    "* площадь (или комнатность)\n",
    "* этаж, на котором расположена квратира: первый, последний, другой (по возрастанию цены)\n",
    "* удалённость от центра !Этот показатель не работатет для квартир в центре города (для СПб это радиус менее 8 км от центра)\n",
    "* сезонность (лето и другое время года) !Влияет только на квартиры вне центра города"
   ]
  }
 ],
 "metadata": {
  "ExecuteTimeLog": [
   {
    "duration": 132,
    "start_time": "2022-04-12T09:45:08.032Z"
   },
   {
    "duration": 134,
    "start_time": "2022-04-12T14:45:23.602Z"
   },
   {
    "duration": 900,
    "start_time": "2022-04-13T08:54:39.853Z"
   },
   {
    "duration": 145,
    "start_time": "2022-04-13T08:54:40.755Z"
   },
   {
    "duration": 0,
    "start_time": "2022-04-13T08:54:40.902Z"
   },
   {
    "duration": 13,
    "start_time": "2022-04-13T08:54:45.482Z"
   },
   {
    "duration": 136,
    "start_time": "2022-04-13T08:55:46.217Z"
   },
   {
    "duration": 4,
    "start_time": "2022-04-13T08:55:55.340Z"
   },
   {
    "duration": 126,
    "start_time": "2022-04-13T08:55:55.346Z"
   },
   {
    "duration": 6,
    "start_time": "2022-04-13T08:55:55.474Z"
   },
   {
    "duration": 26,
    "start_time": "2022-04-13T08:56:04.954Z"
   },
   {
    "duration": 23,
    "start_time": "2022-04-13T08:59:08.387Z"
   },
   {
    "duration": 142,
    "start_time": "2022-04-13T09:02:05.901Z"
   },
   {
    "duration": 4,
    "start_time": "2022-04-13T09:02:16.925Z"
   },
   {
    "duration": 7,
    "start_time": "2022-04-13T09:02:25.020Z"
   },
   {
    "duration": 21,
    "start_time": "2022-04-13T09:04:56.547Z"
   },
   {
    "duration": 26,
    "start_time": "2022-04-13T09:14:20.209Z"
   },
   {
    "duration": 18,
    "start_time": "2022-04-13T09:14:33.867Z"
   },
   {
    "duration": 19,
    "start_time": "2022-04-13T09:15:03.767Z"
   },
   {
    "duration": 10,
    "start_time": "2022-04-13T09:15:23.485Z"
   },
   {
    "duration": 11,
    "start_time": "2022-04-13T09:15:48.154Z"
   },
   {
    "duration": 10,
    "start_time": "2022-04-13T09:15:50.626Z"
   },
   {
    "duration": 9,
    "start_time": "2022-04-13T09:15:53.599Z"
   },
   {
    "duration": 17,
    "start_time": "2022-04-13T09:15:55.887Z"
   },
   {
    "duration": 19,
    "start_time": "2022-04-13T09:16:48.052Z"
   },
   {
    "duration": 154,
    "start_time": "2022-04-13T09:19:27.555Z"
   },
   {
    "duration": 27,
    "start_time": "2022-04-13T09:19:36.875Z"
   },
   {
    "duration": 20,
    "start_time": "2022-04-13T10:09:50.513Z"
   },
   {
    "duration": 18,
    "start_time": "2022-04-13T10:09:54.669Z"
   },
   {
    "duration": 17,
    "start_time": "2022-04-13T10:10:12.941Z"
   },
   {
    "duration": 18,
    "start_time": "2022-04-13T10:20:57.942Z"
   },
   {
    "duration": 20,
    "start_time": "2022-04-13T10:22:17.790Z"
   },
   {
    "duration": 2,
    "start_time": "2022-04-13T10:22:26.288Z"
   },
   {
    "duration": 120,
    "start_time": "2022-04-13T10:22:26.292Z"
   },
   {
    "duration": 4,
    "start_time": "2022-04-13T10:22:26.414Z"
   },
   {
    "duration": 30,
    "start_time": "2022-04-13T10:22:26.419Z"
   },
   {
    "duration": 9,
    "start_time": "2022-04-13T10:22:26.451Z"
   },
   {
    "duration": 38,
    "start_time": "2022-04-13T10:22:26.462Z"
   },
   {
    "duration": 3,
    "start_time": "2022-04-13T10:22:26.501Z"
   },
   {
    "duration": 9,
    "start_time": "2022-04-13T10:22:26.533Z"
   },
   {
    "duration": 18,
    "start_time": "2022-04-13T10:22:26.544Z"
   },
   {
    "duration": 29,
    "start_time": "2022-04-13T10:22:26.563Z"
   },
   {
    "duration": 52,
    "start_time": "2022-04-13T10:22:26.594Z"
   },
   {
    "duration": 14,
    "start_time": "2022-04-13T10:22:29.780Z"
   },
   {
    "duration": 9,
    "start_time": "2022-04-13T10:30:45.206Z"
   },
   {
    "duration": 8,
    "start_time": "2022-04-13T10:31:07.185Z"
   },
   {
    "duration": 15,
    "start_time": "2022-04-13T10:31:14.452Z"
   },
   {
    "duration": 133,
    "start_time": "2022-04-13T10:33:33.793Z"
   },
   {
    "duration": 6,
    "start_time": "2022-04-13T10:40:21.441Z"
   },
   {
    "duration": 35,
    "start_time": "2022-04-13T10:40:27.873Z"
   },
   {
    "duration": 5,
    "start_time": "2022-04-13T10:43:22.291Z"
   },
   {
    "duration": 39,
    "start_time": "2022-04-13T10:43:27.115Z"
   },
   {
    "duration": 3,
    "start_time": "2022-04-13T10:44:53.271Z"
   },
   {
    "duration": 132,
    "start_time": "2022-04-13T10:44:53.278Z"
   },
   {
    "duration": 4,
    "start_time": "2022-04-13T10:44:53.412Z"
   },
   {
    "duration": 33,
    "start_time": "2022-04-13T10:44:53.418Z"
   },
   {
    "duration": 10,
    "start_time": "2022-04-13T10:44:53.453Z"
   },
   {
    "duration": 35,
    "start_time": "2022-04-13T10:44:53.466Z"
   },
   {
    "duration": 3,
    "start_time": "2022-04-13T10:44:53.502Z"
   },
   {
    "duration": 34,
    "start_time": "2022-04-13T10:44:53.506Z"
   },
   {
    "duration": 3,
    "start_time": "2022-04-13T10:45:02.020Z"
   },
   {
    "duration": 131,
    "start_time": "2022-04-13T10:45:02.025Z"
   },
   {
    "duration": 4,
    "start_time": "2022-04-13T10:45:02.158Z"
   },
   {
    "duration": 29,
    "start_time": "2022-04-13T10:45:02.164Z"
   },
   {
    "duration": 9,
    "start_time": "2022-04-13T10:45:02.195Z"
   },
   {
    "duration": 60,
    "start_time": "2022-04-13T10:45:02.206Z"
   },
   {
    "duration": 3,
    "start_time": "2022-04-13T10:45:02.269Z"
   },
   {
    "duration": 10,
    "start_time": "2022-04-13T10:45:04.674Z"
   },
   {
    "duration": 29,
    "start_time": "2022-04-13T10:45:09.148Z"
   },
   {
    "duration": 14,
    "start_time": "2022-04-13T10:48:49.206Z"
   },
   {
    "duration": 18,
    "start_time": "2022-04-13T12:00:12.065Z"
   },
   {
    "duration": 18,
    "start_time": "2022-04-13T12:00:24.284Z"
   },
   {
    "duration": 23,
    "start_time": "2022-04-13T12:00:37.534Z"
   },
   {
    "duration": 13,
    "start_time": "2022-04-13T12:01:12.292Z"
   },
   {
    "duration": 28,
    "start_time": "2022-04-13T12:01:16.857Z"
   },
   {
    "duration": 15,
    "start_time": "2022-04-13T12:01:41.691Z"
   },
   {
    "duration": 8,
    "start_time": "2022-04-13T12:06:42.119Z"
   },
   {
    "duration": 3,
    "start_time": "2022-04-13T12:06:48.384Z"
   },
   {
    "duration": 142,
    "start_time": "2022-04-13T12:06:48.390Z"
   },
   {
    "duration": 4,
    "start_time": "2022-04-13T12:06:48.534Z"
   },
   {
    "duration": 25,
    "start_time": "2022-04-13T12:06:48.540Z"
   },
   {
    "duration": 12,
    "start_time": "2022-04-13T12:06:48.567Z"
   },
   {
    "duration": 90,
    "start_time": "2022-04-13T12:06:48.582Z"
   },
   {
    "duration": 3,
    "start_time": "2022-04-13T12:06:48.674Z"
   },
   {
    "duration": 12,
    "start_time": "2022-04-13T12:06:48.679Z"
   },
   {
    "duration": 17,
    "start_time": "2022-04-13T12:06:48.693Z"
   },
   {
    "duration": 43,
    "start_time": "2022-04-13T12:06:48.734Z"
   },
   {
    "duration": 26,
    "start_time": "2022-04-13T12:06:48.779Z"
   },
   {
    "duration": 17,
    "start_time": "2022-04-13T12:06:48.833Z"
   },
   {
    "duration": 9,
    "start_time": "2022-04-13T12:06:48.853Z"
   },
   {
    "duration": 25,
    "start_time": "2022-04-13T12:06:48.864Z"
   },
   {
    "duration": 8,
    "start_time": "2022-04-13T12:06:50.851Z"
   },
   {
    "duration": 54,
    "start_time": "2022-04-13T12:06:53.970Z"
   },
   {
    "duration": 3,
    "start_time": "2022-04-13T12:07:42.359Z"
   },
   {
    "duration": 155,
    "start_time": "2022-04-13T12:07:42.365Z"
   },
   {
    "duration": 10,
    "start_time": "2022-04-13T12:07:42.523Z"
   },
   {
    "duration": 29,
    "start_time": "2022-04-13T12:07:42.536Z"
   },
   {
    "duration": 12,
    "start_time": "2022-04-13T12:07:42.567Z"
   },
   {
    "duration": 70,
    "start_time": "2022-04-13T12:07:42.581Z"
   },
   {
    "duration": 16,
    "start_time": "2022-04-13T12:07:51.227Z"
   },
   {
    "duration": 48,
    "start_time": "2022-04-13T12:07:53.547Z"
   },
   {
    "duration": 128,
    "start_time": "2022-04-13T12:09:51.528Z"
   },
   {
    "duration": 132,
    "start_time": "2022-04-13T12:11:02.678Z"
   },
   {
    "duration": 355,
    "start_time": "2022-04-13T12:12:49.435Z"
   },
   {
    "duration": 391,
    "start_time": "2022-04-13T12:15:24.161Z"
   },
   {
    "duration": 408,
    "start_time": "2022-04-13T12:15:43.384Z"
   },
   {
    "duration": 320,
    "start_time": "2022-04-13T12:16:11.232Z"
   },
   {
    "duration": 296,
    "start_time": "2022-04-13T12:16:20.862Z"
   },
   {
    "duration": 322,
    "start_time": "2022-04-13T12:16:40.568Z"
   },
   {
    "duration": 308,
    "start_time": "2022-04-13T12:16:52.725Z"
   },
   {
    "duration": 2159,
    "start_time": "2022-04-13T12:17:50.699Z"
   },
   {
    "duration": 3,
    "start_time": "2022-04-13T12:18:10.025Z"
   },
   {
    "duration": 132,
    "start_time": "2022-04-13T12:18:10.031Z"
   },
   {
    "duration": 4,
    "start_time": "2022-04-13T12:18:10.165Z"
   },
   {
    "duration": 32,
    "start_time": "2022-04-13T12:18:10.172Z"
   },
   {
    "duration": 30,
    "start_time": "2022-04-13T12:18:10.206Z"
   },
   {
    "duration": 39,
    "start_time": "2022-04-13T12:18:10.238Z"
   },
   {
    "duration": 3,
    "start_time": "2022-04-13T12:18:10.279Z"
   },
   {
    "duration": 16,
    "start_time": "2022-04-13T12:18:10.283Z"
   },
   {
    "duration": 42,
    "start_time": "2022-04-13T12:18:10.302Z"
   },
   {
    "duration": 29,
    "start_time": "2022-04-13T12:18:10.345Z"
   },
   {
    "duration": 22,
    "start_time": "2022-04-13T12:18:10.376Z"
   },
   {
    "duration": 46,
    "start_time": "2022-04-13T12:18:10.400Z"
   },
   {
    "duration": 8,
    "start_time": "2022-04-13T12:18:10.448Z"
   },
   {
    "duration": 25,
    "start_time": "2022-04-13T12:18:10.458Z"
   },
   {
    "duration": 3,
    "start_time": "2022-04-13T12:18:10.486Z"
   },
   {
    "duration": 44,
    "start_time": "2022-04-13T12:18:10.491Z"
   },
   {
    "duration": 36,
    "start_time": "2022-04-13T12:18:10.537Z"
   },
   {
    "duration": 11,
    "start_time": "2022-04-13T12:18:10.575Z"
   },
   {
    "duration": 420,
    "start_time": "2022-04-13T12:18:10.587Z"
   },
   {
    "duration": 125,
    "start_time": "2022-04-13T12:18:11.010Z"
   },
   {
    "duration": 14,
    "start_time": "2022-04-13T12:18:11.137Z"
   },
   {
    "duration": 215,
    "start_time": "2022-04-13T12:18:14.403Z"
   },
   {
    "duration": 159,
    "start_time": "2022-04-13T12:19:08.872Z"
   },
   {
    "duration": 219,
    "start_time": "2022-04-13T12:20:07.463Z"
   },
   {
    "duration": 208,
    "start_time": "2022-04-13T12:20:15.233Z"
   },
   {
    "duration": 237,
    "start_time": "2022-04-13T12:21:05.302Z"
   },
   {
    "duration": 244,
    "start_time": "2022-04-13T12:21:26.130Z"
   },
   {
    "duration": 89,
    "start_time": "2022-04-13T12:23:32.051Z"
   },
   {
    "duration": 11,
    "start_time": "2022-04-13T12:23:56.699Z"
   },
   {
    "duration": 4,
    "start_time": "2022-04-13T12:24:07.933Z"
   },
   {
    "duration": 171,
    "start_time": "2022-04-13T12:24:07.939Z"
   },
   {
    "duration": 4,
    "start_time": "2022-04-13T12:24:08.112Z"
   },
   {
    "duration": 39,
    "start_time": "2022-04-13T12:24:08.118Z"
   },
   {
    "duration": 15,
    "start_time": "2022-04-13T12:24:08.161Z"
   },
   {
    "duration": 61,
    "start_time": "2022-04-13T12:24:08.178Z"
   },
   {
    "duration": 3,
    "start_time": "2022-04-13T12:24:08.240Z"
   },
   {
    "duration": 16,
    "start_time": "2022-04-13T12:24:08.245Z"
   },
   {
    "duration": 23,
    "start_time": "2022-04-13T12:24:08.263Z"
   },
   {
    "duration": 51,
    "start_time": "2022-04-13T12:24:08.288Z"
   },
   {
    "duration": 26,
    "start_time": "2022-04-13T12:24:08.343Z"
   },
   {
    "duration": 22,
    "start_time": "2022-04-13T12:24:08.371Z"
   },
   {
    "duration": 41,
    "start_time": "2022-04-13T12:24:08.396Z"
   },
   {
    "duration": 34,
    "start_time": "2022-04-13T12:24:08.440Z"
   },
   {
    "duration": 3,
    "start_time": "2022-04-13T12:24:08.476Z"
   },
   {
    "duration": 8,
    "start_time": "2022-04-13T12:24:08.481Z"
   },
   {
    "duration": 69,
    "start_time": "2022-04-13T12:24:08.491Z"
   },
   {
    "duration": 9,
    "start_time": "2022-04-13T12:24:08.562Z"
   },
   {
    "duration": 399,
    "start_time": "2022-04-13T12:24:08.574Z"
   },
   {
    "duration": 240,
    "start_time": "2022-04-13T12:24:08.975Z"
   },
   {
    "duration": 21,
    "start_time": "2022-04-13T12:24:09.217Z"
   },
   {
    "duration": 238,
    "start_time": "2022-04-13T12:24:09.240Z"
   },
   {
    "duration": 3,
    "start_time": "2022-04-13T12:24:09.480Z"
   },
   {
    "duration": 14,
    "start_time": "2022-04-13T12:24:09.485Z"
   },
   {
    "duration": 180,
    "start_time": "2022-04-13T12:24:09.500Z"
   },
   {
    "duration": 163,
    "start_time": "2022-04-13T12:24:09.683Z"
   },
   {
    "duration": 13,
    "start_time": "2022-04-13T12:24:09.848Z"
   },
   {
    "duration": 239,
    "start_time": "2022-04-13T12:24:09.863Z"
   },
   {
    "duration": 3,
    "start_time": "2022-04-13T12:24:10.108Z"
   },
   {
    "duration": 31,
    "start_time": "2022-04-13T12:24:10.113Z"
   },
   {
    "duration": 255,
    "start_time": "2022-04-13T12:24:10.146Z"
   },
   {
    "duration": 144,
    "start_time": "2022-04-13T12:24:10.402Z"
   },
   {
    "duration": 13,
    "start_time": "2022-04-13T12:24:10.548Z"
   },
   {
    "duration": 107,
    "start_time": "2022-04-13T12:24:10.563Z"
   },
   {
    "duration": 37,
    "start_time": "2022-04-13T12:24:10.672Z"
   },
   {
    "duration": 48,
    "start_time": "2022-04-13T12:24:10.711Z"
   },
   {
    "duration": 17,
    "start_time": "2022-04-13T12:24:13.390Z"
   },
   {
    "duration": 12,
    "start_time": "2022-04-13T12:24:30.487Z"
   },
   {
    "duration": 139,
    "start_time": "2022-04-13T12:38:20.831Z"
   },
   {
    "duration": 25,
    "start_time": "2022-04-13T12:53:14.865Z"
   },
   {
    "duration": 19,
    "start_time": "2022-04-13T12:55:21.338Z"
   },
   {
    "duration": 11,
    "start_time": "2022-04-13T12:55:34.046Z"
   },
   {
    "duration": 11,
    "start_time": "2022-04-13T12:55:40.664Z"
   },
   {
    "duration": 16,
    "start_time": "2022-04-13T12:55:45.896Z"
   },
   {
    "duration": 581,
    "start_time": "2022-04-13T12:56:48.549Z"
   },
   {
    "duration": 62,
    "start_time": "2022-04-13T12:57:03.402Z"
   },
   {
    "duration": 18,
    "start_time": "2022-04-13T12:57:12.849Z"
   },
   {
    "duration": 15,
    "start_time": "2022-04-13T12:57:16.458Z"
   },
   {
    "duration": 13,
    "start_time": "2022-04-13T12:57:31.193Z"
   },
   {
    "duration": 14,
    "start_time": "2022-04-13T12:57:38.768Z"
   },
   {
    "duration": 3793,
    "start_time": "2022-04-13T12:58:21.057Z"
   },
   {
    "duration": 3,
    "start_time": "2022-04-13T15:32:37.544Z"
   },
   {
    "duration": 2,
    "start_time": "2022-04-13T15:32:42.558Z"
   },
   {
    "duration": 45,
    "start_time": "2022-04-13T15:33:11.332Z"
   },
   {
    "duration": 1344,
    "start_time": "2022-04-13T15:33:16.943Z"
   },
   {
    "duration": 115,
    "start_time": "2022-04-13T15:33:18.289Z"
   },
   {
    "duration": 3,
    "start_time": "2022-04-13T15:33:18.405Z"
   },
   {
    "duration": 19,
    "start_time": "2022-04-13T15:33:18.411Z"
   },
   {
    "duration": 31,
    "start_time": "2022-04-13T15:33:18.431Z"
   },
   {
    "duration": 36,
    "start_time": "2022-04-13T15:33:18.464Z"
   },
   {
    "duration": 2,
    "start_time": "2022-04-13T15:33:18.502Z"
   },
   {
    "duration": 13,
    "start_time": "2022-04-13T15:33:18.506Z"
   },
   {
    "duration": 39,
    "start_time": "2022-04-13T15:33:18.520Z"
   },
   {
    "duration": 24,
    "start_time": "2022-04-13T15:33:18.563Z"
   },
   {
    "duration": 23,
    "start_time": "2022-04-13T15:33:18.589Z"
   },
   {
    "duration": 15,
    "start_time": "2022-04-13T15:33:18.613Z"
   },
   {
    "duration": 31,
    "start_time": "2022-04-13T15:33:18.630Z"
   },
   {
    "duration": 21,
    "start_time": "2022-04-13T15:33:18.662Z"
   },
   {
    "duration": 2,
    "start_time": "2022-04-13T15:33:18.684Z"
   },
   {
    "duration": 7,
    "start_time": "2022-04-13T15:33:18.688Z"
   },
   {
    "duration": 28,
    "start_time": "2022-04-13T15:33:18.696Z"
   },
   {
    "duration": 36,
    "start_time": "2022-04-13T15:33:18.726Z"
   },
   {
    "duration": 236,
    "start_time": "2022-04-13T15:33:18.763Z"
   },
   {
    "duration": 89,
    "start_time": "2022-04-13T15:33:19.001Z"
   },
   {
    "duration": 8,
    "start_time": "2022-04-13T15:33:19.092Z"
   },
   {
    "duration": 183,
    "start_time": "2022-04-13T15:33:19.101Z"
   },
   {
    "duration": 2,
    "start_time": "2022-04-13T15:33:19.286Z"
   },
   {
    "duration": 18,
    "start_time": "2022-04-13T15:33:19.290Z"
   },
   {
    "duration": 121,
    "start_time": "2022-04-13T15:33:19.310Z"
   },
   {
    "duration": 99,
    "start_time": "2022-04-13T15:33:19.432Z"
   },
   {
    "duration": 22,
    "start_time": "2022-04-13T15:33:19.533Z"
   },
   {
    "duration": 163,
    "start_time": "2022-04-13T15:33:19.558Z"
   },
   {
    "duration": 2,
    "start_time": "2022-04-13T15:33:19.723Z"
   },
   {
    "duration": 34,
    "start_time": "2022-04-13T15:33:19.727Z"
   },
   {
    "duration": 191,
    "start_time": "2022-04-13T15:33:19.763Z"
   },
   {
    "duration": 189,
    "start_time": "2022-04-13T15:33:19.956Z"
   },
   {
    "duration": 10,
    "start_time": "2022-04-13T15:33:20.154Z"
   },
   {
    "duration": 11,
    "start_time": "2022-04-13T15:33:20.166Z"
   },
   {
    "duration": 31,
    "start_time": "2022-04-13T15:33:20.178Z"
   },
   {
    "duration": 38,
    "start_time": "2022-04-13T15:33:20.210Z"
   },
   {
    "duration": 10,
    "start_time": "2022-04-13T15:33:20.250Z"
   },
   {
    "duration": 10,
    "start_time": "2022-04-13T15:33:22.498Z"
   },
   {
    "duration": 2225,
    "start_time": "2022-04-13T15:33:57.206Z"
   },
   {
    "duration": 2892,
    "start_time": "2022-04-13T15:34:31.152Z"
   },
   {
    "duration": 1217,
    "start_time": "2022-04-13T15:37:36.709Z"
   },
   {
    "duration": 116,
    "start_time": "2022-04-13T15:37:37.928Z"
   },
   {
    "duration": 10,
    "start_time": "2022-04-13T15:37:38.046Z"
   },
   {
    "duration": 22,
    "start_time": "2022-04-13T15:37:38.058Z"
   },
   {
    "duration": 10,
    "start_time": "2022-04-13T15:37:38.081Z"
   },
   {
    "duration": 35,
    "start_time": "2022-04-13T15:37:38.093Z"
   },
   {
    "duration": 23,
    "start_time": "2022-04-13T15:37:38.131Z"
   },
   {
    "duration": 8,
    "start_time": "2022-04-13T15:37:38.156Z"
   },
   {
    "duration": 18,
    "start_time": "2022-04-13T15:37:38.166Z"
   },
   {
    "duration": 23,
    "start_time": "2022-04-13T15:37:38.187Z"
   },
   {
    "duration": 45,
    "start_time": "2022-04-13T15:37:38.211Z"
   },
   {
    "duration": 14,
    "start_time": "2022-04-13T15:37:38.259Z"
   },
   {
    "duration": 6,
    "start_time": "2022-04-13T15:37:38.275Z"
   },
   {
    "duration": 20,
    "start_time": "2022-04-13T15:37:38.283Z"
   },
   {
    "duration": 2,
    "start_time": "2022-04-13T15:37:38.305Z"
   },
   {
    "duration": 7,
    "start_time": "2022-04-13T15:37:38.309Z"
   },
   {
    "duration": 58,
    "start_time": "2022-04-13T15:37:38.317Z"
   },
   {
    "duration": 8,
    "start_time": "2022-04-13T15:37:38.376Z"
   },
   {
    "duration": 244,
    "start_time": "2022-04-13T15:37:38.385Z"
   },
   {
    "duration": 93,
    "start_time": "2022-04-13T15:37:38.631Z"
   },
   {
    "duration": 8,
    "start_time": "2022-04-13T15:37:38.726Z"
   },
   {
    "duration": 179,
    "start_time": "2022-04-13T15:37:38.736Z"
   },
   {
    "duration": 3,
    "start_time": "2022-04-13T15:37:38.916Z"
   },
   {
    "duration": 11,
    "start_time": "2022-04-13T15:37:38.920Z"
   },
   {
    "duration": 143,
    "start_time": "2022-04-13T15:37:38.933Z"
   },
   {
    "duration": 105,
    "start_time": "2022-04-13T15:37:39.078Z"
   },
   {
    "duration": 9,
    "start_time": "2022-04-13T15:37:39.185Z"
   },
   {
    "duration": 173,
    "start_time": "2022-04-13T15:37:39.197Z"
   },
   {
    "duration": 2,
    "start_time": "2022-04-13T15:37:39.371Z"
   },
   {
    "duration": 13,
    "start_time": "2022-04-13T15:37:39.375Z"
   },
   {
    "duration": 193,
    "start_time": "2022-04-13T15:37:39.389Z"
   },
   {
    "duration": 187,
    "start_time": "2022-04-13T15:37:39.584Z"
   },
   {
    "duration": 9,
    "start_time": "2022-04-13T15:37:39.772Z"
   },
   {
    "duration": 4,
    "start_time": "2022-04-13T15:37:39.783Z"
   },
   {
    "duration": 9,
    "start_time": "2022-04-13T15:37:39.789Z"
   },
   {
    "duration": 34,
    "start_time": "2022-04-13T15:37:39.799Z"
   },
   {
    "duration": 22,
    "start_time": "2022-04-13T15:37:39.835Z"
   },
   {
    "duration": 20,
    "start_time": "2022-04-13T15:37:39.859Z"
   },
   {
    "duration": 2891,
    "start_time": "2022-04-13T15:37:43.616Z"
   },
   {
    "duration": 98,
    "start_time": "2022-04-13T15:41:39.974Z"
   },
   {
    "duration": 20,
    "start_time": "2022-04-13T15:41:44.093Z"
   },
   {
    "duration": 94,
    "start_time": "2022-04-13T15:41:45.846Z"
   },
   {
    "duration": 3,
    "start_time": "2022-04-13T15:42:57.598Z"
   },
   {
    "duration": 26,
    "start_time": "2022-04-13T15:43:02.962Z"
   },
   {
    "duration": 21,
    "start_time": "2022-04-13T15:43:19.456Z"
   },
   {
    "duration": 100,
    "start_time": "2022-04-13T15:43:26.005Z"
   },
   {
    "duration": 19,
    "start_time": "2022-04-13T15:50:19.345Z"
   },
   {
    "duration": 19,
    "start_time": "2022-04-13T15:51:20.188Z"
   },
   {
    "duration": 101,
    "start_time": "2022-04-13T15:51:38.503Z"
   },
   {
    "duration": 19,
    "start_time": "2022-04-13T15:53:33.788Z"
   },
   {
    "duration": 150,
    "start_time": "2022-04-13T15:54:33.512Z"
   },
   {
    "duration": 154,
    "start_time": "2022-04-13T15:54:49.691Z"
   },
   {
    "duration": 155,
    "start_time": "2022-04-13T15:54:59.277Z"
   },
   {
    "duration": 158,
    "start_time": "2022-04-13T15:55:10.254Z"
   },
   {
    "duration": 168,
    "start_time": "2022-04-13T15:55:27.678Z"
   },
   {
    "duration": 18,
    "start_time": "2022-04-13T15:56:00.260Z"
   },
   {
    "duration": 132,
    "start_time": "2022-04-13T15:56:05.894Z"
   },
   {
    "duration": 21,
    "start_time": "2022-04-13T16:13:08.457Z"
   },
   {
    "duration": 28,
    "start_time": "2022-04-13T16:16:29.503Z"
   },
   {
    "duration": 186,
    "start_time": "2022-04-13T16:16:47.905Z"
   },
   {
    "duration": 123,
    "start_time": "2022-04-14T06:47:28.809Z"
   },
   {
    "duration": 62,
    "start_time": "2022-04-14T06:57:36.658Z"
   },
   {
    "duration": 1742,
    "start_time": "2022-04-14T06:57:41.301Z"
   },
   {
    "duration": 155,
    "start_time": "2022-04-14T06:57:43.045Z"
   },
   {
    "duration": 5,
    "start_time": "2022-04-14T06:57:43.203Z"
   },
   {
    "duration": 25,
    "start_time": "2022-04-14T06:57:43.210Z"
   },
   {
    "duration": 12,
    "start_time": "2022-04-14T06:57:43.237Z"
   },
   {
    "duration": 54,
    "start_time": "2022-04-14T06:57:43.281Z"
   },
   {
    "duration": 3,
    "start_time": "2022-04-14T06:57:43.338Z"
   },
   {
    "duration": 17,
    "start_time": "2022-04-14T06:57:43.343Z"
   },
   {
    "duration": 18,
    "start_time": "2022-04-14T06:57:43.383Z"
   },
   {
    "duration": 36,
    "start_time": "2022-04-14T06:57:43.405Z"
   },
   {
    "duration": 63,
    "start_time": "2022-04-14T06:57:43.443Z"
   },
   {
    "duration": 22,
    "start_time": "2022-04-14T06:57:43.509Z"
   },
   {
    "duration": 12,
    "start_time": "2022-04-14T06:57:43.533Z"
   },
   {
    "duration": 61,
    "start_time": "2022-04-14T06:57:43.548Z"
   },
   {
    "duration": 4,
    "start_time": "2022-04-14T06:57:43.611Z"
   },
   {
    "duration": 7,
    "start_time": "2022-04-14T06:57:43.618Z"
   },
   {
    "duration": 82,
    "start_time": "2022-04-14T06:57:43.628Z"
   },
   {
    "duration": 13,
    "start_time": "2022-04-14T06:57:43.713Z"
   },
   {
    "duration": 428,
    "start_time": "2022-04-14T06:57:43.729Z"
   },
   {
    "duration": 158,
    "start_time": "2022-04-14T06:57:44.160Z"
   },
   {
    "duration": 10,
    "start_time": "2022-04-14T06:57:44.321Z"
   },
   {
    "duration": 306,
    "start_time": "2022-04-14T06:57:44.333Z"
   },
   {
    "duration": 4,
    "start_time": "2022-04-14T06:57:44.641Z"
   },
   {
    "duration": 15,
    "start_time": "2022-04-14T06:57:44.647Z"
   },
   {
    "duration": 208,
    "start_time": "2022-04-14T06:57:44.682Z"
   },
   {
    "duration": 177,
    "start_time": "2022-04-14T06:57:44.892Z"
   },
   {
    "duration": 17,
    "start_time": "2022-04-14T06:57:45.071Z"
   },
   {
    "duration": 294,
    "start_time": "2022-04-14T06:57:45.094Z"
   },
   {
    "duration": 4,
    "start_time": "2022-04-14T06:57:45.390Z"
   },
   {
    "duration": 15,
    "start_time": "2022-04-14T06:57:45.396Z"
   },
   {
    "duration": 340,
    "start_time": "2022-04-14T06:57:45.413Z"
   },
   {
    "duration": 261,
    "start_time": "2022-04-14T06:57:45.755Z"
   },
   {
    "duration": 15,
    "start_time": "2022-04-14T06:57:46.019Z"
   },
   {
    "duration": 5,
    "start_time": "2022-04-14T06:57:46.036Z"
   },
   {
    "duration": 9,
    "start_time": "2022-04-14T06:57:46.044Z"
   },
   {
    "duration": 66,
    "start_time": "2022-04-14T06:57:46.055Z"
   },
   {
    "duration": 14,
    "start_time": "2022-04-14T06:57:46.124Z"
   },
   {
    "duration": 43,
    "start_time": "2022-04-14T06:57:46.140Z"
   },
   {
    "duration": 5229,
    "start_time": "2022-04-14T06:57:46.185Z"
   },
   {
    "duration": 35,
    "start_time": "2022-04-14T06:57:51.417Z"
   },
   {
    "duration": 192,
    "start_time": "2022-04-14T06:57:51.454Z"
   },
   {
    "duration": 41,
    "start_time": "2022-04-14T06:57:51.648Z"
   },
   {
    "duration": 198,
    "start_time": "2022-04-14T06:57:51.691Z"
   },
   {
    "duration": 27,
    "start_time": "2022-04-14T06:57:51.892Z"
   },
   {
    "duration": 237,
    "start_time": "2022-04-14T06:57:51.921Z"
   },
   {
    "duration": 39,
    "start_time": "2022-04-14T06:57:52.160Z"
   },
   {
    "duration": 211,
    "start_time": "2022-04-14T06:57:52.201Z"
   },
   {
    "duration": 8,
    "start_time": "2022-04-14T06:57:52.414Z"
   },
   {
    "duration": 76,
    "start_time": "2022-04-14T06:57:52.426Z"
   },
   {
    "duration": 279,
    "start_time": "2022-04-14T07:00:48.570Z"
   },
   {
    "duration": 244,
    "start_time": "2022-04-14T07:00:59.649Z"
   },
   {
    "duration": 286,
    "start_time": "2022-04-14T07:01:12.576Z"
   },
   {
    "duration": 178,
    "start_time": "2022-04-14T07:02:26.736Z"
   },
   {
    "duration": 94,
    "start_time": "2022-04-14T07:07:47.972Z"
   },
   {
    "duration": 5,
    "start_time": "2022-04-14T07:07:53.384Z"
   },
   {
    "duration": 172,
    "start_time": "2022-04-14T07:07:53.391Z"
   },
   {
    "duration": 6,
    "start_time": "2022-04-14T07:07:53.581Z"
   },
   {
    "duration": 26,
    "start_time": "2022-04-14T07:07:53.590Z"
   },
   {
    "duration": 13,
    "start_time": "2022-04-14T07:07:53.619Z"
   },
   {
    "duration": 95,
    "start_time": "2022-04-14T07:07:53.634Z"
   },
   {
    "duration": 4,
    "start_time": "2022-04-14T07:07:53.732Z"
   },
   {
    "duration": 15,
    "start_time": "2022-04-14T07:07:53.738Z"
   },
   {
    "duration": 40,
    "start_time": "2022-04-14T07:07:53.757Z"
   },
   {
    "duration": 39,
    "start_time": "2022-04-14T07:07:53.800Z"
   },
   {
    "duration": 60,
    "start_time": "2022-04-14T07:07:53.842Z"
   },
   {
    "duration": 21,
    "start_time": "2022-04-14T07:07:53.905Z"
   },
   {
    "duration": 11,
    "start_time": "2022-04-14T07:07:53.929Z"
   },
   {
    "duration": 68,
    "start_time": "2022-04-14T07:07:53.943Z"
   },
   {
    "duration": 4,
    "start_time": "2022-04-14T07:07:54.013Z"
   },
   {
    "duration": 10,
    "start_time": "2022-04-14T07:07:54.020Z"
   },
   {
    "duration": 73,
    "start_time": "2022-04-14T07:07:54.032Z"
   },
   {
    "duration": 13,
    "start_time": "2022-04-14T07:07:54.108Z"
   },
   {
    "duration": 418,
    "start_time": "2022-04-14T07:07:54.124Z"
   },
   {
    "duration": 173,
    "start_time": "2022-04-14T07:07:54.545Z"
   },
   {
    "duration": 12,
    "start_time": "2022-04-14T07:07:54.721Z"
   },
   {
    "duration": 436,
    "start_time": "2022-04-14T07:07:54.735Z"
   },
   {
    "duration": 4,
    "start_time": "2022-04-14T07:07:55.173Z"
   },
   {
    "duration": 11,
    "start_time": "2022-04-14T07:07:55.182Z"
   },
   {
    "duration": 244,
    "start_time": "2022-04-14T07:07:55.195Z"
   },
   {
    "duration": 181,
    "start_time": "2022-04-14T07:07:55.441Z"
   },
   {
    "duration": 14,
    "start_time": "2022-04-14T07:07:55.625Z"
   },
   {
    "duration": 310,
    "start_time": "2022-04-14T07:07:55.641Z"
   },
   {
    "duration": 4,
    "start_time": "2022-04-14T07:07:55.953Z"
   },
   {
    "duration": 31,
    "start_time": "2022-04-14T07:07:55.960Z"
   },
   {
    "duration": 342,
    "start_time": "2022-04-14T07:07:55.993Z"
   },
   {
    "duration": 185,
    "start_time": "2022-04-14T07:07:56.338Z"
   },
   {
    "duration": 14,
    "start_time": "2022-04-14T07:07:56.525Z"
   },
   {
    "duration": 3,
    "start_time": "2022-04-14T07:07:56.542Z"
   },
   {
    "duration": 6,
    "start_time": "2022-04-14T07:07:56.547Z"
   },
   {
    "duration": 46,
    "start_time": "2022-04-14T07:07:56.582Z"
   },
   {
    "duration": 15,
    "start_time": "2022-04-14T07:07:56.630Z"
   },
   {
    "duration": 45,
    "start_time": "2022-04-14T07:07:56.647Z"
   },
   {
    "duration": 4869,
    "start_time": "2022-04-14T07:07:56.695Z"
   },
   {
    "duration": 46,
    "start_time": "2022-04-14T07:08:01.567Z"
   },
   {
    "duration": 207,
    "start_time": "2022-04-14T07:08:01.616Z"
   },
   {
    "duration": 30,
    "start_time": "2022-04-14T07:08:01.826Z"
   },
   {
    "duration": 226,
    "start_time": "2022-04-14T07:08:01.858Z"
   },
   {
    "duration": 28,
    "start_time": "2022-04-14T07:08:02.087Z"
   },
   {
    "duration": 303,
    "start_time": "2022-04-14T07:08:02.118Z"
   },
   {
    "duration": 29,
    "start_time": "2022-04-14T07:08:02.423Z"
   },
   {
    "duration": 314,
    "start_time": "2022-04-14T07:08:02.455Z"
   },
   {
    "duration": 16,
    "start_time": "2022-04-14T07:08:02.772Z"
   },
   {
    "duration": 95,
    "start_time": "2022-04-14T07:08:02.791Z"
   },
   {
    "duration": 314,
    "start_time": "2022-04-14T07:08:02.888Z"
   },
   {
    "duration": 45,
    "start_time": "2022-04-14T07:08:03.204Z"
   },
   {
    "duration": 61,
    "start_time": "2022-04-14T07:08:03.252Z"
   },
   {
    "duration": 606,
    "start_time": "2022-04-14T07:08:03.315Z"
   },
   {
    "duration": 64,
    "start_time": "2022-04-14T07:08:03.924Z"
   },
   {
    "duration": 47,
    "start_time": "2022-04-14T07:08:03.991Z"
   },
   {
    "duration": 15,
    "start_time": "2022-04-14T07:08:08.565Z"
   },
   {
    "duration": 358549,
    "start_time": "2022-04-14T07:15:28.108Z"
   },
   {
    "duration": 20,
    "start_time": "2022-04-14T07:25:55.791Z"
   },
   {
    "duration": 8519,
    "start_time": "2022-04-14T07:26:23.328Z"
   },
   {
    "duration": 31,
    "start_time": "2022-04-14T07:30:18.309Z"
   },
   {
    "duration": 31,
    "start_time": "2022-04-14T07:31:16.898Z"
   },
   {
    "duration": 332,
    "start_time": "2022-04-14T07:32:04.714Z"
   },
   {
    "duration": 31,
    "start_time": "2022-04-14T07:32:43.880Z"
   },
   {
    "duration": 301,
    "start_time": "2022-04-14T07:32:46.770Z"
   },
   {
    "duration": 40,
    "start_time": "2022-04-14T07:44:42.149Z"
   },
   {
    "duration": 30,
    "start_time": "2022-04-14T07:46:01.253Z"
   },
   {
    "duration": 282,
    "start_time": "2022-04-14T07:46:16.761Z"
   },
   {
    "duration": 39,
    "start_time": "2022-04-14T07:51:27.925Z"
   },
   {
    "duration": 35,
    "start_time": "2022-04-14T07:51:46.046Z"
   },
   {
    "duration": 16,
    "start_time": "2022-04-14T07:54:22.561Z"
   },
   {
    "duration": 42,
    "start_time": "2022-04-14T07:54:30.507Z"
   },
   {
    "duration": 278,
    "start_time": "2022-04-14T07:54:33.511Z"
   },
   {
    "duration": 16,
    "start_time": "2022-04-14T07:57:14.056Z"
   },
   {
    "duration": 39,
    "start_time": "2022-04-14T07:57:17.676Z"
   },
   {
    "duration": 257,
    "start_time": "2022-04-14T07:57:21.531Z"
   },
   {
    "duration": 165,
    "start_time": "2022-04-14T10:43:48.484Z"
   },
   {
    "duration": 170,
    "start_time": "2022-04-14T16:32:26.413Z"
   }
  ],
  "kernelspec": {
   "display_name": "Python 3",
   "language": "python",
   "name": "python3"
  },
  "language_info": {
   "codemirror_mode": {
    "name": "ipython",
    "version": 3
   },
   "file_extension": ".py",
   "mimetype": "text/x-python",
   "name": "python",
   "nbconvert_exporter": "python",
   "pygments_lexer": "ipython3",
   "version": "3.7.3"
  },
  "toc": {
   "base_numbering": 1,
   "nav_menu": {},
   "number_sections": true,
   "sideBar": true,
   "skip_h1_title": true,
   "title_cell": "Table of Contents",
   "title_sidebar": "Contents",
   "toc_cell": false,
   "toc_position": {},
   "toc_section_display": true,
   "toc_window_display": false
  }
 },
 "nbformat": 4,
 "nbformat_minor": 2
}
