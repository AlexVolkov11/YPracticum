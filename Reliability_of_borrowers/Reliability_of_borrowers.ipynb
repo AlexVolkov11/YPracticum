{
 "cells": [
  {
   "cell_type": "markdown",
   "metadata": {},
   "source": [
    "# Исследование надежности заемщиков."
   ]
  },
  {
   "cell_type": "markdown",
   "metadata": {},
   "source": [
    "<h1>Содержание<span class=\"tocSkip\"></span></h1>\n",
    "<div class=\"toc\"><ul class=\"toc-item\"><li><span><a href=\"#Шаг-1.-Обзор-данных\" data-toc-modified-id=\"Шаг-1.-Обзор-данных\"><span class=\"toc-item-num\">1.&nbsp;&nbsp;</span>Обзор данных</a></span><li><span><a href=\"#Шаг-2.1-Заполнение-пропусков\" data-toc-modified-id=\"Шаг-2.1-Заполнение-пропусков\"><span class=\"toc-item-num\">2.1&nbsp;&nbsp;</span>Заполнение пропусков</a></span></li><li><span><a href=\"#Шаг-2.2-Проверка-данных-на-аномалии-и-исправления.\" data-toc-modified-id=\"Шаг-2.2-Проверка-данных-на-аномалии-и-исправления.\"><span class=\"toc-item-num\">2.2&nbsp;&nbsp;</span>Проверка данных на аномалии и исправления.</a></span></li><li><span><a href=\"#Шаг-2.3.-Изменение-типов-данных.\" data-toc-modified-id=\"Шаг-2.3.-Изменение-типов-данных.\"><span class=\"toc-item-num\">2.3&nbsp;&nbsp;</span>Изменение типов данных.</a></span></li><li><span><a href=\"#Шаг-2.4.-Удаление-дубликатов.\" data-toc-modified-id=\"Шаг-2.4.-Удаление-дубликатов.\"><span class=\"toc-item-num\">2.4&nbsp;&nbsp;</span>Удаление дубликатов.</a></span></li><li><span><a href=\"#Шаг-2.5.-Формирование-дополнительных-датафреймов-словарей,-декомпозиция-исходного-датафрейма.\" data-toc-modified-id=\"Шаг-2.5.-Формирование-дополнительных-датафреймов-словарей,-декомпозиция-исходного-датафрейма.\"><span class=\"toc-item-num\">2.5&nbsp;&nbsp;</span>Формирование дополнительных датафреймов словарей, декомпозиция исходного датафрейма.</a></span></li><li><span><a href=\"#Шаг-2.6.-Категоризация-дохода.\" data-toc-modified-id=\"Шаг-2.6.-Категоризация-дохода.\"><span class=\"toc-item-num\">2.6&nbsp;&nbsp;</span>Категоризация дохода.</a></span></li><li><span><a href=\"#Шаг-2.7.-Категоризация-целей-кредита.\" data-toc-modified-id=\"Шаг-2.7.-Категоризация-целей-кредита.\"><span class=\"toc-item-num\">2.7&nbsp;&nbsp;</span>Категоризация целей кредита.</a></span></li><li><span><a href=\"#Проверка-влияния-различных-факторов-на-вероятность-невозврата-кредита-в-срок.\" data-toc-modified-id=\"Проверка-влияния-различных-факторов-на-вероятность-невозврата-кредита-в-срок.\"><span class=\"toc-item-num\">3.&nbsp;&nbsp;</span>Проверка влияния различных факторов на вероятность невозврата кредита в срок.</a></span></li><li><span><a href=\"#Общий-вывод\" data-toc-modified-id=\"Общий-вывод-5\"><span class=\"toc-item-num\">4.&nbsp;&nbsp;</span>Общий вывод</a></span></li></ul></div>"
   ]
  },
  {
   "cell_type": "markdown",
   "metadata": {},
   "source": [
    "### Шаг 1. Обзор данных"
   ]
  },
  {
   "cell_type": "code",
   "execution_count": 110,
   "metadata": {},
   "outputs": [],
   "source": [
    "import pandas as pd\n",
    "import numpy as np"
   ]
  },
  {
   "cell_type": "code",
   "execution_count": 111,
   "metadata": {},
   "outputs": [
    {
     "name": "stdout",
     "output_type": "stream",
     "text": [
      "<class 'pandas.core.frame.DataFrame'>\n",
      "RangeIndex: 21525 entries, 0 to 21524\n",
      "Data columns (total 12 columns):\n",
      " #   Column            Non-Null Count  Dtype  \n",
      "---  ------            --------------  -----  \n",
      " 0   children          21525 non-null  int64  \n",
      " 1   days_employed     19351 non-null  float64\n",
      " 2   dob_years         21525 non-null  int64  \n",
      " 3   education         21525 non-null  object \n",
      " 4   education_id      21525 non-null  int64  \n",
      " 5   family_status     21525 non-null  object \n",
      " 6   family_status_id  21525 non-null  int64  \n",
      " 7   gender            21525 non-null  object \n",
      " 8   income_type       21525 non-null  object \n",
      " 9   debt              21525 non-null  int64  \n",
      " 10  total_income      19351 non-null  float64\n",
      " 11  purpose           21525 non-null  object \n",
      "dtypes: float64(2), int64(5), object(5)\n",
      "memory usage: 2.0+ MB\n"
     ]
    }
   ],
   "source": [
    "df = pd.read_csv('/datasets/data.csv')\n",
    "df.info()"
   ]
  },
  {
   "cell_type": "code",
   "execution_count": 112,
   "metadata": {},
   "outputs": [
    {
     "data": {
      "text/html": [
       "<div>\n",
       "<style scoped>\n",
       "    .dataframe tbody tr th:only-of-type {\n",
       "        vertical-align: middle;\n",
       "    }\n",
       "\n",
       "    .dataframe tbody tr th {\n",
       "        vertical-align: top;\n",
       "    }\n",
       "\n",
       "    .dataframe thead th {\n",
       "        text-align: right;\n",
       "    }\n",
       "</style>\n",
       "<table border=\"1\" class=\"dataframe\">\n",
       "  <thead>\n",
       "    <tr style=\"text-align: right;\">\n",
       "      <th></th>\n",
       "      <th>children</th>\n",
       "      <th>days_employed</th>\n",
       "      <th>dob_years</th>\n",
       "      <th>education</th>\n",
       "      <th>education_id</th>\n",
       "      <th>family_status</th>\n",
       "      <th>family_status_id</th>\n",
       "      <th>gender</th>\n",
       "      <th>income_type</th>\n",
       "      <th>debt</th>\n",
       "      <th>total_income</th>\n",
       "      <th>purpose</th>\n",
       "    </tr>\n",
       "  </thead>\n",
       "  <tbody>\n",
       "    <tr>\n",
       "      <th>0</th>\n",
       "      <td>1</td>\n",
       "      <td>-8437.673028</td>\n",
       "      <td>42</td>\n",
       "      <td>высшее</td>\n",
       "      <td>0</td>\n",
       "      <td>женат / замужем</td>\n",
       "      <td>0</td>\n",
       "      <td>F</td>\n",
       "      <td>сотрудник</td>\n",
       "      <td>0</td>\n",
       "      <td>253875.639453</td>\n",
       "      <td>покупка жилья</td>\n",
       "    </tr>\n",
       "    <tr>\n",
       "      <th>1</th>\n",
       "      <td>1</td>\n",
       "      <td>-4024.803754</td>\n",
       "      <td>36</td>\n",
       "      <td>среднее</td>\n",
       "      <td>1</td>\n",
       "      <td>женат / замужем</td>\n",
       "      <td>0</td>\n",
       "      <td>F</td>\n",
       "      <td>сотрудник</td>\n",
       "      <td>0</td>\n",
       "      <td>112080.014102</td>\n",
       "      <td>приобретение автомобиля</td>\n",
       "    </tr>\n",
       "    <tr>\n",
       "      <th>2</th>\n",
       "      <td>0</td>\n",
       "      <td>-5623.422610</td>\n",
       "      <td>33</td>\n",
       "      <td>Среднее</td>\n",
       "      <td>1</td>\n",
       "      <td>женат / замужем</td>\n",
       "      <td>0</td>\n",
       "      <td>M</td>\n",
       "      <td>сотрудник</td>\n",
       "      <td>0</td>\n",
       "      <td>145885.952297</td>\n",
       "      <td>покупка жилья</td>\n",
       "    </tr>\n",
       "    <tr>\n",
       "      <th>3</th>\n",
       "      <td>3</td>\n",
       "      <td>-4124.747207</td>\n",
       "      <td>32</td>\n",
       "      <td>среднее</td>\n",
       "      <td>1</td>\n",
       "      <td>женат / замужем</td>\n",
       "      <td>0</td>\n",
       "      <td>M</td>\n",
       "      <td>сотрудник</td>\n",
       "      <td>0</td>\n",
       "      <td>267628.550329</td>\n",
       "      <td>дополнительное образование</td>\n",
       "    </tr>\n",
       "    <tr>\n",
       "      <th>4</th>\n",
       "      <td>0</td>\n",
       "      <td>340266.072047</td>\n",
       "      <td>53</td>\n",
       "      <td>среднее</td>\n",
       "      <td>1</td>\n",
       "      <td>гражданский брак</td>\n",
       "      <td>1</td>\n",
       "      <td>F</td>\n",
       "      <td>пенсионер</td>\n",
       "      <td>0</td>\n",
       "      <td>158616.077870</td>\n",
       "      <td>сыграть свадьбу</td>\n",
       "    </tr>\n",
       "    <tr>\n",
       "      <th>5</th>\n",
       "      <td>0</td>\n",
       "      <td>-926.185831</td>\n",
       "      <td>27</td>\n",
       "      <td>высшее</td>\n",
       "      <td>0</td>\n",
       "      <td>гражданский брак</td>\n",
       "      <td>1</td>\n",
       "      <td>M</td>\n",
       "      <td>компаньон</td>\n",
       "      <td>0</td>\n",
       "      <td>255763.565419</td>\n",
       "      <td>покупка жилья</td>\n",
       "    </tr>\n",
       "    <tr>\n",
       "      <th>6</th>\n",
       "      <td>0</td>\n",
       "      <td>-2879.202052</td>\n",
       "      <td>43</td>\n",
       "      <td>высшее</td>\n",
       "      <td>0</td>\n",
       "      <td>женат / замужем</td>\n",
       "      <td>0</td>\n",
       "      <td>F</td>\n",
       "      <td>компаньон</td>\n",
       "      <td>0</td>\n",
       "      <td>240525.971920</td>\n",
       "      <td>операции с жильем</td>\n",
       "    </tr>\n",
       "    <tr>\n",
       "      <th>7</th>\n",
       "      <td>0</td>\n",
       "      <td>-152.779569</td>\n",
       "      <td>50</td>\n",
       "      <td>СРЕДНЕЕ</td>\n",
       "      <td>1</td>\n",
       "      <td>женат / замужем</td>\n",
       "      <td>0</td>\n",
       "      <td>M</td>\n",
       "      <td>сотрудник</td>\n",
       "      <td>0</td>\n",
       "      <td>135823.934197</td>\n",
       "      <td>образование</td>\n",
       "    </tr>\n",
       "    <tr>\n",
       "      <th>8</th>\n",
       "      <td>2</td>\n",
       "      <td>-6929.865299</td>\n",
       "      <td>35</td>\n",
       "      <td>ВЫСШЕЕ</td>\n",
       "      <td>0</td>\n",
       "      <td>гражданский брак</td>\n",
       "      <td>1</td>\n",
       "      <td>F</td>\n",
       "      <td>сотрудник</td>\n",
       "      <td>0</td>\n",
       "      <td>95856.832424</td>\n",
       "      <td>на проведение свадьбы</td>\n",
       "    </tr>\n",
       "    <tr>\n",
       "      <th>9</th>\n",
       "      <td>0</td>\n",
       "      <td>-2188.756445</td>\n",
       "      <td>41</td>\n",
       "      <td>среднее</td>\n",
       "      <td>1</td>\n",
       "      <td>женат / замужем</td>\n",
       "      <td>0</td>\n",
       "      <td>M</td>\n",
       "      <td>сотрудник</td>\n",
       "      <td>0</td>\n",
       "      <td>144425.938277</td>\n",
       "      <td>покупка жилья для семьи</td>\n",
       "    </tr>\n",
       "  </tbody>\n",
       "</table>\n",
       "</div>"
      ],
      "text/plain": [
       "   children  days_employed  dob_years education  education_id  \\\n",
       "0         1   -8437.673028         42    высшее             0   \n",
       "1         1   -4024.803754         36   среднее             1   \n",
       "2         0   -5623.422610         33   Среднее             1   \n",
       "3         3   -4124.747207         32   среднее             1   \n",
       "4         0  340266.072047         53   среднее             1   \n",
       "5         0    -926.185831         27    высшее             0   \n",
       "6         0   -2879.202052         43    высшее             0   \n",
       "7         0    -152.779569         50   СРЕДНЕЕ             1   \n",
       "8         2   -6929.865299         35    ВЫСШЕЕ             0   \n",
       "9         0   -2188.756445         41   среднее             1   \n",
       "\n",
       "      family_status  family_status_id gender income_type  debt   total_income  \\\n",
       "0   женат / замужем                 0      F   сотрудник     0  253875.639453   \n",
       "1   женат / замужем                 0      F   сотрудник     0  112080.014102   \n",
       "2   женат / замужем                 0      M   сотрудник     0  145885.952297   \n",
       "3   женат / замужем                 0      M   сотрудник     0  267628.550329   \n",
       "4  гражданский брак                 1      F   пенсионер     0  158616.077870   \n",
       "5  гражданский брак                 1      M   компаньон     0  255763.565419   \n",
       "6   женат / замужем                 0      F   компаньон     0  240525.971920   \n",
       "7   женат / замужем                 0      M   сотрудник     0  135823.934197   \n",
       "8  гражданский брак                 1      F   сотрудник     0   95856.832424   \n",
       "9   женат / замужем                 0      M   сотрудник     0  144425.938277   \n",
       "\n",
       "                      purpose  \n",
       "0               покупка жилья  \n",
       "1     приобретение автомобиля  \n",
       "2               покупка жилья  \n",
       "3  дополнительное образование  \n",
       "4             сыграть свадьбу  \n",
       "5               покупка жилья  \n",
       "6           операции с жильем  \n",
       "7                 образование  \n",
       "8       на проведение свадьбы  \n",
       "9     покупка жилья для семьи  "
      ]
     },
     "metadata": {},
     "output_type": "display_data"
    }
   ],
   "source": [
    "display(df.head(10))"
   ]
  },
  {
   "cell_type": "markdown",
   "metadata": {},
   "source": [
    "### Шаг 2.1 Заполнение пропусков"
   ]
  },
  {
   "cell_type": "code",
   "execution_count": 113,
   "metadata": {},
   "outputs": [
    {
     "data": {
      "text/html": [
       "<div>\n",
       "<style scoped>\n",
       "    .dataframe tbody tr th:only-of-type {\n",
       "        vertical-align: middle;\n",
       "    }\n",
       "\n",
       "    .dataframe tbody tr th {\n",
       "        vertical-align: top;\n",
       "    }\n",
       "\n",
       "    .dataframe thead th {\n",
       "        text-align: right;\n",
       "    }\n",
       "</style>\n",
       "<table border=\"1\" class=\"dataframe\">\n",
       "  <thead>\n",
       "    <tr style=\"text-align: right;\">\n",
       "      <th></th>\n",
       "      <th>children</th>\n",
       "      <th>days_employed</th>\n",
       "      <th>dob_years</th>\n",
       "      <th>education</th>\n",
       "      <th>education_id</th>\n",
       "      <th>family_status</th>\n",
       "      <th>family_status_id</th>\n",
       "      <th>gender</th>\n",
       "      <th>income_type</th>\n",
       "      <th>debt</th>\n",
       "      <th>total_income</th>\n",
       "      <th>purpose</th>\n",
       "    </tr>\n",
       "  </thead>\n",
       "  <tbody>\n",
       "    <tr>\n",
       "      <th>12</th>\n",
       "      <td>0</td>\n",
       "      <td>NaN</td>\n",
       "      <td>65</td>\n",
       "      <td>среднее</td>\n",
       "      <td>1</td>\n",
       "      <td>гражданский брак</td>\n",
       "      <td>1</td>\n",
       "      <td>M</td>\n",
       "      <td>пенсионер</td>\n",
       "      <td>0</td>\n",
       "      <td>NaN</td>\n",
       "      <td>сыграть свадьбу</td>\n",
       "    </tr>\n",
       "    <tr>\n",
       "      <th>26</th>\n",
       "      <td>0</td>\n",
       "      <td>NaN</td>\n",
       "      <td>41</td>\n",
       "      <td>среднее</td>\n",
       "      <td>1</td>\n",
       "      <td>женат / замужем</td>\n",
       "      <td>0</td>\n",
       "      <td>M</td>\n",
       "      <td>госслужащий</td>\n",
       "      <td>0</td>\n",
       "      <td>NaN</td>\n",
       "      <td>образование</td>\n",
       "    </tr>\n",
       "    <tr>\n",
       "      <th>29</th>\n",
       "      <td>0</td>\n",
       "      <td>NaN</td>\n",
       "      <td>63</td>\n",
       "      <td>среднее</td>\n",
       "      <td>1</td>\n",
       "      <td>Не женат / не замужем</td>\n",
       "      <td>4</td>\n",
       "      <td>F</td>\n",
       "      <td>пенсионер</td>\n",
       "      <td>0</td>\n",
       "      <td>NaN</td>\n",
       "      <td>строительство жилой недвижимости</td>\n",
       "    </tr>\n",
       "    <tr>\n",
       "      <th>41</th>\n",
       "      <td>0</td>\n",
       "      <td>NaN</td>\n",
       "      <td>50</td>\n",
       "      <td>среднее</td>\n",
       "      <td>1</td>\n",
       "      <td>женат / замужем</td>\n",
       "      <td>0</td>\n",
       "      <td>F</td>\n",
       "      <td>госслужащий</td>\n",
       "      <td>0</td>\n",
       "      <td>NaN</td>\n",
       "      <td>сделка с подержанным автомобилем</td>\n",
       "    </tr>\n",
       "    <tr>\n",
       "      <th>55</th>\n",
       "      <td>0</td>\n",
       "      <td>NaN</td>\n",
       "      <td>54</td>\n",
       "      <td>среднее</td>\n",
       "      <td>1</td>\n",
       "      <td>гражданский брак</td>\n",
       "      <td>1</td>\n",
       "      <td>F</td>\n",
       "      <td>пенсионер</td>\n",
       "      <td>1</td>\n",
       "      <td>NaN</td>\n",
       "      <td>сыграть свадьбу</td>\n",
       "    </tr>\n",
       "    <tr>\n",
       "      <th>65</th>\n",
       "      <td>0</td>\n",
       "      <td>NaN</td>\n",
       "      <td>21</td>\n",
       "      <td>среднее</td>\n",
       "      <td>1</td>\n",
       "      <td>Не женат / не замужем</td>\n",
       "      <td>4</td>\n",
       "      <td>M</td>\n",
       "      <td>компаньон</td>\n",
       "      <td>0</td>\n",
       "      <td>NaN</td>\n",
       "      <td>операции с коммерческой недвижимостью</td>\n",
       "    </tr>\n",
       "    <tr>\n",
       "      <th>67</th>\n",
       "      <td>0</td>\n",
       "      <td>NaN</td>\n",
       "      <td>52</td>\n",
       "      <td>высшее</td>\n",
       "      <td>0</td>\n",
       "      <td>женат / замужем</td>\n",
       "      <td>0</td>\n",
       "      <td>F</td>\n",
       "      <td>пенсионер</td>\n",
       "      <td>0</td>\n",
       "      <td>NaN</td>\n",
       "      <td>покупка жилья для семьи</td>\n",
       "    </tr>\n",
       "    <tr>\n",
       "      <th>72</th>\n",
       "      <td>1</td>\n",
       "      <td>NaN</td>\n",
       "      <td>32</td>\n",
       "      <td>высшее</td>\n",
       "      <td>0</td>\n",
       "      <td>женат / замужем</td>\n",
       "      <td>0</td>\n",
       "      <td>M</td>\n",
       "      <td>госслужащий</td>\n",
       "      <td>0</td>\n",
       "      <td>NaN</td>\n",
       "      <td>операции с коммерческой недвижимостью</td>\n",
       "    </tr>\n",
       "    <tr>\n",
       "      <th>82</th>\n",
       "      <td>2</td>\n",
       "      <td>NaN</td>\n",
       "      <td>50</td>\n",
       "      <td>высшее</td>\n",
       "      <td>0</td>\n",
       "      <td>женат / замужем</td>\n",
       "      <td>0</td>\n",
       "      <td>F</td>\n",
       "      <td>сотрудник</td>\n",
       "      <td>0</td>\n",
       "      <td>NaN</td>\n",
       "      <td>жилье</td>\n",
       "    </tr>\n",
       "    <tr>\n",
       "      <th>83</th>\n",
       "      <td>0</td>\n",
       "      <td>NaN</td>\n",
       "      <td>52</td>\n",
       "      <td>среднее</td>\n",
       "      <td>1</td>\n",
       "      <td>женат / замужем</td>\n",
       "      <td>0</td>\n",
       "      <td>M</td>\n",
       "      <td>сотрудник</td>\n",
       "      <td>0</td>\n",
       "      <td>NaN</td>\n",
       "      <td>жилье</td>\n",
       "    </tr>\n",
       "    <tr>\n",
       "      <th>90</th>\n",
       "      <td>2</td>\n",
       "      <td>NaN</td>\n",
       "      <td>35</td>\n",
       "      <td>высшее</td>\n",
       "      <td>0</td>\n",
       "      <td>женат / замужем</td>\n",
       "      <td>0</td>\n",
       "      <td>F</td>\n",
       "      <td>сотрудник</td>\n",
       "      <td>0</td>\n",
       "      <td>NaN</td>\n",
       "      <td>операции с жильем</td>\n",
       "    </tr>\n",
       "    <tr>\n",
       "      <th>94</th>\n",
       "      <td>1</td>\n",
       "      <td>NaN</td>\n",
       "      <td>34</td>\n",
       "      <td>высшее</td>\n",
       "      <td>0</td>\n",
       "      <td>гражданский брак</td>\n",
       "      <td>1</td>\n",
       "      <td>F</td>\n",
       "      <td>компаньон</td>\n",
       "      <td>0</td>\n",
       "      <td>NaN</td>\n",
       "      <td>на проведение свадьбы</td>\n",
       "    </tr>\n",
       "    <tr>\n",
       "      <th>96</th>\n",
       "      <td>0</td>\n",
       "      <td>NaN</td>\n",
       "      <td>44</td>\n",
       "      <td>СРЕДНЕЕ</td>\n",
       "      <td>1</td>\n",
       "      <td>женат / замужем</td>\n",
       "      <td>0</td>\n",
       "      <td>F</td>\n",
       "      <td>сотрудник</td>\n",
       "      <td>0</td>\n",
       "      <td>NaN</td>\n",
       "      <td>покупка жилой недвижимости</td>\n",
       "    </tr>\n",
       "    <tr>\n",
       "      <th>97</th>\n",
       "      <td>0</td>\n",
       "      <td>NaN</td>\n",
       "      <td>47</td>\n",
       "      <td>высшее</td>\n",
       "      <td>0</td>\n",
       "      <td>женат / замужем</td>\n",
       "      <td>0</td>\n",
       "      <td>F</td>\n",
       "      <td>сотрудник</td>\n",
       "      <td>0</td>\n",
       "      <td>NaN</td>\n",
       "      <td>профильное образование</td>\n",
       "    </tr>\n",
       "    <tr>\n",
       "      <th>120</th>\n",
       "      <td>0</td>\n",
       "      <td>NaN</td>\n",
       "      <td>46</td>\n",
       "      <td>среднее</td>\n",
       "      <td>1</td>\n",
       "      <td>женат / замужем</td>\n",
       "      <td>0</td>\n",
       "      <td>F</td>\n",
       "      <td>сотрудник</td>\n",
       "      <td>0</td>\n",
       "      <td>NaN</td>\n",
       "      <td>высшее образование</td>\n",
       "    </tr>\n",
       "  </tbody>\n",
       "</table>\n",
       "</div>"
      ],
      "text/plain": [
       "     children  days_employed  dob_years education  education_id  \\\n",
       "12          0            NaN         65   среднее             1   \n",
       "26          0            NaN         41   среднее             1   \n",
       "29          0            NaN         63   среднее             1   \n",
       "41          0            NaN         50   среднее             1   \n",
       "55          0            NaN         54   среднее             1   \n",
       "65          0            NaN         21   среднее             1   \n",
       "67          0            NaN         52    высшее             0   \n",
       "72          1            NaN         32    высшее             0   \n",
       "82          2            NaN         50    высшее             0   \n",
       "83          0            NaN         52   среднее             1   \n",
       "90          2            NaN         35    высшее             0   \n",
       "94          1            NaN         34    высшее             0   \n",
       "96          0            NaN         44   СРЕДНЕЕ             1   \n",
       "97          0            NaN         47    высшее             0   \n",
       "120         0            NaN         46   среднее             1   \n",
       "\n",
       "             family_status  family_status_id gender  income_type  debt  \\\n",
       "12        гражданский брак                 1      M    пенсионер     0   \n",
       "26         женат / замужем                 0      M  госслужащий     0   \n",
       "29   Не женат / не замужем                 4      F    пенсионер     0   \n",
       "41         женат / замужем                 0      F  госслужащий     0   \n",
       "55        гражданский брак                 1      F    пенсионер     1   \n",
       "65   Не женат / не замужем                 4      M    компаньон     0   \n",
       "67         женат / замужем                 0      F    пенсионер     0   \n",
       "72         женат / замужем                 0      M  госслужащий     0   \n",
       "82         женат / замужем                 0      F    сотрудник     0   \n",
       "83         женат / замужем                 0      M    сотрудник     0   \n",
       "90         женат / замужем                 0      F    сотрудник     0   \n",
       "94        гражданский брак                 1      F    компаньон     0   \n",
       "96         женат / замужем                 0      F    сотрудник     0   \n",
       "97         женат / замужем                 0      F    сотрудник     0   \n",
       "120        женат / замужем                 0      F    сотрудник     0   \n",
       "\n",
       "     total_income                                purpose  \n",
       "12            NaN                        сыграть свадьбу  \n",
       "26            NaN                            образование  \n",
       "29            NaN       строительство жилой недвижимости  \n",
       "41            NaN       сделка с подержанным автомобилем  \n",
       "55            NaN                        сыграть свадьбу  \n",
       "65            NaN  операции с коммерческой недвижимостью  \n",
       "67            NaN                покупка жилья для семьи  \n",
       "72            NaN  операции с коммерческой недвижимостью  \n",
       "82            NaN                                  жилье  \n",
       "83            NaN                                  жилье  \n",
       "90            NaN                      операции с жильем  \n",
       "94            NaN                  на проведение свадьбы  \n",
       "96            NaN             покупка жилой недвижимости  \n",
       "97            NaN                 профильное образование  \n",
       "120           NaN                     высшее образование  "
      ]
     },
     "metadata": {},
     "output_type": "display_data"
    }
   ],
   "source": [
    "display(df.loc[df['days_employed'].isna()].head(15))\n",
    "#Обнаружил значения NaN, что означает принадлежность к типу float. Видно что некоторые одинаковые значения написаны по разному в столбце education."
   ]
  },
  {
   "cell_type": "code",
   "execution_count": 114,
   "metadata": {
    "scrolled": true
   },
   "outputs": [
    {
     "name": "stdout",
     "output_type": "stream",
     "text": [
      "2174\n",
      "19351\n",
      "21525\n",
      "\n",
      "0.10099883855981417\n",
      "0.10099883855981417\n"
     ]
    }
   ],
   "source": [
    "#Доля пропущенных значений в каждем столбце\n",
    "#print(df['days_employed'].isna().count()/df['days_employed'].count())#закомментировал как считал раньше этот показатель в days_employed и total_income\n",
    "#print(df['total_income'].isna().count()/df['total_income'].count())\n",
    "print(df['days_employed'].isna().sum())#вывод кол-ва пропусков\n",
    "print(df['days_employed'].count())#кол-во строк без пропусков\n",
    "print(len(df))#общее число строк в датасете\n",
    "print()\n",
    "print(df['days_employed'].isna().sum()/len(df))#заново посчитал долю пропущенных значений в каждом столбце\n",
    "print(df['total_income'].isna().sum()/len(df))"
   ]
  },
  {
   "cell_type": "markdown",
   "metadata": {},
   "source": [
    "Доли пропущенных значений в столбцах days_employed и total_income совпадают.\n",
    "Возможные причины пропусков данных:\n",
    "- Потеря данных при переносе\n",
    "- Человек находится в поиске работы или недавно сменил место работы\n",
    "- Человек на пенсии и не имеет место работы\n",
    "\n",
    "Удалить данные с пропусками в данном случае является не лучшей идеей, так как они составляют значительную долю (более 10%) и могут содержать полезную информацию. Их лучше заменить медианным значением, так как это окажет минимальное воздействие на будущий результат. При использовании среднего возможно отклонение результата в сторону выбросов (слишком малых или слишком больших значений)."
   ]
  },
  {
   "cell_type": "code",
   "execution_count": 115,
   "metadata": {
    "scrolled": true
   },
   "outputs": [
    {
     "data": {
      "text/html": [
       "<div>\n",
       "<style scoped>\n",
       "    .dataframe tbody tr th:only-of-type {\n",
       "        vertical-align: middle;\n",
       "    }\n",
       "\n",
       "    .dataframe tbody tr th {\n",
       "        vertical-align: top;\n",
       "    }\n",
       "\n",
       "    .dataframe thead th {\n",
       "        text-align: right;\n",
       "    }\n",
       "</style>\n",
       "<table border=\"1\" class=\"dataframe\">\n",
       "  <thead>\n",
       "    <tr style=\"text-align: right;\">\n",
       "      <th></th>\n",
       "      <th>children</th>\n",
       "      <th>days_employed</th>\n",
       "      <th>dob_years</th>\n",
       "      <th>education</th>\n",
       "      <th>education_id</th>\n",
       "      <th>family_status</th>\n",
       "      <th>family_status_id</th>\n",
       "      <th>gender</th>\n",
       "      <th>income_type</th>\n",
       "      <th>debt</th>\n",
       "      <th>total_income</th>\n",
       "      <th>purpose</th>\n",
       "    </tr>\n",
       "  </thead>\n",
       "  <tbody>\n",
       "    <tr>\n",
       "      <th>0</th>\n",
       "      <td>1</td>\n",
       "      <td>8437.673028</td>\n",
       "      <td>42</td>\n",
       "      <td>высшее</td>\n",
       "      <td>0</td>\n",
       "      <td>женат / замужем</td>\n",
       "      <td>0</td>\n",
       "      <td>F</td>\n",
       "      <td>сотрудник</td>\n",
       "      <td>0</td>\n",
       "      <td>253875.639453</td>\n",
       "      <td>покупка жилья</td>\n",
       "    </tr>\n",
       "    <tr>\n",
       "      <th>1</th>\n",
       "      <td>1</td>\n",
       "      <td>4024.803754</td>\n",
       "      <td>36</td>\n",
       "      <td>среднее</td>\n",
       "      <td>1</td>\n",
       "      <td>женат / замужем</td>\n",
       "      <td>0</td>\n",
       "      <td>F</td>\n",
       "      <td>сотрудник</td>\n",
       "      <td>0</td>\n",
       "      <td>112080.014102</td>\n",
       "      <td>приобретение автомобиля</td>\n",
       "    </tr>\n",
       "    <tr>\n",
       "      <th>2</th>\n",
       "      <td>0</td>\n",
       "      <td>5623.422610</td>\n",
       "      <td>33</td>\n",
       "      <td>Среднее</td>\n",
       "      <td>1</td>\n",
       "      <td>женат / замужем</td>\n",
       "      <td>0</td>\n",
       "      <td>M</td>\n",
       "      <td>сотрудник</td>\n",
       "      <td>0</td>\n",
       "      <td>145885.952297</td>\n",
       "      <td>покупка жилья</td>\n",
       "    </tr>\n",
       "    <tr>\n",
       "      <th>3</th>\n",
       "      <td>3</td>\n",
       "      <td>4124.747207</td>\n",
       "      <td>32</td>\n",
       "      <td>среднее</td>\n",
       "      <td>1</td>\n",
       "      <td>женат / замужем</td>\n",
       "      <td>0</td>\n",
       "      <td>M</td>\n",
       "      <td>сотрудник</td>\n",
       "      <td>0</td>\n",
       "      <td>267628.550329</td>\n",
       "      <td>дополнительное образование</td>\n",
       "    </tr>\n",
       "    <tr>\n",
       "      <th>4</th>\n",
       "      <td>0</td>\n",
       "      <td>340266.072047</td>\n",
       "      <td>53</td>\n",
       "      <td>среднее</td>\n",
       "      <td>1</td>\n",
       "      <td>гражданский брак</td>\n",
       "      <td>1</td>\n",
       "      <td>F</td>\n",
       "      <td>пенсионер</td>\n",
       "      <td>0</td>\n",
       "      <td>158616.077870</td>\n",
       "      <td>сыграть свадьбу</td>\n",
       "    </tr>\n",
       "    <tr>\n",
       "      <th>5</th>\n",
       "      <td>0</td>\n",
       "      <td>926.185831</td>\n",
       "      <td>27</td>\n",
       "      <td>высшее</td>\n",
       "      <td>0</td>\n",
       "      <td>гражданский брак</td>\n",
       "      <td>1</td>\n",
       "      <td>M</td>\n",
       "      <td>компаньон</td>\n",
       "      <td>0</td>\n",
       "      <td>255763.565419</td>\n",
       "      <td>покупка жилья</td>\n",
       "    </tr>\n",
       "    <tr>\n",
       "      <th>6</th>\n",
       "      <td>0</td>\n",
       "      <td>2879.202052</td>\n",
       "      <td>43</td>\n",
       "      <td>высшее</td>\n",
       "      <td>0</td>\n",
       "      <td>женат / замужем</td>\n",
       "      <td>0</td>\n",
       "      <td>F</td>\n",
       "      <td>компаньон</td>\n",
       "      <td>0</td>\n",
       "      <td>240525.971920</td>\n",
       "      <td>операции с жильем</td>\n",
       "    </tr>\n",
       "    <tr>\n",
       "      <th>7</th>\n",
       "      <td>0</td>\n",
       "      <td>152.779569</td>\n",
       "      <td>50</td>\n",
       "      <td>СРЕДНЕЕ</td>\n",
       "      <td>1</td>\n",
       "      <td>женат / замужем</td>\n",
       "      <td>0</td>\n",
       "      <td>M</td>\n",
       "      <td>сотрудник</td>\n",
       "      <td>0</td>\n",
       "      <td>135823.934197</td>\n",
       "      <td>образование</td>\n",
       "    </tr>\n",
       "    <tr>\n",
       "      <th>8</th>\n",
       "      <td>2</td>\n",
       "      <td>6929.865299</td>\n",
       "      <td>35</td>\n",
       "      <td>ВЫСШЕЕ</td>\n",
       "      <td>0</td>\n",
       "      <td>гражданский брак</td>\n",
       "      <td>1</td>\n",
       "      <td>F</td>\n",
       "      <td>сотрудник</td>\n",
       "      <td>0</td>\n",
       "      <td>95856.832424</td>\n",
       "      <td>на проведение свадьбы</td>\n",
       "    </tr>\n",
       "    <tr>\n",
       "      <th>9</th>\n",
       "      <td>0</td>\n",
       "      <td>2188.756445</td>\n",
       "      <td>41</td>\n",
       "      <td>среднее</td>\n",
       "      <td>1</td>\n",
       "      <td>женат / замужем</td>\n",
       "      <td>0</td>\n",
       "      <td>M</td>\n",
       "      <td>сотрудник</td>\n",
       "      <td>0</td>\n",
       "      <td>144425.938277</td>\n",
       "      <td>покупка жилья для семьи</td>\n",
       "    </tr>\n",
       "    <tr>\n",
       "      <th>10</th>\n",
       "      <td>2</td>\n",
       "      <td>4171.483647</td>\n",
       "      <td>36</td>\n",
       "      <td>высшее</td>\n",
       "      <td>0</td>\n",
       "      <td>женат / замужем</td>\n",
       "      <td>0</td>\n",
       "      <td>M</td>\n",
       "      <td>компаньон</td>\n",
       "      <td>0</td>\n",
       "      <td>113943.491460</td>\n",
       "      <td>покупка недвижимости</td>\n",
       "    </tr>\n",
       "    <tr>\n",
       "      <th>11</th>\n",
       "      <td>0</td>\n",
       "      <td>792.701887</td>\n",
       "      <td>40</td>\n",
       "      <td>среднее</td>\n",
       "      <td>1</td>\n",
       "      <td>женат / замужем</td>\n",
       "      <td>0</td>\n",
       "      <td>F</td>\n",
       "      <td>сотрудник</td>\n",
       "      <td>0</td>\n",
       "      <td>77069.234271</td>\n",
       "      <td>покупка коммерческой недвижимости</td>\n",
       "    </tr>\n",
       "    <tr>\n",
       "      <th>12</th>\n",
       "      <td>0</td>\n",
       "      <td>2194.220567</td>\n",
       "      <td>65</td>\n",
       "      <td>среднее</td>\n",
       "      <td>1</td>\n",
       "      <td>гражданский брак</td>\n",
       "      <td>1</td>\n",
       "      <td>M</td>\n",
       "      <td>пенсионер</td>\n",
       "      <td>0</td>\n",
       "      <td>145017.937533</td>\n",
       "      <td>сыграть свадьбу</td>\n",
       "    </tr>\n",
       "    <tr>\n",
       "      <th>13</th>\n",
       "      <td>0</td>\n",
       "      <td>1846.641941</td>\n",
       "      <td>54</td>\n",
       "      <td>неоконченное высшее</td>\n",
       "      <td>2</td>\n",
       "      <td>женат / замужем</td>\n",
       "      <td>0</td>\n",
       "      <td>F</td>\n",
       "      <td>сотрудник</td>\n",
       "      <td>0</td>\n",
       "      <td>130458.228857</td>\n",
       "      <td>приобретение автомобиля</td>\n",
       "    </tr>\n",
       "    <tr>\n",
       "      <th>14</th>\n",
       "      <td>0</td>\n",
       "      <td>1844.956182</td>\n",
       "      <td>56</td>\n",
       "      <td>высшее</td>\n",
       "      <td>0</td>\n",
       "      <td>гражданский брак</td>\n",
       "      <td>1</td>\n",
       "      <td>F</td>\n",
       "      <td>компаньон</td>\n",
       "      <td>1</td>\n",
       "      <td>165127.911772</td>\n",
       "      <td>покупка жилой недвижимости</td>\n",
       "    </tr>\n",
       "  </tbody>\n",
       "</table>\n",
       "</div>"
      ],
      "text/plain": [
       "    children  days_employed  dob_years            education  education_id  \\\n",
       "0          1    8437.673028         42               высшее             0   \n",
       "1          1    4024.803754         36              среднее             1   \n",
       "2          0    5623.422610         33              Среднее             1   \n",
       "3          3    4124.747207         32              среднее             1   \n",
       "4          0  340266.072047         53              среднее             1   \n",
       "5          0     926.185831         27               высшее             0   \n",
       "6          0    2879.202052         43               высшее             0   \n",
       "7          0     152.779569         50              СРЕДНЕЕ             1   \n",
       "8          2    6929.865299         35               ВЫСШЕЕ             0   \n",
       "9          0    2188.756445         41              среднее             1   \n",
       "10         2    4171.483647         36               высшее             0   \n",
       "11         0     792.701887         40              среднее             1   \n",
       "12         0    2194.220567         65              среднее             1   \n",
       "13         0    1846.641941         54  неоконченное высшее             2   \n",
       "14         0    1844.956182         56               высшее             0   \n",
       "\n",
       "       family_status  family_status_id gender income_type  debt  \\\n",
       "0    женат / замужем                 0      F   сотрудник     0   \n",
       "1    женат / замужем                 0      F   сотрудник     0   \n",
       "2    женат / замужем                 0      M   сотрудник     0   \n",
       "3    женат / замужем                 0      M   сотрудник     0   \n",
       "4   гражданский брак                 1      F   пенсионер     0   \n",
       "5   гражданский брак                 1      M   компаньон     0   \n",
       "6    женат / замужем                 0      F   компаньон     0   \n",
       "7    женат / замужем                 0      M   сотрудник     0   \n",
       "8   гражданский брак                 1      F   сотрудник     0   \n",
       "9    женат / замужем                 0      M   сотрудник     0   \n",
       "10   женат / замужем                 0      M   компаньон     0   \n",
       "11   женат / замужем                 0      F   сотрудник     0   \n",
       "12  гражданский брак                 1      M   пенсионер     0   \n",
       "13   женат / замужем                 0      F   сотрудник     0   \n",
       "14  гражданский брак                 1      F   компаньон     1   \n",
       "\n",
       "     total_income                            purpose  \n",
       "0   253875.639453                      покупка жилья  \n",
       "1   112080.014102            приобретение автомобиля  \n",
       "2   145885.952297                      покупка жилья  \n",
       "3   267628.550329         дополнительное образование  \n",
       "4   158616.077870                    сыграть свадьбу  \n",
       "5   255763.565419                      покупка жилья  \n",
       "6   240525.971920                  операции с жильем  \n",
       "7   135823.934197                        образование  \n",
       "8    95856.832424              на проведение свадьбы  \n",
       "9   144425.938277            покупка жилья для семьи  \n",
       "10  113943.491460               покупка недвижимости  \n",
       "11   77069.234271  покупка коммерческой недвижимости  \n",
       "12  145017.937533                    сыграть свадьбу  \n",
       "13  130458.228857            приобретение автомобиля  \n",
       "14  165127.911772         покупка жилой недвижимости  "
      ]
     },
     "metadata": {},
     "output_type": "display_data"
    }
   ],
   "source": [
    "df['days_employed'] = abs(df['days_employed'])#заменил данные по модулю для верного расчета медианы\n",
    "df['days_employed'] = df['days_employed'].fillna(df['days_employed'].median())\n",
    "df['total_income'] = df['total_income'].fillna(df['total_income'].median())\n",
    "display(df.head(15))"
   ]
  },
  {
   "cell_type": "markdown",
   "metadata": {},
   "source": [
    "Возможно отрицательные значения в столбце days_employed появились в результате неверного форматирования даты при переводе в численный формат.\n",
    "Далее заменим данные в столбце total_income на целочисленный формат."
   ]
  },
  {
   "cell_type": "markdown",
   "metadata": {},
   "source": [
    "### Шаг 2.2 Проверка данных на аномалии и исправления."
   ]
  },
  {
   "cell_type": "markdown",
   "metadata": {},
   "source": [
    "Необычные значения есть в столбцах с количеством детей (-1, 20), возрасте (0) и гендере (XNA). Эти значения можно обнаружить используя метод unique() или составить сводную таблицу. Заменил выбросы в столбцах с детьми, возрасте и гендере на None (NaN), чтобы не возникало проблем при расчётах."
   ]
  },
  {
   "cell_type": "code",
   "execution_count": 116,
   "metadata": {},
   "outputs": [
    {
     "name": "stdout",
     "output_type": "stream",
     "text": [
      "Строки с аномалиями, которые удаляем: 177\n",
      "Сколько было строк: 21525\n",
      "Сколько стало строк: 21348\n"
     ]
    }
   ],
   "source": [
    "#display(df.loc[df['children'] == -1].head())# для проверки значений в строках (вывод где значение детей -1)\n",
    "df.loc[df['children'] == -1 ,'children'] = 1 # меняем -1 ребёнка на +1 \n",
    "print('Строки с аномалиями, которые удаляем:', df.query(\"dob_years == 0 | gender == 'XNA' | children == 20\")['children'].count()) #Да значений с 20 детьми, неизвестным гендером и нулевым возрастом не так много (менее 1%), поэтому их можно удалить\n",
    "print(f'Сколько было строк: {len(df)}')\n",
    "df = df.query(\"dob_years != 0 and gender != 'XNA' and children != 20\")# ещё можно удалить строки через использование drop() и loc\n",
    "print(f'Сколько стало строк: {len(df)}')\n",
    "#display(df.loc[df['children'].isna()].head())# вывод таблицы со значениями NaN"
   ]
  },
  {
   "cell_type": "markdown",
   "metadata": {},
   "source": [
    "### Шаг 2.3. Изменение типов данных."
   ]
  },
  {
   "cell_type": "code",
   "execution_count": 117,
   "metadata": {
    "scrolled": true
   },
   "outputs": [
    {
     "data": {
      "text/html": [
       "<div>\n",
       "<style scoped>\n",
       "    .dataframe tbody tr th:only-of-type {\n",
       "        vertical-align: middle;\n",
       "    }\n",
       "\n",
       "    .dataframe tbody tr th {\n",
       "        vertical-align: top;\n",
       "    }\n",
       "\n",
       "    .dataframe thead th {\n",
       "        text-align: right;\n",
       "    }\n",
       "</style>\n",
       "<table border=\"1\" class=\"dataframe\">\n",
       "  <thead>\n",
       "    <tr style=\"text-align: right;\">\n",
       "      <th></th>\n",
       "      <th>children</th>\n",
       "      <th>days_employed</th>\n",
       "      <th>dob_years</th>\n",
       "      <th>education</th>\n",
       "      <th>education_id</th>\n",
       "      <th>family_status</th>\n",
       "      <th>family_status_id</th>\n",
       "      <th>gender</th>\n",
       "      <th>income_type</th>\n",
       "      <th>debt</th>\n",
       "      <th>total_income</th>\n",
       "      <th>purpose</th>\n",
       "    </tr>\n",
       "  </thead>\n",
       "  <tbody>\n",
       "    <tr>\n",
       "      <th>0</th>\n",
       "      <td>1</td>\n",
       "      <td>8437.673028</td>\n",
       "      <td>42</td>\n",
       "      <td>высшее</td>\n",
       "      <td>0</td>\n",
       "      <td>женат / замужем</td>\n",
       "      <td>0</td>\n",
       "      <td>F</td>\n",
       "      <td>сотрудник</td>\n",
       "      <td>0</td>\n",
       "      <td>253875</td>\n",
       "      <td>покупка жилья</td>\n",
       "    </tr>\n",
       "    <tr>\n",
       "      <th>1</th>\n",
       "      <td>1</td>\n",
       "      <td>4024.803754</td>\n",
       "      <td>36</td>\n",
       "      <td>среднее</td>\n",
       "      <td>1</td>\n",
       "      <td>женат / замужем</td>\n",
       "      <td>0</td>\n",
       "      <td>F</td>\n",
       "      <td>сотрудник</td>\n",
       "      <td>0</td>\n",
       "      <td>112080</td>\n",
       "      <td>приобретение автомобиля</td>\n",
       "    </tr>\n",
       "    <tr>\n",
       "      <th>2</th>\n",
       "      <td>0</td>\n",
       "      <td>5623.422610</td>\n",
       "      <td>33</td>\n",
       "      <td>Среднее</td>\n",
       "      <td>1</td>\n",
       "      <td>женат / замужем</td>\n",
       "      <td>0</td>\n",
       "      <td>M</td>\n",
       "      <td>сотрудник</td>\n",
       "      <td>0</td>\n",
       "      <td>145885</td>\n",
       "      <td>покупка жилья</td>\n",
       "    </tr>\n",
       "    <tr>\n",
       "      <th>3</th>\n",
       "      <td>3</td>\n",
       "      <td>4124.747207</td>\n",
       "      <td>32</td>\n",
       "      <td>среднее</td>\n",
       "      <td>1</td>\n",
       "      <td>женат / замужем</td>\n",
       "      <td>0</td>\n",
       "      <td>M</td>\n",
       "      <td>сотрудник</td>\n",
       "      <td>0</td>\n",
       "      <td>267628</td>\n",
       "      <td>дополнительное образование</td>\n",
       "    </tr>\n",
       "    <tr>\n",
       "      <th>4</th>\n",
       "      <td>0</td>\n",
       "      <td>340266.072047</td>\n",
       "      <td>53</td>\n",
       "      <td>среднее</td>\n",
       "      <td>1</td>\n",
       "      <td>гражданский брак</td>\n",
       "      <td>1</td>\n",
       "      <td>F</td>\n",
       "      <td>пенсионер</td>\n",
       "      <td>0</td>\n",
       "      <td>158616</td>\n",
       "      <td>сыграть свадьбу</td>\n",
       "    </tr>\n",
       "  </tbody>\n",
       "</table>\n",
       "</div>"
      ],
      "text/plain": [
       "   children  days_employed  dob_years education  education_id  \\\n",
       "0         1    8437.673028         42    высшее             0   \n",
       "1         1    4024.803754         36   среднее             1   \n",
       "2         0    5623.422610         33   Среднее             1   \n",
       "3         3    4124.747207         32   среднее             1   \n",
       "4         0  340266.072047         53   среднее             1   \n",
       "\n",
       "      family_status  family_status_id gender income_type  debt  total_income  \\\n",
       "0   женат / замужем                 0      F   сотрудник     0        253875   \n",
       "1   женат / замужем                 0      F   сотрудник     0        112080   \n",
       "2   женат / замужем                 0      M   сотрудник     0        145885   \n",
       "3   женат / замужем                 0      M   сотрудник     0        267628   \n",
       "4  гражданский брак                 1      F   пенсионер     0        158616   \n",
       "\n",
       "                      purpose  \n",
       "0               покупка жилья  \n",
       "1     приобретение автомобиля  \n",
       "2               покупка жилья  \n",
       "3  дополнительное образование  \n",
       "4             сыграть свадьбу  "
      ]
     },
     "metadata": {},
     "output_type": "display_data"
    }
   ],
   "source": [
    "df['total_income'] = df['total_income'].astype('int')\n",
    "display(df.head())"
   ]
  },
  {
   "cell_type": "markdown",
   "metadata": {},
   "source": [
    "### Шаг 2.4. Удаление дубликатов."
   ]
  },
  {
   "cell_type": "code",
   "execution_count": 118,
   "metadata": {
    "scrolled": true
   },
   "outputs": [
    {
     "name": "stdout",
     "output_type": "stream",
     "text": [
      "54\n"
     ]
    },
    {
     "data": {
      "text/html": [
       "<div>\n",
       "<style scoped>\n",
       "    .dataframe tbody tr th:only-of-type {\n",
       "        vertical-align: middle;\n",
       "    }\n",
       "\n",
       "    .dataframe tbody tr th {\n",
       "        vertical-align: top;\n",
       "    }\n",
       "\n",
       "    .dataframe thead th {\n",
       "        text-align: right;\n",
       "    }\n",
       "</style>\n",
       "<table border=\"1\" class=\"dataframe\">\n",
       "  <thead>\n",
       "    <tr style=\"text-align: right;\">\n",
       "      <th></th>\n",
       "      <th>children</th>\n",
       "      <th>days_employed</th>\n",
       "      <th>dob_years</th>\n",
       "      <th>education</th>\n",
       "      <th>education_id</th>\n",
       "      <th>family_status</th>\n",
       "      <th>family_status_id</th>\n",
       "      <th>gender</th>\n",
       "      <th>income_type</th>\n",
       "      <th>debt</th>\n",
       "      <th>total_income</th>\n",
       "      <th>purpose</th>\n",
       "    </tr>\n",
       "  </thead>\n",
       "  <tbody>\n",
       "    <tr>\n",
       "      <th>2849</th>\n",
       "      <td>0</td>\n",
       "      <td>2194.220567</td>\n",
       "      <td>41</td>\n",
       "      <td>среднее</td>\n",
       "      <td>1</td>\n",
       "      <td>женат / замужем</td>\n",
       "      <td>0</td>\n",
       "      <td>F</td>\n",
       "      <td>сотрудник</td>\n",
       "      <td>0</td>\n",
       "      <td>145017</td>\n",
       "      <td>покупка жилья для семьи</td>\n",
       "    </tr>\n",
       "    <tr>\n",
       "      <th>4182</th>\n",
       "      <td>1</td>\n",
       "      <td>2194.220567</td>\n",
       "      <td>34</td>\n",
       "      <td>ВЫСШЕЕ</td>\n",
       "      <td>0</td>\n",
       "      <td>гражданский брак</td>\n",
       "      <td>1</td>\n",
       "      <td>F</td>\n",
       "      <td>сотрудник</td>\n",
       "      <td>0</td>\n",
       "      <td>145017</td>\n",
       "      <td>свадьба</td>\n",
       "    </tr>\n",
       "    <tr>\n",
       "      <th>4851</th>\n",
       "      <td>0</td>\n",
       "      <td>2194.220567</td>\n",
       "      <td>60</td>\n",
       "      <td>среднее</td>\n",
       "      <td>1</td>\n",
       "      <td>гражданский брак</td>\n",
       "      <td>1</td>\n",
       "      <td>F</td>\n",
       "      <td>пенсионер</td>\n",
       "      <td>0</td>\n",
       "      <td>145017</td>\n",
       "      <td>свадьба</td>\n",
       "    </tr>\n",
       "    <tr>\n",
       "      <th>5557</th>\n",
       "      <td>0</td>\n",
       "      <td>2194.220567</td>\n",
       "      <td>58</td>\n",
       "      <td>среднее</td>\n",
       "      <td>1</td>\n",
       "      <td>гражданский брак</td>\n",
       "      <td>1</td>\n",
       "      <td>F</td>\n",
       "      <td>пенсионер</td>\n",
       "      <td>0</td>\n",
       "      <td>145017</td>\n",
       "      <td>сыграть свадьбу</td>\n",
       "    </tr>\n",
       "    <tr>\n",
       "      <th>7808</th>\n",
       "      <td>0</td>\n",
       "      <td>2194.220567</td>\n",
       "      <td>57</td>\n",
       "      <td>среднее</td>\n",
       "      <td>1</td>\n",
       "      <td>гражданский брак</td>\n",
       "      <td>1</td>\n",
       "      <td>F</td>\n",
       "      <td>пенсионер</td>\n",
       "      <td>0</td>\n",
       "      <td>145017</td>\n",
       "      <td>на проведение свадьбы</td>\n",
       "    </tr>\n",
       "  </tbody>\n",
       "</table>\n",
       "</div>"
      ],
      "text/plain": [
       "      children  days_employed  dob_years education  education_id  \\\n",
       "2849         0    2194.220567         41   среднее             1   \n",
       "4182         1    2194.220567         34    ВЫСШЕЕ             0   \n",
       "4851         0    2194.220567         60   среднее             1   \n",
       "5557         0    2194.220567         58   среднее             1   \n",
       "7808         0    2194.220567         57   среднее             1   \n",
       "\n",
       "         family_status  family_status_id gender income_type  debt  \\\n",
       "2849   женат / замужем                 0      F   сотрудник     0   \n",
       "4182  гражданский брак                 1      F   сотрудник     0   \n",
       "4851  гражданский брак                 1      F   пенсионер     0   \n",
       "5557  гражданский брак                 1      F   пенсионер     0   \n",
       "7808  гражданский брак                 1      F   пенсионер     0   \n",
       "\n",
       "      total_income                  purpose  \n",
       "2849        145017  покупка жилья для семьи  \n",
       "4182        145017                  свадьба  \n",
       "4851        145017                  свадьба  \n",
       "5557        145017          сыграть свадьбу  \n",
       "7808        145017    на проведение свадьбы  "
      ]
     },
     "metadata": {},
     "output_type": "display_data"
    }
   ],
   "source": [
    "print(df.duplicated().sum())\n",
    "display(df.loc[df.duplicated()].head())#дубликаты появились в строках, где были пропущенные значения."
   ]
  },
  {
   "cell_type": "code",
   "execution_count": 119,
   "metadata": {},
   "outputs": [
    {
     "data": {
      "text/html": [
       "<div>\n",
       "<style scoped>\n",
       "    .dataframe tbody tr th:only-of-type {\n",
       "        vertical-align: middle;\n",
       "    }\n",
       "\n",
       "    .dataframe tbody tr th {\n",
       "        vertical-align: top;\n",
       "    }\n",
       "\n",
       "    .dataframe thead th {\n",
       "        text-align: right;\n",
       "    }\n",
       "</style>\n",
       "<table border=\"1\" class=\"dataframe\">\n",
       "  <thead>\n",
       "    <tr style=\"text-align: right;\">\n",
       "      <th></th>\n",
       "      <th>children</th>\n",
       "      <th>days_employed</th>\n",
       "      <th>dob_years</th>\n",
       "      <th>education</th>\n",
       "      <th>education_id</th>\n",
       "      <th>family_status</th>\n",
       "      <th>family_status_id</th>\n",
       "      <th>gender</th>\n",
       "      <th>income_type</th>\n",
       "      <th>debt</th>\n",
       "      <th>total_income</th>\n",
       "      <th>purpose</th>\n",
       "    </tr>\n",
       "  </thead>\n",
       "  <tbody>\n",
       "    <tr>\n",
       "      <th>21289</th>\n",
       "      <td>1</td>\n",
       "      <td>4529.316663</td>\n",
       "      <td>43</td>\n",
       "      <td>среднее</td>\n",
       "      <td>1</td>\n",
       "      <td>гражданский брак</td>\n",
       "      <td>1</td>\n",
       "      <td>F</td>\n",
       "      <td>компаньон</td>\n",
       "      <td>0</td>\n",
       "      <td>224791</td>\n",
       "      <td>операции с жильем</td>\n",
       "    </tr>\n",
       "    <tr>\n",
       "      <th>21290</th>\n",
       "      <td>0</td>\n",
       "      <td>343937.404131</td>\n",
       "      <td>67</td>\n",
       "      <td>среднее</td>\n",
       "      <td>1</td>\n",
       "      <td>женат / замужем</td>\n",
       "      <td>0</td>\n",
       "      <td>F</td>\n",
       "      <td>пенсионер</td>\n",
       "      <td>0</td>\n",
       "      <td>155999</td>\n",
       "      <td>сделка с автомобилем</td>\n",
       "    </tr>\n",
       "    <tr>\n",
       "      <th>21291</th>\n",
       "      <td>1</td>\n",
       "      <td>2113.346888</td>\n",
       "      <td>38</td>\n",
       "      <td>среднее</td>\n",
       "      <td>1</td>\n",
       "      <td>гражданский брак</td>\n",
       "      <td>1</td>\n",
       "      <td>M</td>\n",
       "      <td>сотрудник</td>\n",
       "      <td>1</td>\n",
       "      <td>89672</td>\n",
       "      <td>недвижимость</td>\n",
       "    </tr>\n",
       "    <tr>\n",
       "      <th>21292</th>\n",
       "      <td>3</td>\n",
       "      <td>3112.481705</td>\n",
       "      <td>38</td>\n",
       "      <td>среднее</td>\n",
       "      <td>1</td>\n",
       "      <td>женат / замужем</td>\n",
       "      <td>0</td>\n",
       "      <td>M</td>\n",
       "      <td>сотрудник</td>\n",
       "      <td>1</td>\n",
       "      <td>244093</td>\n",
       "      <td>на покупку своего автомобиля</td>\n",
       "    </tr>\n",
       "    <tr>\n",
       "      <th>21293</th>\n",
       "      <td>2</td>\n",
       "      <td>1984.507589</td>\n",
       "      <td>40</td>\n",
       "      <td>среднее</td>\n",
       "      <td>1</td>\n",
       "      <td>женат / замужем</td>\n",
       "      <td>0</td>\n",
       "      <td>F</td>\n",
       "      <td>сотрудник</td>\n",
       "      <td>0</td>\n",
       "      <td>82047</td>\n",
       "      <td>на покупку автомобиля</td>\n",
       "    </tr>\n",
       "  </tbody>\n",
       "</table>\n",
       "</div>"
      ],
      "text/plain": [
       "       children  days_employed  dob_years education  education_id  \\\n",
       "21289         1    4529.316663         43   среднее             1   \n",
       "21290         0  343937.404131         67   среднее             1   \n",
       "21291         1    2113.346888         38   среднее             1   \n",
       "21292         3    3112.481705         38   среднее             1   \n",
       "21293         2    1984.507589         40   среднее             1   \n",
       "\n",
       "          family_status  family_status_id gender income_type  debt  \\\n",
       "21289  гражданский брак                 1      F   компаньон     0   \n",
       "21290   женат / замужем                 0      F   пенсионер     0   \n",
       "21291  гражданский брак                 1      M   сотрудник     1   \n",
       "21292   женат / замужем                 0      M   сотрудник     1   \n",
       "21293   женат / замужем                 0      F   сотрудник     0   \n",
       "\n",
       "       total_income                       purpose  \n",
       "21289        224791             операции с жильем  \n",
       "21290        155999          сделка с автомобилем  \n",
       "21291         89672                  недвижимость  \n",
       "21292        244093  на покупку своего автомобиля  \n",
       "21293         82047         на покупку автомобиля  "
      ]
     },
     "metadata": {},
     "output_type": "display_data"
    }
   ],
   "source": [
    "df = df.drop_duplicates().reset_index(drop=True)\n",
    "display(df.tail())#количество строк уменьшилось на кол-во дубликатов"
   ]
  },
  {
   "cell_type": "markdown",
   "metadata": {},
   "source": [
    "Ниже закомментировал вариант, где устранил неявные дубликаты в столбце purpose с помощью метода replace(). Это удобно при небольшом наборе целевых категорий. При бОльшем количестве удобнее искать по ключевым словам, что и сделал в шаге 2.7."
   ]
  },
  {
   "cell_type": "code",
   "execution_count": 120,
   "metadata": {},
   "outputs": [
    {
     "name": "stdout",
     "output_type": "stream",
     "text": [
      "['высшее' 'среднее' 'Среднее' 'СРЕДНЕЕ' 'ВЫСШЕЕ' 'неоконченное высшее'\n",
      " 'начальное' 'Высшее' 'НЕОКОНЧЕННОЕ ВЫСШЕЕ' 'Неоконченное высшее'\n",
      " 'НАЧАЛЬНОЕ' 'Начальное' 'Ученая степень' 'УЧЕНАЯ СТЕПЕНЬ'\n",
      " 'ученая степень']\n",
      "['высшее' 'среднее' 'неоконченное высшее' 'начальное' 'ученая степень']\n"
     ]
    }
   ],
   "source": [
    "print(df['education'].unique())\n",
    "df['education'] = df['education'].str.lower()\n",
    "print(df['education'].unique())\n",
    "\n",
    "#df['purpose'] = df['purpose'].replace(['покупка жилья', 'операции с жильем', 'покупка жилья для семьи', 'покупка недвижимости', 'покупка коммерческой недвижимости', 'покупка жилой недвижимости', 'строительство собственной недвижимости', 'недвижимость', 'строительство недвижимости', 'операции с коммерческой недвижимостью', 'строительство жилой недвижимости', 'жилье',\n",
    "# 'операции со своей недвижимостью', 'покупка своего жилья', 'покупка жилья для сдачи', 'ремонт жилью'], 'операции с недвижимостью')\n",
    "#df['purpose'] = df['purpose'].replace(['приобретение автомобиля', 'на покупку подержанного автомобиля', 'на покупку своего автомобиля', 'автомобили', 'сделка с подержанным автомобилем', 'автомобиль', 'свой автомобиль', 'сделка с автомобилем', 'на покупку автомобиля'], 'операции с автомобилем')\n",
    "#df['purpose'] = df['purpose'].replace(['дополнительное образование', 'образование', 'заняться образованием', 'получение дополнительного образования', 'получение высшего образования', 'профильное образование', 'высшее образование', 'заняться высшим образованием'], 'получение образования')\n",
    "#df['purpose'] = df['purpose'].replace(['сыграть свадьбу', 'на проведение свадьбы', 'свадьба'], 'проведение свадьбы')\n",
    "#print(df['purpose'].unique())#заменил неявные дубликаты в столбце propose\n",
    "#print(df.duplicated().sum())"
   ]
  },
  {
   "cell_type": "code",
   "execution_count": 121,
   "metadata": {},
   "outputs": [
    {
     "name": "stdout",
     "output_type": "stream",
     "text": [
      "Повторяющихся строк после удаления явных и неявных дубликатов:\n",
      "0\n"
     ]
    }
   ],
   "source": [
    "try:\n",
    "    df = df.drop_duplicates().reset_index(drop=True)#сделал эту конструкцию, если вдруг будет ошибка при отсутствии дубликатов\n",
    "    print('Повторяющихся строк после удаления явных и неявных дубликатов:')\n",
    "    print(df.duplicated().sum())\n",
    "except:\n",
    "    print('Дубликатов нет')"
   ]
  },
  {
   "cell_type": "markdown",
   "metadata": {},
   "source": [
    "Явные дубликаты нашёл методом duplicated() и удалил их drop_duplicates().reset_index(drop=True). В столбце education привёл данные к единому регистру, а затем как вариант можно привести неявные дубликаты в столбце purpose к 4 основным типам: операции с недвижимостью, операции с автомобилем, проведение свадьбы и получение образования. Использовал для этого метод replace(). Можно этого не делать, т.к. в дальнейшем мы проведём категоризацию по цели, что удобнее.\n",
    "Возможные причины появления дубликатов:\n",
    "- Один человек подавал несколько заявок.\n",
    "- Техническая ошибка при заполнении заявки, переносе данных.\n",
    "- Человеческий фактор (при составлении анкеты, консультант заполнил её несколько раз)."
   ]
  },
  {
   "cell_type": "markdown",
   "metadata": {},
   "source": [
    "### Шаг 2.5. Формирование дополнительных датафреймов словарей, декомпозиция исходного датафрейма."
   ]
  },
  {
   "cell_type": "code",
   "execution_count": 122,
   "metadata": {
    "scrolled": true
   },
   "outputs": [
    {
     "data": {
      "text/html": [
       "<div>\n",
       "<style scoped>\n",
       "    .dataframe tbody tr th:only-of-type {\n",
       "        vertical-align: middle;\n",
       "    }\n",
       "\n",
       "    .dataframe tbody tr th {\n",
       "        vertical-align: top;\n",
       "    }\n",
       "\n",
       "    .dataframe thead th {\n",
       "        text-align: right;\n",
       "    }\n",
       "</style>\n",
       "<table border=\"1\" class=\"dataframe\">\n",
       "  <thead>\n",
       "    <tr style=\"text-align: right;\">\n",
       "      <th></th>\n",
       "      <th>education</th>\n",
       "      <th>education_id</th>\n",
       "    </tr>\n",
       "  </thead>\n",
       "  <tbody>\n",
       "    <tr>\n",
       "      <th>0</th>\n",
       "      <td>высшее</td>\n",
       "      <td>0</td>\n",
       "    </tr>\n",
       "    <tr>\n",
       "      <th>1</th>\n",
       "      <td>среднее</td>\n",
       "      <td>1</td>\n",
       "    </tr>\n",
       "    <tr>\n",
       "      <th>2</th>\n",
       "      <td>неоконченное высшее</td>\n",
       "      <td>2</td>\n",
       "    </tr>\n",
       "    <tr>\n",
       "      <th>3</th>\n",
       "      <td>начальное</td>\n",
       "      <td>3</td>\n",
       "    </tr>\n",
       "    <tr>\n",
       "      <th>4</th>\n",
       "      <td>ученая степень</td>\n",
       "      <td>4</td>\n",
       "    </tr>\n",
       "  </tbody>\n",
       "</table>\n",
       "</div>"
      ],
      "text/plain": [
       "             education  education_id\n",
       "0               высшее             0\n",
       "1              среднее             1\n",
       "2  неоконченное высшее             2\n",
       "3            начальное             3\n",
       "4       ученая степень             4"
      ]
     },
     "metadata": {},
     "output_type": "display_data"
    }
   ],
   "source": [
    "df_edu = df[['education','education_id']]\n",
    "df_edu = df_edu.drop_duplicates().reset_index(drop=True)\n",
    "display(df_edu)#словарь для образования"
   ]
  },
  {
   "cell_type": "code",
   "execution_count": 123,
   "metadata": {
    "scrolled": true
   },
   "outputs": [
    {
     "data": {
      "text/html": [
       "<div>\n",
       "<style scoped>\n",
       "    .dataframe tbody tr th:only-of-type {\n",
       "        vertical-align: middle;\n",
       "    }\n",
       "\n",
       "    .dataframe tbody tr th {\n",
       "        vertical-align: top;\n",
       "    }\n",
       "\n",
       "    .dataframe thead th {\n",
       "        text-align: right;\n",
       "    }\n",
       "</style>\n",
       "<table border=\"1\" class=\"dataframe\">\n",
       "  <thead>\n",
       "    <tr style=\"text-align: right;\">\n",
       "      <th></th>\n",
       "      <th>family_status</th>\n",
       "      <th>family_status_id</th>\n",
       "    </tr>\n",
       "  </thead>\n",
       "  <tbody>\n",
       "    <tr>\n",
       "      <th>0</th>\n",
       "      <td>женат / замужем</td>\n",
       "      <td>0</td>\n",
       "    </tr>\n",
       "    <tr>\n",
       "      <th>1</th>\n",
       "      <td>гражданский брак</td>\n",
       "      <td>1</td>\n",
       "    </tr>\n",
       "    <tr>\n",
       "      <th>2</th>\n",
       "      <td>вдовец / вдова</td>\n",
       "      <td>2</td>\n",
       "    </tr>\n",
       "    <tr>\n",
       "      <th>3</th>\n",
       "      <td>в разводе</td>\n",
       "      <td>3</td>\n",
       "    </tr>\n",
       "    <tr>\n",
       "      <th>4</th>\n",
       "      <td>Не женат / не замужем</td>\n",
       "      <td>4</td>\n",
       "    </tr>\n",
       "  </tbody>\n",
       "</table>\n",
       "</div>"
      ],
      "text/plain": [
       "           family_status  family_status_id\n",
       "0        женат / замужем                 0\n",
       "1       гражданский брак                 1\n",
       "2         вдовец / вдова                 2\n",
       "3              в разводе                 3\n",
       "4  Не женат / не замужем                 4"
      ]
     },
     "metadata": {},
     "output_type": "display_data"
    }
   ],
   "source": [
    "df_fam_status = df[['family_status','family_status_id']]\n",
    "df_fam_status = df_fam_status.drop_duplicates().reset_index(drop=True)\n",
    "display(df_fam_status)#словарь для семейного положения"
   ]
  },
  {
   "cell_type": "code",
   "execution_count": 124,
   "metadata": {},
   "outputs": [
    {
     "data": {
      "text/html": [
       "<div>\n",
       "<style scoped>\n",
       "    .dataframe tbody tr th:only-of-type {\n",
       "        vertical-align: middle;\n",
       "    }\n",
       "\n",
       "    .dataframe tbody tr th {\n",
       "        vertical-align: top;\n",
       "    }\n",
       "\n",
       "    .dataframe thead th {\n",
       "        text-align: right;\n",
       "    }\n",
       "</style>\n",
       "<table border=\"1\" class=\"dataframe\">\n",
       "  <thead>\n",
       "    <tr style=\"text-align: right;\">\n",
       "      <th></th>\n",
       "      <th>children</th>\n",
       "      <th>days_employed</th>\n",
       "      <th>dob_years</th>\n",
       "      <th>education_id</th>\n",
       "      <th>family_status_id</th>\n",
       "      <th>gender</th>\n",
       "      <th>income_type</th>\n",
       "      <th>debt</th>\n",
       "      <th>total_income</th>\n",
       "      <th>purpose</th>\n",
       "    </tr>\n",
       "  </thead>\n",
       "  <tbody>\n",
       "    <tr>\n",
       "      <th>0</th>\n",
       "      <td>1</td>\n",
       "      <td>8437.673028</td>\n",
       "      <td>42</td>\n",
       "      <td>0</td>\n",
       "      <td>0</td>\n",
       "      <td>F</td>\n",
       "      <td>сотрудник</td>\n",
       "      <td>0</td>\n",
       "      <td>253875</td>\n",
       "      <td>покупка жилья</td>\n",
       "    </tr>\n",
       "    <tr>\n",
       "      <th>1</th>\n",
       "      <td>1</td>\n",
       "      <td>4024.803754</td>\n",
       "      <td>36</td>\n",
       "      <td>1</td>\n",
       "      <td>0</td>\n",
       "      <td>F</td>\n",
       "      <td>сотрудник</td>\n",
       "      <td>0</td>\n",
       "      <td>112080</td>\n",
       "      <td>приобретение автомобиля</td>\n",
       "    </tr>\n",
       "    <tr>\n",
       "      <th>2</th>\n",
       "      <td>0</td>\n",
       "      <td>5623.422610</td>\n",
       "      <td>33</td>\n",
       "      <td>1</td>\n",
       "      <td>0</td>\n",
       "      <td>M</td>\n",
       "      <td>сотрудник</td>\n",
       "      <td>0</td>\n",
       "      <td>145885</td>\n",
       "      <td>покупка жилья</td>\n",
       "    </tr>\n",
       "    <tr>\n",
       "      <th>3</th>\n",
       "      <td>3</td>\n",
       "      <td>4124.747207</td>\n",
       "      <td>32</td>\n",
       "      <td>1</td>\n",
       "      <td>0</td>\n",
       "      <td>M</td>\n",
       "      <td>сотрудник</td>\n",
       "      <td>0</td>\n",
       "      <td>267628</td>\n",
       "      <td>дополнительное образование</td>\n",
       "    </tr>\n",
       "    <tr>\n",
       "      <th>4</th>\n",
       "      <td>0</td>\n",
       "      <td>340266.072047</td>\n",
       "      <td>53</td>\n",
       "      <td>1</td>\n",
       "      <td>1</td>\n",
       "      <td>F</td>\n",
       "      <td>пенсионер</td>\n",
       "      <td>0</td>\n",
       "      <td>158616</td>\n",
       "      <td>сыграть свадьбу</td>\n",
       "    </tr>\n",
       "  </tbody>\n",
       "</table>\n",
       "</div>"
      ],
      "text/plain": [
       "   children  days_employed  dob_years  education_id  family_status_id gender  \\\n",
       "0         1    8437.673028         42             0                 0      F   \n",
       "1         1    4024.803754         36             1                 0      F   \n",
       "2         0    5623.422610         33             1                 0      M   \n",
       "3         3    4124.747207         32             1                 0      M   \n",
       "4         0  340266.072047         53             1                 1      F   \n",
       "\n",
       "  income_type  debt  total_income                     purpose  \n",
       "0   сотрудник     0        253875               покупка жилья  \n",
       "1   сотрудник     0        112080     приобретение автомобиля  \n",
       "2   сотрудник     0        145885               покупка жилья  \n",
       "3   сотрудник     0        267628  дополнительное образование  \n",
       "4   пенсионер     0        158616             сыграть свадьбу  "
      ]
     },
     "metadata": {},
     "output_type": "display_data"
    }
   ],
   "source": [
    "df.drop(columns = ['education','family_status'],axis = 1, inplace=True)#удаляем столбцы education, family_status\n",
    "display(df.head())"
   ]
  },
  {
   "cell_type": "markdown",
   "metadata": {},
   "source": [
    "### Шаг 2.6. Категоризация дохода."
   ]
  },
  {
   "cell_type": "code",
   "execution_count": 125,
   "metadata": {},
   "outputs": [
    {
     "name": "stdout",
     "output_type": "stream",
     "text": [
      "A\n"
     ]
    },
    {
     "data": {
      "text/html": [
       "<div>\n",
       "<style scoped>\n",
       "    .dataframe tbody tr th:only-of-type {\n",
       "        vertical-align: middle;\n",
       "    }\n",
       "\n",
       "    .dataframe tbody tr th {\n",
       "        vertical-align: top;\n",
       "    }\n",
       "\n",
       "    .dataframe thead th {\n",
       "        text-align: right;\n",
       "    }\n",
       "</style>\n",
       "<table border=\"1\" class=\"dataframe\">\n",
       "  <thead>\n",
       "    <tr style=\"text-align: right;\">\n",
       "      <th></th>\n",
       "      <th>children</th>\n",
       "      <th>days_employed</th>\n",
       "      <th>dob_years</th>\n",
       "      <th>education_id</th>\n",
       "      <th>family_status_id</th>\n",
       "      <th>gender</th>\n",
       "      <th>income_type</th>\n",
       "      <th>debt</th>\n",
       "      <th>total_income</th>\n",
       "      <th>purpose</th>\n",
       "      <th>total_income_category</th>\n",
       "    </tr>\n",
       "  </thead>\n",
       "  <tbody>\n",
       "    <tr>\n",
       "      <th>0</th>\n",
       "      <td>1</td>\n",
       "      <td>8437.673028</td>\n",
       "      <td>42</td>\n",
       "      <td>0</td>\n",
       "      <td>0</td>\n",
       "      <td>F</td>\n",
       "      <td>сотрудник</td>\n",
       "      <td>0</td>\n",
       "      <td>253875</td>\n",
       "      <td>покупка жилья</td>\n",
       "      <td>B</td>\n",
       "    </tr>\n",
       "    <tr>\n",
       "      <th>1</th>\n",
       "      <td>1</td>\n",
       "      <td>4024.803754</td>\n",
       "      <td>36</td>\n",
       "      <td>1</td>\n",
       "      <td>0</td>\n",
       "      <td>F</td>\n",
       "      <td>сотрудник</td>\n",
       "      <td>0</td>\n",
       "      <td>112080</td>\n",
       "      <td>приобретение автомобиля</td>\n",
       "      <td>C</td>\n",
       "    </tr>\n",
       "    <tr>\n",
       "      <th>2</th>\n",
       "      <td>0</td>\n",
       "      <td>5623.422610</td>\n",
       "      <td>33</td>\n",
       "      <td>1</td>\n",
       "      <td>0</td>\n",
       "      <td>M</td>\n",
       "      <td>сотрудник</td>\n",
       "      <td>0</td>\n",
       "      <td>145885</td>\n",
       "      <td>покупка жилья</td>\n",
       "      <td>C</td>\n",
       "    </tr>\n",
       "    <tr>\n",
       "      <th>3</th>\n",
       "      <td>3</td>\n",
       "      <td>4124.747207</td>\n",
       "      <td>32</td>\n",
       "      <td>1</td>\n",
       "      <td>0</td>\n",
       "      <td>M</td>\n",
       "      <td>сотрудник</td>\n",
       "      <td>0</td>\n",
       "      <td>267628</td>\n",
       "      <td>дополнительное образование</td>\n",
       "      <td>B</td>\n",
       "    </tr>\n",
       "    <tr>\n",
       "      <th>4</th>\n",
       "      <td>0</td>\n",
       "      <td>340266.072047</td>\n",
       "      <td>53</td>\n",
       "      <td>1</td>\n",
       "      <td>1</td>\n",
       "      <td>F</td>\n",
       "      <td>пенсионер</td>\n",
       "      <td>0</td>\n",
       "      <td>158616</td>\n",
       "      <td>сыграть свадьбу</td>\n",
       "      <td>C</td>\n",
       "    </tr>\n",
       "  </tbody>\n",
       "</table>\n",
       "</div>"
      ],
      "text/plain": [
       "   children  days_employed  dob_years  education_id  family_status_id gender  \\\n",
       "0         1    8437.673028         42             0                 0      F   \n",
       "1         1    4024.803754         36             1                 0      F   \n",
       "2         0    5623.422610         33             1                 0      M   \n",
       "3         3    4124.747207         32             1                 0      M   \n",
       "4         0  340266.072047         53             1                 1      F   \n",
       "\n",
       "  income_type  debt  total_income                     purpose  \\\n",
       "0   сотрудник     0        253875               покупка жилья   \n",
       "1   сотрудник     0        112080     приобретение автомобиля   \n",
       "2   сотрудник     0        145885               покупка жилья   \n",
       "3   сотрудник     0        267628  дополнительное образование   \n",
       "4   пенсионер     0        158616             сыграть свадьбу   \n",
       "\n",
       "  total_income_category  \n",
       "0                     B  \n",
       "1                     C  \n",
       "2                     C  \n",
       "3                     B  \n",
       "4                     C  "
      ]
     },
     "metadata": {},
     "output_type": "display_data"
    }
   ],
   "source": [
    "def income_category(income):\n",
    "    if income <= 30000:\n",
    "        return 'E'\n",
    "    elif income <= 50000:\n",
    "        return 'D'\n",
    "    elif income <= 200000:\n",
    "        return 'C'\n",
    "    elif income <= 1000000:\n",
    "        return 'B'\n",
    "    else:\n",
    "        return 'A'\n",
    "print(income_category(1115000))#проверка\n",
    "df['total_income_category'] = df['total_income'].apply(income_category)\n",
    "display(df.head())"
   ]
  },
  {
   "cell_type": "markdown",
   "metadata": {},
   "source": [
    "### Шаг 2.7. Категоризация целей кредита."
   ]
  },
  {
   "cell_type": "code",
   "execution_count": 126,
   "metadata": {},
   "outputs": [
    {
     "name": "stdout",
     "output_type": "stream",
     "text": [
      "проведение свадьбы\n"
     ]
    },
    {
     "data": {
      "text/html": [
       "<div>\n",
       "<style scoped>\n",
       "    .dataframe tbody tr th:only-of-type {\n",
       "        vertical-align: middle;\n",
       "    }\n",
       "\n",
       "    .dataframe tbody tr th {\n",
       "        vertical-align: top;\n",
       "    }\n",
       "\n",
       "    .dataframe thead th {\n",
       "        text-align: right;\n",
       "    }\n",
       "</style>\n",
       "<table border=\"1\" class=\"dataframe\">\n",
       "  <thead>\n",
       "    <tr style=\"text-align: right;\">\n",
       "      <th></th>\n",
       "      <th>children</th>\n",
       "      <th>days_employed</th>\n",
       "      <th>dob_years</th>\n",
       "      <th>education_id</th>\n",
       "      <th>family_status_id</th>\n",
       "      <th>gender</th>\n",
       "      <th>income_type</th>\n",
       "      <th>debt</th>\n",
       "      <th>total_income</th>\n",
       "      <th>purpose</th>\n",
       "      <th>total_income_category</th>\n",
       "      <th>purpose_category</th>\n",
       "    </tr>\n",
       "  </thead>\n",
       "  <tbody>\n",
       "    <tr>\n",
       "      <th>0</th>\n",
       "      <td>1</td>\n",
       "      <td>8437.673028</td>\n",
       "      <td>42</td>\n",
       "      <td>0</td>\n",
       "      <td>0</td>\n",
       "      <td>F</td>\n",
       "      <td>сотрудник</td>\n",
       "      <td>0</td>\n",
       "      <td>253875</td>\n",
       "      <td>покупка жилья</td>\n",
       "      <td>B</td>\n",
       "      <td>операции с недвижимостью</td>\n",
       "    </tr>\n",
       "    <tr>\n",
       "      <th>1</th>\n",
       "      <td>1</td>\n",
       "      <td>4024.803754</td>\n",
       "      <td>36</td>\n",
       "      <td>1</td>\n",
       "      <td>0</td>\n",
       "      <td>F</td>\n",
       "      <td>сотрудник</td>\n",
       "      <td>0</td>\n",
       "      <td>112080</td>\n",
       "      <td>приобретение автомобиля</td>\n",
       "      <td>C</td>\n",
       "      <td>операции с автомобилем</td>\n",
       "    </tr>\n",
       "    <tr>\n",
       "      <th>2</th>\n",
       "      <td>0</td>\n",
       "      <td>5623.422610</td>\n",
       "      <td>33</td>\n",
       "      <td>1</td>\n",
       "      <td>0</td>\n",
       "      <td>M</td>\n",
       "      <td>сотрудник</td>\n",
       "      <td>0</td>\n",
       "      <td>145885</td>\n",
       "      <td>покупка жилья</td>\n",
       "      <td>C</td>\n",
       "      <td>операции с недвижимостью</td>\n",
       "    </tr>\n",
       "    <tr>\n",
       "      <th>3</th>\n",
       "      <td>3</td>\n",
       "      <td>4124.747207</td>\n",
       "      <td>32</td>\n",
       "      <td>1</td>\n",
       "      <td>0</td>\n",
       "      <td>M</td>\n",
       "      <td>сотрудник</td>\n",
       "      <td>0</td>\n",
       "      <td>267628</td>\n",
       "      <td>дополнительное образование</td>\n",
       "      <td>B</td>\n",
       "      <td>получение образования</td>\n",
       "    </tr>\n",
       "    <tr>\n",
       "      <th>4</th>\n",
       "      <td>0</td>\n",
       "      <td>340266.072047</td>\n",
       "      <td>53</td>\n",
       "      <td>1</td>\n",
       "      <td>1</td>\n",
       "      <td>F</td>\n",
       "      <td>пенсионер</td>\n",
       "      <td>0</td>\n",
       "      <td>158616</td>\n",
       "      <td>сыграть свадьбу</td>\n",
       "      <td>C</td>\n",
       "      <td>проведение свадьбы</td>\n",
       "    </tr>\n",
       "    <tr>\n",
       "      <th>5</th>\n",
       "      <td>0</td>\n",
       "      <td>926.185831</td>\n",
       "      <td>27</td>\n",
       "      <td>0</td>\n",
       "      <td>1</td>\n",
       "      <td>M</td>\n",
       "      <td>компаньон</td>\n",
       "      <td>0</td>\n",
       "      <td>255763</td>\n",
       "      <td>покупка жилья</td>\n",
       "      <td>B</td>\n",
       "      <td>операции с недвижимостью</td>\n",
       "    </tr>\n",
       "    <tr>\n",
       "      <th>6</th>\n",
       "      <td>0</td>\n",
       "      <td>2879.202052</td>\n",
       "      <td>43</td>\n",
       "      <td>0</td>\n",
       "      <td>0</td>\n",
       "      <td>F</td>\n",
       "      <td>компаньон</td>\n",
       "      <td>0</td>\n",
       "      <td>240525</td>\n",
       "      <td>операции с жильем</td>\n",
       "      <td>B</td>\n",
       "      <td>операции с недвижимостью</td>\n",
       "    </tr>\n",
       "    <tr>\n",
       "      <th>7</th>\n",
       "      <td>0</td>\n",
       "      <td>152.779569</td>\n",
       "      <td>50</td>\n",
       "      <td>1</td>\n",
       "      <td>0</td>\n",
       "      <td>M</td>\n",
       "      <td>сотрудник</td>\n",
       "      <td>0</td>\n",
       "      <td>135823</td>\n",
       "      <td>образование</td>\n",
       "      <td>C</td>\n",
       "      <td>получение образования</td>\n",
       "    </tr>\n",
       "    <tr>\n",
       "      <th>8</th>\n",
       "      <td>2</td>\n",
       "      <td>6929.865299</td>\n",
       "      <td>35</td>\n",
       "      <td>0</td>\n",
       "      <td>1</td>\n",
       "      <td>F</td>\n",
       "      <td>сотрудник</td>\n",
       "      <td>0</td>\n",
       "      <td>95856</td>\n",
       "      <td>на проведение свадьбы</td>\n",
       "      <td>C</td>\n",
       "      <td>проведение свадьбы</td>\n",
       "    </tr>\n",
       "    <tr>\n",
       "      <th>9</th>\n",
       "      <td>0</td>\n",
       "      <td>2188.756445</td>\n",
       "      <td>41</td>\n",
       "      <td>1</td>\n",
       "      <td>0</td>\n",
       "      <td>M</td>\n",
       "      <td>сотрудник</td>\n",
       "      <td>0</td>\n",
       "      <td>144425</td>\n",
       "      <td>покупка жилья для семьи</td>\n",
       "      <td>C</td>\n",
       "      <td>операции с недвижимостью</td>\n",
       "    </tr>\n",
       "    <tr>\n",
       "      <th>10</th>\n",
       "      <td>2</td>\n",
       "      <td>4171.483647</td>\n",
       "      <td>36</td>\n",
       "      <td>0</td>\n",
       "      <td>0</td>\n",
       "      <td>M</td>\n",
       "      <td>компаньон</td>\n",
       "      <td>0</td>\n",
       "      <td>113943</td>\n",
       "      <td>покупка недвижимости</td>\n",
       "      <td>C</td>\n",
       "      <td>операции с недвижимостью</td>\n",
       "    </tr>\n",
       "    <tr>\n",
       "      <th>11</th>\n",
       "      <td>0</td>\n",
       "      <td>792.701887</td>\n",
       "      <td>40</td>\n",
       "      <td>1</td>\n",
       "      <td>0</td>\n",
       "      <td>F</td>\n",
       "      <td>сотрудник</td>\n",
       "      <td>0</td>\n",
       "      <td>77069</td>\n",
       "      <td>покупка коммерческой недвижимости</td>\n",
       "      <td>C</td>\n",
       "      <td>операции с недвижимостью</td>\n",
       "    </tr>\n",
       "    <tr>\n",
       "      <th>12</th>\n",
       "      <td>0</td>\n",
       "      <td>2194.220567</td>\n",
       "      <td>65</td>\n",
       "      <td>1</td>\n",
       "      <td>1</td>\n",
       "      <td>M</td>\n",
       "      <td>пенсионер</td>\n",
       "      <td>0</td>\n",
       "      <td>145017</td>\n",
       "      <td>сыграть свадьбу</td>\n",
       "      <td>C</td>\n",
       "      <td>проведение свадьбы</td>\n",
       "    </tr>\n",
       "    <tr>\n",
       "      <th>13</th>\n",
       "      <td>0</td>\n",
       "      <td>1846.641941</td>\n",
       "      <td>54</td>\n",
       "      <td>2</td>\n",
       "      <td>0</td>\n",
       "      <td>F</td>\n",
       "      <td>сотрудник</td>\n",
       "      <td>0</td>\n",
       "      <td>130458</td>\n",
       "      <td>приобретение автомобиля</td>\n",
       "      <td>C</td>\n",
       "      <td>операции с автомобилем</td>\n",
       "    </tr>\n",
       "    <tr>\n",
       "      <th>14</th>\n",
       "      <td>0</td>\n",
       "      <td>1844.956182</td>\n",
       "      <td>56</td>\n",
       "      <td>0</td>\n",
       "      <td>1</td>\n",
       "      <td>F</td>\n",
       "      <td>компаньон</td>\n",
       "      <td>1</td>\n",
       "      <td>165127</td>\n",
       "      <td>покупка жилой недвижимости</td>\n",
       "      <td>C</td>\n",
       "      <td>операции с недвижимостью</td>\n",
       "    </tr>\n",
       "  </tbody>\n",
       "</table>\n",
       "</div>"
      ],
      "text/plain": [
       "    children  days_employed  dob_years  education_id  family_status_id gender  \\\n",
       "0          1    8437.673028         42             0                 0      F   \n",
       "1          1    4024.803754         36             1                 0      F   \n",
       "2          0    5623.422610         33             1                 0      M   \n",
       "3          3    4124.747207         32             1                 0      M   \n",
       "4          0  340266.072047         53             1                 1      F   \n",
       "5          0     926.185831         27             0                 1      M   \n",
       "6          0    2879.202052         43             0                 0      F   \n",
       "7          0     152.779569         50             1                 0      M   \n",
       "8          2    6929.865299         35             0                 1      F   \n",
       "9          0    2188.756445         41             1                 0      M   \n",
       "10         2    4171.483647         36             0                 0      M   \n",
       "11         0     792.701887         40             1                 0      F   \n",
       "12         0    2194.220567         65             1                 1      M   \n",
       "13         0    1846.641941         54             2                 0      F   \n",
       "14         0    1844.956182         56             0                 1      F   \n",
       "\n",
       "   income_type  debt  total_income                            purpose  \\\n",
       "0    сотрудник     0        253875                      покупка жилья   \n",
       "1    сотрудник     0        112080            приобретение автомобиля   \n",
       "2    сотрудник     0        145885                      покупка жилья   \n",
       "3    сотрудник     0        267628         дополнительное образование   \n",
       "4    пенсионер     0        158616                    сыграть свадьбу   \n",
       "5    компаньон     0        255763                      покупка жилья   \n",
       "6    компаньон     0        240525                  операции с жильем   \n",
       "7    сотрудник     0        135823                        образование   \n",
       "8    сотрудник     0         95856              на проведение свадьбы   \n",
       "9    сотрудник     0        144425            покупка жилья для семьи   \n",
       "10   компаньон     0        113943               покупка недвижимости   \n",
       "11   сотрудник     0         77069  покупка коммерческой недвижимости   \n",
       "12   пенсионер     0        145017                    сыграть свадьбу   \n",
       "13   сотрудник     0        130458            приобретение автомобиля   \n",
       "14   компаньон     1        165127         покупка жилой недвижимости   \n",
       "\n",
       "   total_income_category          purpose_category  \n",
       "0                      B  операции с недвижимостью  \n",
       "1                      C    операции с автомобилем  \n",
       "2                      C  операции с недвижимостью  \n",
       "3                      B     получение образования  \n",
       "4                      C        проведение свадьбы  \n",
       "5                      B  операции с недвижимостью  \n",
       "6                      B  операции с недвижимостью  \n",
       "7                      C     получение образования  \n",
       "8                      C        проведение свадьбы  \n",
       "9                      C  операции с недвижимостью  \n",
       "10                     C  операции с недвижимостью  \n",
       "11                     C  операции с недвижимостью  \n",
       "12                     C        проведение свадьбы  \n",
       "13                     C    операции с автомобилем  \n",
       "14                     C  операции с недвижимостью  "
      ]
     },
     "metadata": {},
     "output_type": "display_data"
    },
    {
     "name": "stdout",
     "output_type": "stream",
     "text": [
      "['операции с недвижимостью' 'операции с автомобилем'\n",
      " 'получение образования' 'проведение свадьбы']\n"
     ]
    }
   ],
   "source": [
    "def purpose_identification(string):\n",
    "         if 'авто' in string:\n",
    "            return 'операции с автомобилем'\n",
    "         if 'недвиж' in string or 'жиль' in string:\n",
    "            return 'операции с недвижимостью'\n",
    "         if 'образ' in string:\n",
    "            return 'получение образования'\n",
    "         if 'свадьб' in string:\n",
    "            return 'проведение свадьбы'\n",
    "print(purpose_identification('на свадьбу'))\n",
    "df['purpose_category'] = df['purpose'].apply(purpose_identification)\n",
    "display(df.head(15))\n",
    "print(df['purpose_category'].unique())"
   ]
  },
  {
   "cell_type": "markdown",
   "metadata": {},
   "source": [
    "### Проверка влияния различных факторов на вероятность невозврата кредита в срок."
   ]
  },
  {
   "cell_type": "markdown",
   "metadata": {},
   "source": [
    "При составлении сводной таблицы заметил заметил необычные значения в количестве детей (-1, 20), возрасте (0) и гендере (XNA). Заменим выбросы в столбцах с детьми и возрасте на None (NaN), чтобы не возникало проблем при расчётах. Значение в гендере можно сначала уточнить в документации или у сотрудников, которые занимались выгрузкой, а потом либо заменить на None, либо оставтить как есть."
   ]
  },
  {
   "cell_type": "code",
   "execution_count": 127,
   "metadata": {
    "scrolled": false
   },
   "outputs": [],
   "source": [
    "#display(df.pivot_table(index='children', values='debt', aggfunc='mean'))# попробовал составить сводную таблицу с детьми и заметил выбросы -1 и 20. Количество детей \"20\" встречается в нескольких строках, что даёт сделать вывод о выбросе, а не о реальном значении.\n",
    "#display(df.loc[df['children'] == -1].head())# проверил данные в строках, где значение детей -1\n",
    "#df.loc[df['children'] == -1 ,'children'] = None\n",
    "#df.loc[df['children'] == 20 ,'children'] = None\n",
    "#df.loc[df['dob_years'] == 0 ,'dob_years'] = None\n",
    "#display(df.loc[df['children'].isna()].head())# вывод таблицы со значениями NaN"
   ]
  },
  {
   "cell_type": "code",
   "execution_count": 128,
   "metadata": {
    "scrolled": true
   },
   "outputs": [
    {
     "data": {
      "text/html": [
       "<div>\n",
       "<style scoped>\n",
       "    .dataframe tbody tr th:only-of-type {\n",
       "        vertical-align: middle;\n",
       "    }\n",
       "\n",
       "    .dataframe tbody tr th {\n",
       "        vertical-align: top;\n",
       "    }\n",
       "\n",
       "    .dataframe thead th {\n",
       "        text-align: right;\n",
       "    }\n",
       "</style>\n",
       "<table border=\"1\" class=\"dataframe\">\n",
       "  <thead>\n",
       "    <tr style=\"text-align: right;\">\n",
       "      <th></th>\n",
       "      <th>debt</th>\n",
       "    </tr>\n",
       "    <tr>\n",
       "      <th>children</th>\n",
       "      <th></th>\n",
       "    </tr>\n",
       "  </thead>\n",
       "  <tbody>\n",
       "    <tr>\n",
       "      <th>0</th>\n",
       "      <td>0.075458</td>\n",
       "    </tr>\n",
       "    <tr>\n",
       "      <th>1</th>\n",
       "      <td>0.091341</td>\n",
       "    </tr>\n",
       "    <tr>\n",
       "      <th>2</th>\n",
       "      <td>0.095145</td>\n",
       "    </tr>\n",
       "    <tr>\n",
       "      <th>3</th>\n",
       "      <td>0.082317</td>\n",
       "    </tr>\n",
       "    <tr>\n",
       "      <th>4</th>\n",
       "      <td>0.097561</td>\n",
       "    </tr>\n",
       "    <tr>\n",
       "      <th>5</th>\n",
       "      <td>0.000000</td>\n",
       "    </tr>\n",
       "  </tbody>\n",
       "</table>\n",
       "</div>"
      ],
      "text/plain": [
       "              debt\n",
       "children          \n",
       "0         0.075458\n",
       "1         0.091341\n",
       "2         0.095145\n",
       "3         0.082317\n",
       "4         0.097561\n",
       "5         0.000000"
      ]
     },
     "metadata": {},
     "output_type": "display_data"
    }
   ],
   "source": [
    "display(df.pivot_table(index='children', values='debt', aggfunc='mean'))"
   ]
  },
  {
   "cell_type": "markdown",
   "metadata": {},
   "source": [
    "Однозначный вывод о зависисмости количества детей и возврата кредита в срок сделать нельзя, так как рост вероятности невозврата в срок растёт только до первых двух детей, затем резко падаёт на 3, увеличивается на 4 и отсутствует у тех, у кого 5 детей (выводы на основе исследуемых данных)."
   ]
  },
  {
   "cell_type": "code",
   "execution_count": 129,
   "metadata": {},
   "outputs": [
    {
     "data": {
      "text/html": [
       "<div>\n",
       "<style scoped>\n",
       "    .dataframe tbody tr th:only-of-type {\n",
       "        vertical-align: middle;\n",
       "    }\n",
       "\n",
       "    .dataframe tbody tr th {\n",
       "        vertical-align: top;\n",
       "    }\n",
       "\n",
       "    .dataframe thead th {\n",
       "        text-align: right;\n",
       "    }\n",
       "</style>\n",
       "<table border=\"1\" class=\"dataframe\">\n",
       "  <thead>\n",
       "    <tr style=\"text-align: right;\">\n",
       "      <th></th>\n",
       "      <th>family_status_id</th>\n",
       "      <th>debt</th>\n",
       "      <th>family_status</th>\n",
       "    </tr>\n",
       "  </thead>\n",
       "  <tbody>\n",
       "    <tr>\n",
       "      <th>0</th>\n",
       "      <td>0</td>\n",
       "      <td>0.075478</td>\n",
       "      <td>женат / замужем</td>\n",
       "    </tr>\n",
       "    <tr>\n",
       "      <th>1</th>\n",
       "      <td>1</td>\n",
       "      <td>0.093029</td>\n",
       "      <td>гражданский брак</td>\n",
       "    </tr>\n",
       "    <tr>\n",
       "      <th>2</th>\n",
       "      <td>2</td>\n",
       "      <td>0.065263</td>\n",
       "      <td>вдовец / вдова</td>\n",
       "    </tr>\n",
       "    <tr>\n",
       "      <th>3</th>\n",
       "      <td>3</td>\n",
       "      <td>0.071006</td>\n",
       "      <td>в разводе</td>\n",
       "    </tr>\n",
       "    <tr>\n",
       "      <th>4</th>\n",
       "      <td>4</td>\n",
       "      <td>0.097666</td>\n",
       "      <td>Не женат / не замужем</td>\n",
       "    </tr>\n",
       "  </tbody>\n",
       "</table>\n",
       "</div>"
      ],
      "text/plain": [
       "   family_status_id      debt          family_status\n",
       "0                 0  0.075478        женат / замужем\n",
       "1                 1  0.093029       гражданский брак\n",
       "2                 2  0.065263         вдовец / вдова\n",
       "3                 3  0.071006              в разводе\n",
       "4                 4  0.097666  Не женат / не замужем"
      ]
     },
     "metadata": {},
     "output_type": "display_data"
    }
   ],
   "source": [
    "pivot_table_fs = df.pivot_table(index='family_status_id', values='debt', aggfunc='mean')\n",
    "pivot_table_fs = pivot_table_fs.merge(df_fam_status, on = 'family_status_id', how='left')\n",
    "display(pivot_table_fs)"
   ]
  },
  {
   "cell_type": "markdown",
   "metadata": {},
   "source": [
    "Здесь более понятные результаты. Так, видно, что наибольшая вероятность невозврата кредита в срок у людей в гражданском браке и у неженатых/незамужних. Это можно объяснить тем, что люди не вступившие в брак чаще всего молоды и не обрели опыта для устройства на более высокооплачиваемую работу и ещё не накопили достаточную \"подушку безопасности\". В гражданском браке люди рискуют только своим личным имуществом, а не имуществом семьи. В браке в случае сложной ситуации больше вероятность, что отдать кредит может помочь партнеёр. Для подтверждения своей гипотезы составил сводную таблицу со средним возрастом заемщика в зависимости от семейного положения.\n",
    "\n",
    "Самая высокая вероятность вернуть кредит в срок у вдов и вдовцов. При этом эта категория является самой возрастной (средний возраст 57 лет)."
   ]
  },
  {
   "cell_type": "code",
   "execution_count": 130,
   "metadata": {},
   "outputs": [
    {
     "data": {
      "text/html": [
       "<div>\n",
       "<style scoped>\n",
       "    .dataframe tbody tr th:only-of-type {\n",
       "        vertical-align: middle;\n",
       "    }\n",
       "\n",
       "    .dataframe tbody tr th {\n",
       "        vertical-align: top;\n",
       "    }\n",
       "\n",
       "    .dataframe thead th {\n",
       "        text-align: right;\n",
       "    }\n",
       "</style>\n",
       "<table border=\"1\" class=\"dataframe\">\n",
       "  <thead>\n",
       "    <tr style=\"text-align: right;\">\n",
       "      <th></th>\n",
       "      <th>family_status_id</th>\n",
       "      <th>dob_years</th>\n",
       "      <th>family_status</th>\n",
       "    </tr>\n",
       "  </thead>\n",
       "  <tbody>\n",
       "    <tr>\n",
       "      <th>0</th>\n",
       "      <td>0</td>\n",
       "      <td>43.727414</td>\n",
       "      <td>женат / замужем</td>\n",
       "    </tr>\n",
       "    <tr>\n",
       "      <th>1</th>\n",
       "      <td>1</td>\n",
       "      <td>42.277629</td>\n",
       "      <td>гражданский брак</td>\n",
       "    </tr>\n",
       "    <tr>\n",
       "      <th>2</th>\n",
       "      <td>2</td>\n",
       "      <td>56.782105</td>\n",
       "      <td>вдовец / вдова</td>\n",
       "    </tr>\n",
       "    <tr>\n",
       "      <th>3</th>\n",
       "      <td>3</td>\n",
       "      <td>45.908707</td>\n",
       "      <td>в разводе</td>\n",
       "    </tr>\n",
       "    <tr>\n",
       "      <th>4</th>\n",
       "      <td>4</td>\n",
       "      <td>38.606104</td>\n",
       "      <td>Не женат / не замужем</td>\n",
       "    </tr>\n",
       "  </tbody>\n",
       "</table>\n",
       "</div>"
      ],
      "text/plain": [
       "   family_status_id  dob_years          family_status\n",
       "0                 0  43.727414        женат / замужем\n",
       "1                 1  42.277629       гражданский брак\n",
       "2                 2  56.782105         вдовец / вдова\n",
       "3                 3  45.908707              в разводе\n",
       "4                 4  38.606104  Не женат / не замужем"
      ]
     },
     "metadata": {},
     "output_type": "display_data"
    }
   ],
   "source": [
    "age_on_fs = df.pivot_table(index='family_status_id', values='dob_years', aggfunc='mean')# сводная таблица со средним возрастом по категориям семейного положения\n",
    "display(age_on_fs.merge(df_fam_status, on = 'family_status_id', how='left'))"
   ]
  },
  {
   "cell_type": "markdown",
   "metadata": {},
   "source": [
    "Нельзя сделать однозначный вывод о зависимости уровня доходов и вероятности невозврата кредита в срок. Если рассмотреть категорию D (30 - 50 тыс.), то видно что вероятность невозврата кредита в срок выше как в категории с более высоким уровнем доходов С (50 - 200 тыс.), так и в категории с более низким уровнем доходов E (менее 30 тыс.)."
   ]
  },
  {
   "cell_type": "code",
   "execution_count": 131,
   "metadata": {
    "scrolled": true
   },
   "outputs": [
    {
     "data": {
      "text/html": [
       "<div>\n",
       "<style scoped>\n",
       "    .dataframe tbody tr th:only-of-type {\n",
       "        vertical-align: middle;\n",
       "    }\n",
       "\n",
       "    .dataframe tbody tr th {\n",
       "        vertical-align: top;\n",
       "    }\n",
       "\n",
       "    .dataframe thead th {\n",
       "        text-align: right;\n",
       "    }\n",
       "</style>\n",
       "<table border=\"1\" class=\"dataframe\">\n",
       "  <thead>\n",
       "    <tr style=\"text-align: right;\">\n",
       "      <th></th>\n",
       "      <th>debt</th>\n",
       "    </tr>\n",
       "    <tr>\n",
       "      <th>total_income_category</th>\n",
       "      <th></th>\n",
       "    </tr>\n",
       "  </thead>\n",
       "  <tbody>\n",
       "    <tr>\n",
       "      <th>A</th>\n",
       "      <td>0.080000</td>\n",
       "    </tr>\n",
       "    <tr>\n",
       "      <th>B</th>\n",
       "      <td>0.070685</td>\n",
       "    </tr>\n",
       "    <tr>\n",
       "      <th>C</th>\n",
       "      <td>0.084781</td>\n",
       "    </tr>\n",
       "    <tr>\n",
       "      <th>D</th>\n",
       "      <td>0.060345</td>\n",
       "    </tr>\n",
       "    <tr>\n",
       "      <th>E</th>\n",
       "      <td>0.090909</td>\n",
       "    </tr>\n",
       "  </tbody>\n",
       "</table>\n",
       "</div>"
      ],
      "text/plain": [
       "                           debt\n",
       "total_income_category          \n",
       "A                      0.080000\n",
       "B                      0.070685\n",
       "C                      0.084781\n",
       "D                      0.060345\n",
       "E                      0.090909"
      ]
     },
     "metadata": {},
     "output_type": "display_data"
    }
   ],
   "source": [
    "display(df.pivot_table(index='total_income_category', values='debt', aggfunc='mean'))"
   ]
  },
  {
   "cell_type": "markdown",
   "metadata": {},
   "source": [
    "Самая высокая вероятность невозврата кредита в срок у целей на получение образования и операций с автомобирем. Самая низкая вероятность невозврата у операций с недвижимостью - здесь люди рискуют своей \"крышей над головой\". Проведение свадьбы занимает промежуточное положение."
   ]
  },
  {
   "cell_type": "code",
   "execution_count": 132,
   "metadata": {},
   "outputs": [
    {
     "data": {
      "text/html": [
       "<div>\n",
       "<style scoped>\n",
       "    .dataframe tbody tr th:only-of-type {\n",
       "        vertical-align: middle;\n",
       "    }\n",
       "\n",
       "    .dataframe tbody tr th {\n",
       "        vertical-align: top;\n",
       "    }\n",
       "\n",
       "    .dataframe thead th {\n",
       "        text-align: right;\n",
       "    }\n",
       "</style>\n",
       "<table border=\"1\" class=\"dataframe\">\n",
       "  <thead>\n",
       "    <tr style=\"text-align: right;\">\n",
       "      <th></th>\n",
       "      <th>debt</th>\n",
       "    </tr>\n",
       "    <tr>\n",
       "      <th>purpose_category</th>\n",
       "      <th></th>\n",
       "    </tr>\n",
       "  </thead>\n",
       "  <tbody>\n",
       "    <tr>\n",
       "      <th>операции с автомобилем</th>\n",
       "      <td>0.093230</td>\n",
       "    </tr>\n",
       "    <tr>\n",
       "      <th>операции с недвижимостью</th>\n",
       "      <td>0.072434</td>\n",
       "    </tr>\n",
       "    <tr>\n",
       "      <th>получение образования</th>\n",
       "      <td>0.092714</td>\n",
       "    </tr>\n",
       "    <tr>\n",
       "      <th>проведение свадьбы</th>\n",
       "      <td>0.078661</td>\n",
       "    </tr>\n",
       "  </tbody>\n",
       "</table>\n",
       "</div>"
      ],
      "text/plain": [
       "                              debt\n",
       "purpose_category                  \n",
       "операции с автомобилем    0.093230\n",
       "операции с недвижимостью  0.072434\n",
       "получение образования     0.092714\n",
       "проведение свадьбы        0.078661"
      ]
     },
     "metadata": {},
     "output_type": "display_data"
    }
   ],
   "source": [
    "display(df.pivot_table(index='purpose_category', values='debt', aggfunc='mean'))"
   ]
  },
  {
   "cell_type": "markdown",
   "metadata": {},
   "source": [
    "Попробуем проверить более сложную зависимость: цель и доход заемщика с вероятностью возврата кредита в срок."
   ]
  },
  {
   "cell_type": "code",
   "execution_count": 133,
   "metadata": {
    "scrolled": true
   },
   "outputs": [
    {
     "data": {
      "text/html": [
       "<div>\n",
       "<style scoped>\n",
       "    .dataframe tbody tr th:only-of-type {\n",
       "        vertical-align: middle;\n",
       "    }\n",
       "\n",
       "    .dataframe tbody tr th {\n",
       "        vertical-align: top;\n",
       "    }\n",
       "\n",
       "    .dataframe thead th {\n",
       "        text-align: right;\n",
       "    }\n",
       "</style>\n",
       "<table border=\"1\" class=\"dataframe\">\n",
       "  <thead>\n",
       "    <tr style=\"text-align: right;\">\n",
       "      <th></th>\n",
       "      <th></th>\n",
       "      <th>debt</th>\n",
       "    </tr>\n",
       "    <tr>\n",
       "      <th>purpose_category</th>\n",
       "      <th>total_income_category</th>\n",
       "      <th></th>\n",
       "    </tr>\n",
       "  </thead>\n",
       "  <tbody>\n",
       "    <tr>\n",
       "      <th rowspan=\"5\" valign=\"top\">операции с автомобилем</th>\n",
       "      <th>A</th>\n",
       "      <td>0.000000</td>\n",
       "    </tr>\n",
       "    <tr>\n",
       "      <th>B</th>\n",
       "      <td>0.083333</td>\n",
       "    </tr>\n",
       "    <tr>\n",
       "      <th>C</th>\n",
       "      <td>0.095463</td>\n",
       "    </tr>\n",
       "    <tr>\n",
       "      <th>D</th>\n",
       "      <td>0.140845</td>\n",
       "    </tr>\n",
       "    <tr>\n",
       "      <th>E</th>\n",
       "      <td>0.000000</td>\n",
       "    </tr>\n",
       "    <tr>\n",
       "      <th rowspan=\"5\" valign=\"top\">операции с недвижимостью</th>\n",
       "      <th>A</th>\n",
       "      <td>0.058824</td>\n",
       "    </tr>\n",
       "    <tr>\n",
       "      <th>B</th>\n",
       "      <td>0.067138</td>\n",
       "    </tr>\n",
       "    <tr>\n",
       "      <th>C</th>\n",
       "      <td>0.074765</td>\n",
       "    </tr>\n",
       "    <tr>\n",
       "      <th>D</th>\n",
       "      <td>0.035928</td>\n",
       "    </tr>\n",
       "    <tr>\n",
       "      <th>E</th>\n",
       "      <td>0.181818</td>\n",
       "    </tr>\n",
       "    <tr>\n",
       "      <th rowspan=\"5\" valign=\"top\">получение образования</th>\n",
       "      <th>A</th>\n",
       "      <td>0.250000</td>\n",
       "    </tr>\n",
       "    <tr>\n",
       "      <th>B</th>\n",
       "      <td>0.077966</td>\n",
       "    </tr>\n",
       "    <tr>\n",
       "      <th>C</th>\n",
       "      <td>0.098671</td>\n",
       "    </tr>\n",
       "    <tr>\n",
       "      <th>D</th>\n",
       "      <td>0.026316</td>\n",
       "    </tr>\n",
       "    <tr>\n",
       "      <th>E</th>\n",
       "      <td>0.000000</td>\n",
       "    </tr>\n",
       "    <tr>\n",
       "      <th rowspan=\"5\" valign=\"top\">проведение свадьбы</th>\n",
       "      <th>A</th>\n",
       "      <td>0.000000</td>\n",
       "    </tr>\n",
       "    <tr>\n",
       "      <th>B</th>\n",
       "      <td>0.051661</td>\n",
       "    </tr>\n",
       "    <tr>\n",
       "      <th>C</th>\n",
       "      <td>0.087260</td>\n",
       "    </tr>\n",
       "    <tr>\n",
       "      <th>D</th>\n",
       "      <td>0.088235</td>\n",
       "    </tr>\n",
       "    <tr>\n",
       "      <th>E</th>\n",
       "      <td>0.000000</td>\n",
       "    </tr>\n",
       "  </tbody>\n",
       "</table>\n",
       "</div>"
      ],
      "text/plain": [
       "                                                    debt\n",
       "purpose_category         total_income_category          \n",
       "операции с автомобилем   A                      0.000000\n",
       "                         B                      0.083333\n",
       "                         C                      0.095463\n",
       "                         D                      0.140845\n",
       "                         E                      0.000000\n",
       "операции с недвижимостью A                      0.058824\n",
       "                         B                      0.067138\n",
       "                         C                      0.074765\n",
       "                         D                      0.035928\n",
       "                         E                      0.181818\n",
       "получение образования    A                      0.250000\n",
       "                         B                      0.077966\n",
       "                         C                      0.098671\n",
       "                         D                      0.026316\n",
       "                         E                      0.000000\n",
       "проведение свадьбы       A                      0.000000\n",
       "                         B                      0.051661\n",
       "                         C                      0.087260\n",
       "                         D                      0.088235\n",
       "                         E                      0.000000"
      ]
     },
     "metadata": {},
     "output_type": "display_data"
    }
   ],
   "source": [
    "display(df.pivot_table(index= ['purpose_category','total_income_category'], values='debt', aggfunc='mean'))"
   ]
  },
  {
   "cell_type": "markdown",
   "metadata": {},
   "source": [
    "Виден тренд роста вероятности невозврата кредита в срок с понижением дохода в категориях: операции с автомобилем, операции с недвижимостью, проведение свадьбы. Слишком высокая вероятность невозврата кредита в срок у самой обеспеченной группы (А - доход выше 1 млн) при получении денег на образование. Возможно это связано с низкой представленностью данной группы в исследовании (репрезентативность выборки), поэтому получается такой результат. \n",
    "Возможно кто-то брал кредит на обучение в Оксфорде или Гарварде:)"
   ]
  },
  {
   "cell_type": "markdown",
   "metadata": {},
   "source": [
    "## Общий вывод:"
   ]
  },
  {
   "cell_type": "markdown",
   "metadata": {},
   "source": [
    "Явной зависимости между возвратом кредита в срок и количеством детей нет. Также сложно проследить зависимость между уровнем дохода и возвратом кредита в срок. Проблемы с возвратом кредита могут быть как у более обеспеченной категории с ежемесячным доходом 50-200 тыс., так и у категории с низким ежемесячным уровнем доходом до 30 тыс. При этом вероятность возврата кредита в срок у категории 30-50 тыс. выше, чем у двух перечисленных.\n",
    "На возврат кредита в срок влияют семеное положение и цель кредита. Ниже веротность вернуть кредит в срок у неженатой категории людей и у тех, кто берёт деньги на покупку автомобиля или получение образования. Выше вероятность вернуть долг в срок у людей, состоящий в браке, и вдов (вдовцов). Это объясняется тем, что эти категории старше, имеют больший опыт работы и \"подушку безопасности\".\n",
    "Высокая вероятность вернуть кредит в срок у людей, которые берут его на покупку недвижимости, так как они рискуют своей \"крышей над головой\"."
   ]
  },
  {
   "cell_type": "markdown",
   "metadata": {},
   "source": [
    "Внёс правки в аномалиях: заменил -1 на 1. Строки, где значение нельзя исправить на подходящие, удалил. Они составляли менее 1% (177 строк)."
   ]
  },
  {
   "cell_type": "code",
   "execution_count": 134,
   "metadata": {},
   "outputs": [
    {
     "name": "stdout",
     "output_type": "stream",
     "text": [
      "<class 'pandas.core.frame.DataFrame'>\n",
      "RangeIndex: 21277 entries, 0 to 21276\n",
      "Data columns (total 12 columns):\n",
      " #   Column                 Non-Null Count  Dtype  \n",
      "---  ------                 --------------  -----  \n",
      " 0   children               21277 non-null  int64  \n",
      " 1   days_employed          21277 non-null  float64\n",
      " 2   dob_years              21277 non-null  int64  \n",
      " 3   education_id           21277 non-null  int64  \n",
      " 4   family_status_id       21277 non-null  int64  \n",
      " 5   gender                 21277 non-null  object \n",
      " 6   income_type            21277 non-null  object \n",
      " 7   debt                   21277 non-null  int64  \n",
      " 8   total_income           21277 non-null  int64  \n",
      " 9   purpose                21277 non-null  object \n",
      " 10  total_income_category  21277 non-null  object \n",
      " 11  purpose_category       21277 non-null  object \n",
      "dtypes: float64(1), int64(6), object(5)\n",
      "memory usage: 1.9+ MB\n"
     ]
    }
   ],
   "source": [
    "df.info()"
   ]
  }
 ],
 "metadata": {
  "ExecuteTimeLog": [
   {
    "duration": 637,
    "start_time": "2022-03-12T17:25:27.280Z"
   },
   {
    "duration": 57,
    "start_time": "2022-03-12T17:27:33.311Z"
   },
   {
    "duration": 24,
    "start_time": "2022-03-12T17:33:58.194Z"
   },
   {
    "duration": 10,
    "start_time": "2022-03-12T17:34:30.151Z"
   },
   {
    "duration": 13,
    "start_time": "2022-03-12T17:35:05.587Z"
   },
   {
    "duration": 1016,
    "start_time": "2022-03-12T17:37:26.390Z"
   },
   {
    "duration": 5,
    "start_time": "2022-03-12T17:37:43.878Z"
   },
   {
    "duration": 280,
    "start_time": "2022-03-12T17:38:17.187Z"
   },
   {
    "duration": 7,
    "start_time": "2022-03-12T17:38:27.164Z"
   },
   {
    "duration": 4,
    "start_time": "2022-03-12T17:38:42.512Z"
   },
   {
    "duration": 5,
    "start_time": "2022-03-12T17:41:04.494Z"
   },
   {
    "duration": 5,
    "start_time": "2022-03-12T17:41:12.178Z"
   },
   {
    "duration": 237,
    "start_time": "2022-03-12T17:42:14.127Z"
   },
   {
    "duration": 10,
    "start_time": "2022-03-12T17:43:12.148Z"
   },
   {
    "duration": 10,
    "start_time": "2022-03-12T17:43:27.945Z"
   },
   {
    "duration": 9,
    "start_time": "2022-03-12T17:49:45.334Z"
   },
   {
    "duration": 8,
    "start_time": "2022-03-12T17:51:11.981Z"
   },
   {
    "duration": 54,
    "start_time": "2022-03-12T17:51:15.080Z"
   },
   {
    "duration": 5,
    "start_time": "2022-03-12T19:01:22.124Z"
   },
   {
    "duration": 4,
    "start_time": "2022-03-12T19:01:29.230Z"
   },
   {
    "duration": 4,
    "start_time": "2022-03-12T19:01:32.776Z"
   },
   {
    "duration": 5,
    "start_time": "2022-03-12T19:02:00.362Z"
   },
   {
    "duration": 5,
    "start_time": "2022-03-12T19:02:17.908Z"
   },
   {
    "duration": 6,
    "start_time": "2022-03-12T19:02:58.698Z"
   },
   {
    "duration": 5,
    "start_time": "2022-03-12T19:03:04.046Z"
   },
   {
    "duration": 10,
    "start_time": "2022-03-12T19:06:23.879Z"
   },
   {
    "duration": 13,
    "start_time": "2022-03-12T19:06:30.629Z"
   },
   {
    "duration": 10,
    "start_time": "2022-03-12T19:34:25.187Z"
   },
   {
    "duration": 4,
    "start_time": "2022-03-12T19:43:52.359Z"
   },
   {
    "duration": 14,
    "start_time": "2022-03-12T19:43:57.814Z"
   },
   {
    "duration": 12,
    "start_time": "2022-03-12T19:44:40.937Z"
   },
   {
    "duration": 7,
    "start_time": "2022-03-12T19:44:58.699Z"
   },
   {
    "duration": 4,
    "start_time": "2022-03-12T19:46:18.958Z"
   },
   {
    "duration": 69,
    "start_time": "2022-03-12T19:50:06.927Z"
   },
   {
    "duration": 4,
    "start_time": "2022-03-12T19:50:11.636Z"
   },
   {
    "duration": 87,
    "start_time": "2022-03-12T19:50:22.095Z"
   },
   {
    "duration": 5,
    "start_time": "2022-03-12T19:50:26.949Z"
   },
   {
    "duration": 5,
    "start_time": "2022-03-12T19:50:50.962Z"
   },
   {
    "duration": 5,
    "start_time": "2022-03-12T19:51:10.491Z"
   },
   {
    "duration": 3135,
    "start_time": "2022-03-12T19:52:40.685Z"
   },
   {
    "duration": 6,
    "start_time": "2022-03-12T19:53:11.707Z"
   },
   {
    "duration": 6,
    "start_time": "2022-03-12T19:53:32.445Z"
   },
   {
    "duration": 9,
    "start_time": "2022-03-12T19:55:02.262Z"
   },
   {
    "duration": 9,
    "start_time": "2022-03-12T19:57:16.356Z"
   },
   {
    "duration": 1506,
    "start_time": "2022-03-12T19:57:56.231Z"
   },
   {
    "duration": 8,
    "start_time": "2022-03-12T19:57:57.739Z"
   },
   {
    "duration": 10,
    "start_time": "2022-03-12T19:57:57.749Z"
   },
   {
    "duration": 9,
    "start_time": "2022-03-12T19:58:11.112Z"
   },
   {
    "duration": 8,
    "start_time": "2022-03-12T19:58:29.227Z"
   },
   {
    "duration": 8,
    "start_time": "2022-03-12T19:58:34.656Z"
   },
   {
    "duration": 8,
    "start_time": "2022-03-12T19:58:38.128Z"
   },
   {
    "duration": 8,
    "start_time": "2022-03-12T19:58:41.950Z"
   },
   {
    "duration": 50,
    "start_time": "2022-03-12T19:58:54.699Z"
   },
   {
    "duration": 7,
    "start_time": "2022-03-12T19:58:54.751Z"
   },
   {
    "duration": 10,
    "start_time": "2022-03-12T19:58:54.760Z"
   },
   {
    "duration": 4,
    "start_time": "2022-03-12T19:58:54.771Z"
   },
   {
    "duration": 8,
    "start_time": "2022-03-12T19:58:58.284Z"
   },
   {
    "duration": 9,
    "start_time": "2022-03-12T19:59:16.265Z"
   },
   {
    "duration": 12,
    "start_time": "2022-03-12T20:01:23.005Z"
   },
   {
    "duration": 8,
    "start_time": "2022-03-12T20:03:06.459Z"
   },
   {
    "duration": 2857,
    "start_time": "2022-03-12T20:03:31.667Z"
   },
   {
    "duration": 50,
    "start_time": "2022-03-12T20:03:41.359Z"
   },
   {
    "duration": 7,
    "start_time": "2022-03-12T20:03:41.411Z"
   },
   {
    "duration": 10,
    "start_time": "2022-03-12T20:03:41.420Z"
   },
   {
    "duration": 5,
    "start_time": "2022-03-12T20:03:41.432Z"
   },
   {
    "duration": 10,
    "start_time": "2022-03-12T20:03:43.085Z"
   },
   {
    "duration": 6,
    "start_time": "2022-03-12T20:04:28.442Z"
   },
   {
    "duration": 54,
    "start_time": "2022-03-12T20:04:31.972Z"
   },
   {
    "duration": 9,
    "start_time": "2022-03-12T20:04:32.028Z"
   },
   {
    "duration": 21,
    "start_time": "2022-03-12T20:04:32.039Z"
   },
   {
    "duration": 8,
    "start_time": "2022-03-12T20:04:34.289Z"
   },
   {
    "duration": 10,
    "start_time": "2022-03-12T20:04:45.636Z"
   },
   {
    "duration": 7,
    "start_time": "2022-03-12T20:05:47.191Z"
   },
   {
    "duration": 52,
    "start_time": "2022-03-12T20:06:03.159Z"
   },
   {
    "duration": 7,
    "start_time": "2022-03-12T20:06:03.213Z"
   },
   {
    "duration": 10,
    "start_time": "2022-03-12T20:06:03.222Z"
   },
   {
    "duration": 5,
    "start_time": "2022-03-12T20:06:12.583Z"
   },
   {
    "duration": 14,
    "start_time": "2022-03-12T20:06:17.203Z"
   },
   {
    "duration": 13,
    "start_time": "2022-03-12T20:06:29.059Z"
   },
   {
    "duration": 10,
    "start_time": "2022-03-12T20:15:04.020Z"
   },
   {
    "duration": 17,
    "start_time": "2022-03-12T20:39:05.151Z"
   },
   {
    "duration": 14,
    "start_time": "2022-03-12T20:39:13.091Z"
   },
   {
    "duration": 23,
    "start_time": "2022-03-12T20:40:20.346Z"
   },
   {
    "duration": 19,
    "start_time": "2022-03-12T20:40:35.068Z"
   },
   {
    "duration": 28,
    "start_time": "2022-03-12T20:46:31.240Z"
   },
   {
    "duration": 22,
    "start_time": "2022-03-12T20:47:19.088Z"
   },
   {
    "duration": 24,
    "start_time": "2022-03-12T20:47:47.526Z"
   },
   {
    "duration": 52,
    "start_time": "2022-03-12T20:48:49.482Z"
   },
   {
    "duration": 8,
    "start_time": "2022-03-12T20:48:49.536Z"
   },
   {
    "duration": 11,
    "start_time": "2022-03-12T20:48:49.547Z"
   },
   {
    "duration": 6,
    "start_time": "2022-03-12T20:48:49.560Z"
   },
   {
    "duration": 16,
    "start_time": "2022-03-12T20:48:49.568Z"
   },
   {
    "duration": 10,
    "start_time": "2022-03-12T20:48:49.585Z"
   },
   {
    "duration": 31,
    "start_time": "2022-03-12T20:48:52.654Z"
   },
   {
    "duration": 21,
    "start_time": "2022-03-12T20:49:09.095Z"
   },
   {
    "duration": 5,
    "start_time": "2022-03-12T21:08:38.823Z"
   },
   {
    "duration": 6,
    "start_time": "2022-03-12T21:09:11.127Z"
   },
   {
    "duration": 6,
    "start_time": "2022-03-12T21:11:43.540Z"
   },
   {
    "duration": 5,
    "start_time": "2022-03-12T21:14:52.245Z"
   },
   {
    "duration": 6,
    "start_time": "2022-03-12T21:15:17.517Z"
   },
   {
    "duration": 22,
    "start_time": "2022-03-12T21:22:13.573Z"
   },
   {
    "duration": 24,
    "start_time": "2022-03-12T21:22:31.687Z"
   },
   {
    "duration": 51,
    "start_time": "2022-03-12T21:22:44.689Z"
   },
   {
    "duration": 7,
    "start_time": "2022-03-12T21:22:44.742Z"
   },
   {
    "duration": 9,
    "start_time": "2022-03-12T21:22:44.751Z"
   },
   {
    "duration": 5,
    "start_time": "2022-03-12T21:22:44.761Z"
   },
   {
    "duration": 12,
    "start_time": "2022-03-12T21:22:44.767Z"
   },
   {
    "duration": 8,
    "start_time": "2022-03-12T21:22:44.781Z"
   },
   {
    "duration": 29,
    "start_time": "2022-03-12T21:22:44.790Z"
   },
   {
    "duration": 53,
    "start_time": "2022-03-12T21:22:44.821Z"
   },
   {
    "duration": 20,
    "start_time": "2022-03-12T21:22:49.957Z"
   },
   {
    "duration": 17,
    "start_time": "2022-03-12T21:23:04.920Z"
   },
   {
    "duration": 15,
    "start_time": "2022-03-12T21:23:37.448Z"
   },
   {
    "duration": 21,
    "start_time": "2022-03-12T21:24:10.096Z"
   },
   {
    "duration": 16,
    "start_time": "2022-03-12T21:24:18.605Z"
   },
   {
    "duration": 1725,
    "start_time": "2022-03-12T21:52:07.436Z"
   },
   {
    "duration": 30,
    "start_time": "2022-03-12T22:00:37.445Z"
   },
   {
    "duration": 292,
    "start_time": "2022-03-13T19:02:18.183Z"
   },
   {
    "duration": 808,
    "start_time": "2022-03-13T19:02:29.230Z"
   },
   {
    "duration": 11,
    "start_time": "2022-03-13T19:02:30.041Z"
   },
   {
    "duration": 36,
    "start_time": "2022-03-13T19:02:30.056Z"
   },
   {
    "duration": 11,
    "start_time": "2022-03-13T19:02:30.095Z"
   },
   {
    "duration": 21,
    "start_time": "2022-03-13T19:02:30.109Z"
   },
   {
    "duration": 54,
    "start_time": "2022-03-13T19:02:30.133Z"
   },
   {
    "duration": 53,
    "start_time": "2022-03-13T19:02:30.189Z"
   },
   {
    "duration": 63,
    "start_time": "2022-03-13T19:02:30.244Z"
   },
   {
    "duration": 380,
    "start_time": "2022-03-13T19:02:33.458Z"
   },
   {
    "duration": 47,
    "start_time": "2022-03-13T19:02:55.447Z"
   },
   {
    "duration": 51,
    "start_time": "2022-03-13T19:08:41.769Z"
   },
   {
    "duration": 66,
    "start_time": "2022-03-13T19:48:43.669Z"
   },
   {
    "duration": 43,
    "start_time": "2022-03-13T19:48:43.740Z"
   },
   {
    "duration": 23,
    "start_time": "2022-03-13T19:48:43.788Z"
   },
   {
    "duration": 9,
    "start_time": "2022-03-13T19:48:43.814Z"
   },
   {
    "duration": 64,
    "start_time": "2022-03-13T19:48:43.826Z"
   },
   {
    "duration": 15,
    "start_time": "2022-03-13T19:48:43.893Z"
   },
   {
    "duration": 94,
    "start_time": "2022-03-13T19:48:43.911Z"
   },
   {
    "duration": 43,
    "start_time": "2022-03-13T19:48:44.010Z"
   },
   {
    "duration": 48,
    "start_time": "2022-03-13T19:48:45.613Z"
   },
   {
    "duration": 63,
    "start_time": "2022-03-13T19:49:22.643Z"
   },
   {
    "duration": 11,
    "start_time": "2022-03-13T19:49:22.709Z"
   },
   {
    "duration": 19,
    "start_time": "2022-03-13T19:49:22.724Z"
   },
   {
    "duration": 7,
    "start_time": "2022-03-13T19:49:22.746Z"
   },
   {
    "duration": 17,
    "start_time": "2022-03-13T19:49:22.783Z"
   },
   {
    "duration": 12,
    "start_time": "2022-03-13T19:49:22.802Z"
   },
   {
    "duration": 90,
    "start_time": "2022-03-13T19:49:22.816Z"
   },
   {
    "duration": 31,
    "start_time": "2022-03-13T19:49:22.909Z"
   },
   {
    "duration": 50,
    "start_time": "2022-03-13T19:49:25.259Z"
   },
   {
    "duration": 72,
    "start_time": "2022-03-13T20:09:59.960Z"
   },
   {
    "duration": 98,
    "start_time": "2022-03-13T20:11:43.689Z"
   },
   {
    "duration": 81,
    "start_time": "2022-03-13T20:11:56.749Z"
   },
   {
    "duration": 82,
    "start_time": "2022-03-13T20:12:15.913Z"
   },
   {
    "duration": 33,
    "start_time": "2022-03-13T20:12:55.874Z"
   },
   {
    "duration": 13,
    "start_time": "2022-03-13T20:13:16.558Z"
   },
   {
    "duration": 19,
    "start_time": "2022-03-13T20:13:28.025Z"
   },
   {
    "duration": 25,
    "start_time": "2022-03-13T20:13:42.618Z"
   },
   {
    "duration": 39,
    "start_time": "2022-03-13T20:14:00.925Z"
   },
   {
    "duration": 68,
    "start_time": "2022-03-13T20:14:19.694Z"
   },
   {
    "duration": 68,
    "start_time": "2022-03-13T20:14:29.537Z"
   },
   {
    "duration": 63,
    "start_time": "2022-03-13T20:14:41.859Z"
   },
   {
    "duration": 20,
    "start_time": "2022-03-13T20:14:41.925Z"
   },
   {
    "duration": 45,
    "start_time": "2022-03-13T20:14:41.948Z"
   },
   {
    "duration": 8,
    "start_time": "2022-03-13T20:14:41.995Z"
   },
   {
    "duration": 28,
    "start_time": "2022-03-13T20:14:42.005Z"
   },
   {
    "duration": 59,
    "start_time": "2022-03-13T20:14:42.036Z"
   },
   {
    "duration": 47,
    "start_time": "2022-03-13T20:14:42.097Z"
   },
   {
    "duration": 39,
    "start_time": "2022-03-13T20:14:42.182Z"
   },
   {
    "duration": 69,
    "start_time": "2022-03-13T20:14:44.128Z"
   },
   {
    "duration": 42,
    "start_time": "2022-03-13T20:16:39.528Z"
   },
   {
    "duration": 44,
    "start_time": "2022-03-13T20:18:09.230Z"
   },
   {
    "duration": 70,
    "start_time": "2022-03-13T20:18:30.718Z"
   },
   {
    "duration": 21,
    "start_time": "2022-03-13T20:18:30.791Z"
   },
   {
    "duration": 39,
    "start_time": "2022-03-13T20:18:30.815Z"
   },
   {
    "duration": 29,
    "start_time": "2022-03-13T20:18:30.858Z"
   },
   {
    "duration": 28,
    "start_time": "2022-03-13T20:18:30.891Z"
   },
   {
    "duration": 63,
    "start_time": "2022-03-13T20:18:30.922Z"
   },
   {
    "duration": 54,
    "start_time": "2022-03-13T20:18:30.988Z"
   },
   {
    "duration": 68,
    "start_time": "2022-03-13T20:18:31.046Z"
   },
   {
    "duration": 104,
    "start_time": "2022-03-13T20:18:31.116Z"
   },
   {
    "duration": 64,
    "start_time": "2022-03-13T20:18:31.222Z"
   },
   {
    "duration": 114,
    "start_time": "2022-03-13T20:20:43.543Z"
   },
   {
    "duration": 71,
    "start_time": "2022-03-13T20:21:18.120Z"
   },
   {
    "duration": 12,
    "start_time": "2022-03-13T20:21:47.785Z"
   },
   {
    "duration": 14,
    "start_time": "2022-03-13T20:21:54.884Z"
   },
   {
    "duration": 16,
    "start_time": "2022-03-13T20:22:59.197Z"
   },
   {
    "duration": 16,
    "start_time": "2022-03-13T20:24:51.936Z"
   },
   {
    "duration": 18,
    "start_time": "2022-03-13T21:28:09.503Z"
   },
   {
    "duration": 274,
    "start_time": "2022-03-13T21:29:16.397Z"
   },
   {
    "duration": 64,
    "start_time": "2022-03-13T21:29:29.890Z"
   },
   {
    "duration": 28,
    "start_time": "2022-03-13T21:29:29.956Z"
   },
   {
    "duration": 23,
    "start_time": "2022-03-13T21:29:29.988Z"
   },
   {
    "duration": 8,
    "start_time": "2022-03-13T21:29:30.014Z"
   },
   {
    "duration": 74,
    "start_time": "2022-03-13T21:29:30.024Z"
   },
   {
    "duration": 18,
    "start_time": "2022-03-13T21:29:30.101Z"
   },
   {
    "duration": 83,
    "start_time": "2022-03-13T21:29:30.122Z"
   },
   {
    "duration": 41,
    "start_time": "2022-03-13T21:29:30.208Z"
   },
   {
    "duration": 102,
    "start_time": "2022-03-13T21:29:30.253Z"
   },
   {
    "duration": 46,
    "start_time": "2022-03-13T21:29:30.381Z"
   },
   {
    "duration": 17,
    "start_time": "2022-03-13T21:29:30.430Z"
   },
   {
    "duration": 49,
    "start_time": "2022-03-13T21:29:30.450Z"
   },
   {
    "duration": 19,
    "start_time": "2022-03-13T21:29:32.949Z"
   },
   {
    "duration": 86,
    "start_time": "2022-03-13T21:40:52.962Z"
   },
   {
    "duration": 6,
    "start_time": "2022-03-13T21:41:24.879Z"
   },
   {
    "duration": 6,
    "start_time": "2022-03-13T21:41:31.273Z"
   },
   {
    "duration": 16,
    "start_time": "2022-03-13T21:42:47.600Z"
   },
   {
    "duration": 40,
    "start_time": "2022-03-13T21:43:05.845Z"
   },
   {
    "duration": 34,
    "start_time": "2022-03-13T21:43:50.387Z"
   },
   {
    "duration": 5,
    "start_time": "2022-03-13T21:56:07.242Z"
   },
   {
    "duration": 5,
    "start_time": "2022-03-13T21:56:23.148Z"
   },
   {
    "duration": 29,
    "start_time": "2022-03-13T21:57:05.952Z"
   },
   {
    "duration": 65,
    "start_time": "2022-03-13T21:57:25.212Z"
   },
   {
    "duration": 18,
    "start_time": "2022-03-13T21:57:25.280Z"
   },
   {
    "duration": 22,
    "start_time": "2022-03-13T21:57:25.301Z"
   },
   {
    "duration": 9,
    "start_time": "2022-03-13T21:57:25.325Z"
   },
   {
    "duration": 74,
    "start_time": "2022-03-13T21:57:25.336Z"
   },
   {
    "duration": 19,
    "start_time": "2022-03-13T21:57:25.412Z"
   },
   {
    "duration": 91,
    "start_time": "2022-03-13T21:57:25.433Z"
   },
   {
    "duration": 59,
    "start_time": "2022-03-13T21:57:25.527Z"
   },
   {
    "duration": 44,
    "start_time": "2022-03-13T21:57:25.589Z"
   },
   {
    "duration": 73,
    "start_time": "2022-03-13T21:57:25.636Z"
   },
   {
    "duration": 15,
    "start_time": "2022-03-13T21:57:25.712Z"
   },
   {
    "duration": 16,
    "start_time": "2022-03-13T21:57:25.729Z"
   },
   {
    "duration": 19,
    "start_time": "2022-03-13T21:57:25.783Z"
   },
   {
    "duration": 28,
    "start_time": "2022-03-13T21:57:25.805Z"
   },
   {
    "duration": 29,
    "start_time": "2022-03-13T21:57:28.266Z"
   },
   {
    "duration": 29,
    "start_time": "2022-03-13T22:02:19.744Z"
   },
   {
    "duration": -7462,
    "start_time": "2022-03-13T22:03:02.873Z"
   },
   {
    "duration": 63,
    "start_time": "2022-03-13T22:02:57.723Z"
   },
   {
    "duration": 19,
    "start_time": "2022-03-13T22:02:57.789Z"
   },
   {
    "duration": 22,
    "start_time": "2022-03-13T22:02:57.811Z"
   },
   {
    "duration": 47,
    "start_time": "2022-03-13T22:02:57.836Z"
   },
   {
    "duration": 26,
    "start_time": "2022-03-13T22:02:57.885Z"
   },
   {
    "duration": 18,
    "start_time": "2022-03-13T22:02:57.913Z"
   },
   {
    "duration": 92,
    "start_time": "2022-03-13T22:02:57.934Z"
   },
   {
    "duration": 56,
    "start_time": "2022-03-13T22:02:58.029Z"
   },
   {
    "duration": 22,
    "start_time": "2022-03-13T22:03:00.608Z"
   },
   {
    "duration": 31,
    "start_time": "2022-03-13T22:03:32.012Z"
   },
   {
    "duration": 32,
    "start_time": "2022-03-13T22:03:53.396Z"
   },
   {
    "duration": 35,
    "start_time": "2022-03-13T22:10:15.752Z"
   },
   {
    "duration": 35,
    "start_time": "2022-03-13T22:10:49.682Z"
   },
   {
    "duration": 37,
    "start_time": "2022-03-13T22:11:47.302Z"
   },
   {
    "duration": 32,
    "start_time": "2022-03-13T22:13:10.199Z"
   },
   {
    "duration": 632,
    "start_time": "2022-03-14T08:00:09.767Z"
   },
   {
    "duration": 16,
    "start_time": "2022-03-14T08:00:10.400Z"
   },
   {
    "duration": 12,
    "start_time": "2022-03-14T08:00:10.418Z"
   },
   {
    "duration": 5,
    "start_time": "2022-03-14T08:00:10.432Z"
   },
   {
    "duration": 14,
    "start_time": "2022-03-14T08:00:10.438Z"
   },
   {
    "duration": 9,
    "start_time": "2022-03-14T08:00:10.454Z"
   },
   {
    "duration": 31,
    "start_time": "2022-03-14T08:00:10.501Z"
   },
   {
    "duration": 22,
    "start_time": "2022-03-14T08:00:10.534Z"
   },
   {
    "duration": 14,
    "start_time": "2022-03-14T08:00:10.557Z"
   },
   {
    "duration": 51,
    "start_time": "2022-03-14T08:00:10.573Z"
   },
   {
    "duration": 10,
    "start_time": "2022-03-14T08:00:10.625Z"
   },
   {
    "duration": 9,
    "start_time": "2022-03-14T08:00:10.636Z"
   },
   {
    "duration": 9,
    "start_time": "2022-03-14T08:00:10.646Z"
   },
   {
    "duration": 47,
    "start_time": "2022-03-14T08:00:10.657Z"
   },
   {
    "duration": 20,
    "start_time": "2022-03-14T08:00:25.079Z"
   },
   {
    "duration": 24,
    "start_time": "2022-03-14T08:00:53.670Z"
   },
   {
    "duration": 419,
    "start_time": "2022-03-14T08:54:07.123Z"
   },
   {
    "duration": 261,
    "start_time": "2022-03-14T08:54:44.461Z"
   },
   {
    "duration": 13,
    "start_time": "2022-03-14T08:55:14.994Z"
   },
   {
    "duration": 14,
    "start_time": "2022-03-14T08:56:29.581Z"
   },
   {
    "duration": 277,
    "start_time": "2022-03-14T08:57:48.445Z"
   },
   {
    "duration": 14,
    "start_time": "2022-03-14T08:58:10.265Z"
   },
   {
    "duration": 19,
    "start_time": "2022-03-14T08:58:27.443Z"
   },
   {
    "duration": 28,
    "start_time": "2022-03-14T08:59:17.266Z"
   },
   {
    "duration": 20,
    "start_time": "2022-03-14T08:59:27.941Z"
   },
   {
    "duration": 20,
    "start_time": "2022-03-14T08:59:32.600Z"
   },
   {
    "duration": 21,
    "start_time": "2022-03-14T09:00:05.227Z"
   },
   {
    "duration": 22,
    "start_time": "2022-03-14T09:03:23.278Z"
   },
   {
    "duration": 23,
    "start_time": "2022-03-14T09:03:34.587Z"
   },
   {
    "duration": 18,
    "start_time": "2022-03-14T09:04:02.397Z"
   },
   {
    "duration": 4,
    "start_time": "2022-03-14T09:14:16.133Z"
   },
   {
    "duration": 4,
    "start_time": "2022-03-14T09:16:41.751Z"
   },
   {
    "duration": 4,
    "start_time": "2022-03-14T09:16:50.024Z"
   },
   {
    "duration": 4,
    "start_time": "2022-03-14T09:16:59.591Z"
   },
   {
    "duration": 5,
    "start_time": "2022-03-14T09:17:29.630Z"
   },
   {
    "duration": 4,
    "start_time": "2022-03-14T09:17:45.155Z"
   },
   {
    "duration": 331,
    "start_time": "2022-03-14T09:43:24.082Z"
   },
   {
    "duration": 53,
    "start_time": "2022-03-14T09:44:11.406Z"
   },
   {
    "duration": 765,
    "start_time": "2022-03-16T09:55:37.604Z"
   },
   {
    "duration": 31,
    "start_time": "2022-03-16T09:55:38.371Z"
   },
   {
    "duration": 26,
    "start_time": "2022-03-16T09:55:38.405Z"
   },
   {
    "duration": 10,
    "start_time": "2022-03-16T09:55:38.453Z"
   },
   {
    "duration": 41,
    "start_time": "2022-03-16T09:55:38.465Z"
   },
   {
    "duration": 49,
    "start_time": "2022-03-16T09:55:38.508Z"
   },
   {
    "duration": 56,
    "start_time": "2022-03-16T09:55:38.560Z"
   },
   {
    "duration": 67,
    "start_time": "2022-03-16T09:55:38.622Z"
   },
   {
    "duration": 25,
    "start_time": "2022-03-16T09:55:38.691Z"
   },
   {
    "duration": 76,
    "start_time": "2022-03-16T09:55:38.719Z"
   },
   {
    "duration": 16,
    "start_time": "2022-03-16T09:55:38.798Z"
   },
   {
    "duration": 45,
    "start_time": "2022-03-16T09:55:38.817Z"
   },
   {
    "duration": 23,
    "start_time": "2022-03-16T09:55:38.865Z"
   },
   {
    "duration": 63,
    "start_time": "2022-03-16T09:55:38.891Z"
   },
   {
    "duration": 42,
    "start_time": "2022-03-16T09:55:38.957Z"
   },
   {
    "duration": 13,
    "start_time": "2022-03-16T09:56:15.475Z"
   },
   {
    "duration": 5,
    "start_time": "2022-03-16T09:57:36.235Z"
   },
   {
    "duration": 12,
    "start_time": "2022-03-16T10:03:04.769Z"
   },
   {
    "duration": 12,
    "start_time": "2022-03-16T10:03:15.535Z"
   },
   {
    "duration": 93,
    "start_time": "2022-03-16T10:03:44.624Z"
   },
   {
    "duration": 18,
    "start_time": "2022-03-16T10:03:44.720Z"
   },
   {
    "duration": 25,
    "start_time": "2022-03-16T10:03:44.761Z"
   },
   {
    "duration": 9,
    "start_time": "2022-03-16T10:03:44.789Z"
   },
   {
    "duration": 60,
    "start_time": "2022-03-16T10:03:44.801Z"
   },
   {
    "duration": 18,
    "start_time": "2022-03-16T10:03:44.863Z"
   },
   {
    "duration": 75,
    "start_time": "2022-03-16T10:03:44.884Z"
   },
   {
    "duration": 39,
    "start_time": "2022-03-16T10:03:44.961Z"
   },
   {
    "duration": 50,
    "start_time": "2022-03-16T10:03:45.004Z"
   },
   {
    "duration": 44,
    "start_time": "2022-03-16T10:03:45.057Z"
   },
   {
    "duration": 16,
    "start_time": "2022-03-16T10:03:45.103Z"
   },
   {
    "duration": 39,
    "start_time": "2022-03-16T10:03:45.121Z"
   },
   {
    "duration": 18,
    "start_time": "2022-03-16T10:03:45.163Z"
   },
   {
    "duration": 30,
    "start_time": "2022-03-16T10:03:45.183Z"
   },
   {
    "duration": 38,
    "start_time": "2022-03-16T10:03:45.251Z"
   },
   {
    "duration": 5,
    "start_time": "2022-03-16T10:03:47.599Z"
   },
   {
    "duration": 345,
    "start_time": "2022-03-16T10:04:19.295Z"
   },
   {
    "duration": 12,
    "start_time": "2022-03-16T10:04:28.028Z"
   },
   {
    "duration": 27,
    "start_time": "2022-03-16T10:05:30.638Z"
   },
   {
    "duration": 13,
    "start_time": "2022-03-16T10:06:19.478Z"
   },
   {
    "duration": 68,
    "start_time": "2022-03-16T10:06:26.331Z"
   },
   {
    "duration": 18,
    "start_time": "2022-03-16T10:06:26.401Z"
   },
   {
    "duration": 35,
    "start_time": "2022-03-16T10:06:26.422Z"
   },
   {
    "duration": 8,
    "start_time": "2022-03-16T10:06:26.461Z"
   },
   {
    "duration": 34,
    "start_time": "2022-03-16T10:06:26.471Z"
   },
   {
    "duration": 56,
    "start_time": "2022-03-16T10:06:26.508Z"
   },
   {
    "duration": 84,
    "start_time": "2022-03-16T10:06:26.567Z"
   },
   {
    "duration": 39,
    "start_time": "2022-03-16T10:06:26.654Z"
   },
   {
    "duration": 22,
    "start_time": "2022-03-16T10:06:26.697Z"
   },
   {
    "duration": 68,
    "start_time": "2022-03-16T10:06:26.722Z"
   },
   {
    "duration": 17,
    "start_time": "2022-03-16T10:06:26.792Z"
   },
   {
    "duration": 48,
    "start_time": "2022-03-16T10:06:26.811Z"
   },
   {
    "duration": 19,
    "start_time": "2022-03-16T10:06:26.861Z"
   },
   {
    "duration": 30,
    "start_time": "2022-03-16T10:06:26.883Z"
   },
   {
    "duration": 71,
    "start_time": "2022-03-16T10:06:26.916Z"
   },
   {
    "duration": 13,
    "start_time": "2022-03-16T10:06:30.312Z"
   },
   {
    "duration": 15,
    "start_time": "2022-03-16T10:10:03.063Z"
   },
   {
    "duration": 227,
    "start_time": "2022-03-16T10:10:59.320Z"
   },
   {
    "duration": 16,
    "start_time": "2022-03-16T10:11:45.229Z"
   },
   {
    "duration": 68,
    "start_time": "2022-03-16T10:12:51.231Z"
   },
   {
    "duration": 20,
    "start_time": "2022-03-16T10:12:51.302Z"
   },
   {
    "duration": 47,
    "start_time": "2022-03-16T10:12:51.326Z"
   },
   {
    "duration": 8,
    "start_time": "2022-03-16T10:12:51.377Z"
   },
   {
    "duration": 25,
    "start_time": "2022-03-16T10:12:51.388Z"
   },
   {
    "duration": 52,
    "start_time": "2022-03-16T10:12:51.416Z"
   },
   {
    "duration": 51,
    "start_time": "2022-03-16T10:12:51.471Z"
   },
   {
    "duration": 60,
    "start_time": "2022-03-16T10:12:51.525Z"
   },
   {
    "duration": 20,
    "start_time": "2022-03-16T10:12:51.588Z"
   },
   {
    "duration": 74,
    "start_time": "2022-03-16T10:12:51.611Z"
   },
   {
    "duration": 15,
    "start_time": "2022-03-16T10:12:51.688Z"
   },
   {
    "duration": 14,
    "start_time": "2022-03-16T10:12:51.705Z"
   },
   {
    "duration": 42,
    "start_time": "2022-03-16T10:12:51.722Z"
   },
   {
    "duration": 27,
    "start_time": "2022-03-16T10:12:51.766Z"
   },
   {
    "duration": 63,
    "start_time": "2022-03-16T10:12:51.795Z"
   },
   {
    "duration": 15,
    "start_time": "2022-03-16T10:12:53.087Z"
   },
   {
    "duration": 13,
    "start_time": "2022-03-16T10:13:04.185Z"
   },
   {
    "duration": 13,
    "start_time": "2022-03-16T10:13:07.139Z"
   },
   {
    "duration": 69,
    "start_time": "2022-03-16T10:13:19.781Z"
   },
   {
    "duration": 21,
    "start_time": "2022-03-16T10:13:19.854Z"
   },
   {
    "duration": 24,
    "start_time": "2022-03-16T10:13:19.880Z"
   },
   {
    "duration": 44,
    "start_time": "2022-03-16T10:13:19.908Z"
   },
   {
    "duration": 31,
    "start_time": "2022-03-16T10:13:19.955Z"
   },
   {
    "duration": 18,
    "start_time": "2022-03-16T10:13:19.988Z"
   },
   {
    "duration": 86,
    "start_time": "2022-03-16T10:13:20.009Z"
   },
   {
    "duration": 53,
    "start_time": "2022-03-16T10:13:20.099Z"
   },
   {
    "duration": 21,
    "start_time": "2022-03-16T10:13:20.155Z"
   },
   {
    "duration": 51,
    "start_time": "2022-03-16T10:13:20.178Z"
   },
   {
    "duration": 31,
    "start_time": "2022-03-16T10:13:20.231Z"
   },
   {
    "duration": 26,
    "start_time": "2022-03-16T10:13:20.264Z"
   },
   {
    "duration": 19,
    "start_time": "2022-03-16T10:13:20.292Z"
   },
   {
    "duration": 57,
    "start_time": "2022-03-16T10:13:20.313Z"
   },
   {
    "duration": 52,
    "start_time": "2022-03-16T10:13:20.373Z"
   },
   {
    "duration": 6,
    "start_time": "2022-03-16T10:13:22.380Z"
   },
   {
    "duration": 19,
    "start_time": "2022-03-16T10:13:28.291Z"
   },
   {
    "duration": 17,
    "start_time": "2022-03-16T10:14:25.194Z"
   },
   {
    "duration": 17,
    "start_time": "2022-03-16T10:15:18.369Z"
   },
   {
    "duration": 26,
    "start_time": "2022-03-16T10:16:17.994Z"
   },
   {
    "duration": 25,
    "start_time": "2022-03-16T10:17:29.230Z"
   },
   {
    "duration": 33,
    "start_time": "2022-03-16T10:17:41.229Z"
   },
   {
    "duration": 20,
    "start_time": "2022-03-16T10:23:07.567Z"
   },
   {
    "duration": 14,
    "start_time": "2022-03-16T10:42:35.720Z"
   },
   {
    "duration": 20,
    "start_time": "2022-03-16T10:46:00.532Z"
   },
   {
    "duration": 26,
    "start_time": "2022-03-16T10:49:33.516Z"
   },
   {
    "duration": 25,
    "start_time": "2022-03-16T10:55:27.882Z"
   },
   {
    "duration": 493,
    "start_time": "2022-03-16T18:48:07.239Z"
   },
   {
    "duration": 783,
    "start_time": "2022-03-16T18:48:17.126Z"
   },
   {
    "duration": 28,
    "start_time": "2022-03-16T18:48:17.912Z"
   },
   {
    "duration": 23,
    "start_time": "2022-03-16T18:48:17.943Z"
   },
   {
    "duration": 7,
    "start_time": "2022-03-16T18:48:17.987Z"
   },
   {
    "duration": 27,
    "start_time": "2022-03-16T18:48:17.996Z"
   },
   {
    "duration": 18,
    "start_time": "2022-03-16T18:48:18.026Z"
   },
   {
    "duration": 88,
    "start_time": "2022-03-16T18:48:18.046Z"
   },
   {
    "duration": 60,
    "start_time": "2022-03-16T18:48:18.137Z"
   },
   {
    "duration": 21,
    "start_time": "2022-03-16T18:48:18.200Z"
   },
   {
    "duration": 65,
    "start_time": "2022-03-16T18:48:18.224Z"
   },
   {
    "duration": 16,
    "start_time": "2022-03-16T18:48:18.291Z"
   },
   {
    "duration": 17,
    "start_time": "2022-03-16T18:48:18.309Z"
   },
   {
    "duration": 18,
    "start_time": "2022-03-16T18:48:18.328Z"
   },
   {
    "duration": 29,
    "start_time": "2022-03-16T18:48:18.388Z"
   },
   {
    "duration": 39,
    "start_time": "2022-03-16T18:48:18.419Z"
   },
   {
    "duration": 16,
    "start_time": "2022-03-16T18:48:18.488Z"
   },
   {
    "duration": 19,
    "start_time": "2022-03-16T18:48:18.506Z"
   },
   {
    "duration": 24,
    "start_time": "2022-03-16T18:48:18.528Z"
   },
   {
    "duration": 20,
    "start_time": "2022-03-16T18:48:22.982Z"
   },
   {
    "duration": 19,
    "start_time": "2022-03-16T18:48:38.489Z"
   },
   {
    "duration": 21,
    "start_time": "2022-03-16T19:04:09.279Z"
   },
   {
    "duration": 91,
    "start_time": "2022-03-16T19:33:26.401Z"
   },
   {
    "duration": 27,
    "start_time": "2022-03-16T19:33:30.956Z"
   },
   {
    "duration": 24,
    "start_time": "2022-03-16T19:33:53.600Z"
   },
   {
    "duration": 66,
    "start_time": "2022-03-16T19:48:58.802Z"
   },
   {
    "duration": 64,
    "start_time": "2022-03-16T19:49:02.523Z"
   },
   {
    "duration": 604,
    "start_time": "2022-03-27T14:59:07.578Z"
   },
   {
    "duration": 34,
    "start_time": "2022-03-27T14:59:08.186Z"
   },
   {
    "duration": 24,
    "start_time": "2022-03-27T14:59:08.223Z"
   },
   {
    "duration": 7,
    "start_time": "2022-03-27T14:59:08.275Z"
   },
   {
    "duration": 26,
    "start_time": "2022-03-27T14:59:08.285Z"
   },
   {
    "duration": 18,
    "start_time": "2022-03-27T14:59:08.313Z"
   },
   {
    "duration": 92,
    "start_time": "2022-03-27T14:59:08.334Z"
   },
   {
    "duration": 64,
    "start_time": "2022-03-27T14:59:08.428Z"
   },
   {
    "duration": 23,
    "start_time": "2022-03-27T14:59:08.494Z"
   },
   {
    "duration": 73,
    "start_time": "2022-03-27T14:59:08.519Z"
   },
   {
    "duration": 17,
    "start_time": "2022-03-27T14:59:08.594Z"
   },
   {
    "duration": 15,
    "start_time": "2022-03-27T14:59:08.613Z"
   },
   {
    "duration": 44,
    "start_time": "2022-03-27T14:59:08.630Z"
   },
   {
    "duration": 41,
    "start_time": "2022-03-27T14:59:08.679Z"
   },
   {
    "duration": 78,
    "start_time": "2022-03-27T14:59:08.722Z"
   },
   {
    "duration": 15,
    "start_time": "2022-03-27T14:59:08.803Z"
   },
   {
    "duration": 55,
    "start_time": "2022-03-27T14:59:08.821Z"
   },
   {
    "duration": 35,
    "start_time": "2022-03-27T14:59:08.878Z"
   },
   {
    "duration": 25,
    "start_time": "2022-03-27T14:59:08.915Z"
   },
   {
    "duration": 22,
    "start_time": "2022-03-27T14:59:08.974Z"
   },
   {
    "duration": 28,
    "start_time": "2022-03-27T14:59:08.998Z"
   },
   {
    "duration": 16,
    "start_time": "2022-03-27T14:59:32.416Z"
   },
   {
    "duration": 20,
    "start_time": "2022-03-27T15:01:24.430Z"
   },
   {
    "duration": 87,
    "start_time": "2022-03-27T15:01:41.836Z"
   },
   {
    "duration": 6,
    "start_time": "2022-03-27T15:01:58.304Z"
   },
   {
    "duration": 20,
    "start_time": "2022-03-27T15:02:01.567Z"
   },
   {
    "duration": 15,
    "start_time": "2022-03-27T15:02:04.536Z"
   },
   {
    "duration": 7,
    "start_time": "2022-03-27T15:02:54.641Z"
   },
   {
    "duration": 6,
    "start_time": "2022-03-27T15:03:19.919Z"
   },
   {
    "duration": 5,
    "start_time": "2022-03-27T15:03:37.368Z"
   },
   {
    "duration": 5,
    "start_time": "2022-03-27T15:03:48.431Z"
   },
   {
    "duration": 124,
    "start_time": "2022-03-27T15:03:58.223Z"
   },
   {
    "duration": 5,
    "start_time": "2022-03-27T15:04:06.469Z"
   },
   {
    "duration": 5,
    "start_time": "2022-03-27T15:04:18.875Z"
   },
   {
    "duration": 6,
    "start_time": "2022-03-27T15:04:33.007Z"
   },
   {
    "duration": 14,
    "start_time": "2022-03-27T15:05:00.439Z"
   },
   {
    "duration": 15,
    "start_time": "2022-03-27T15:05:08.513Z"
   },
   {
    "duration": 21,
    "start_time": "2022-03-27T15:05:15.297Z"
   },
   {
    "duration": 4,
    "start_time": "2022-03-27T15:05:36.695Z"
   },
   {
    "duration": 5,
    "start_time": "2022-03-27T15:05:44.211Z"
   },
   {
    "duration": 7,
    "start_time": "2022-03-27T15:06:33.332Z"
   },
   {
    "duration": 9,
    "start_time": "2022-03-27T15:06:52.488Z"
   },
   {
    "duration": 9,
    "start_time": "2022-03-27T15:06:59.399Z"
   },
   {
    "duration": 25,
    "start_time": "2022-03-27T15:13:02.908Z"
   },
   {
    "duration": 79,
    "start_time": "2022-03-27T15:14:13.561Z"
   },
   {
    "duration": 119,
    "start_time": "2022-03-27T15:21:20.041Z"
   },
   {
    "duration": 130,
    "start_time": "2022-03-27T16:55:40.736Z"
   },
   {
    "duration": 431,
    "start_time": "2022-03-27T16:58:03.919Z"
   },
   {
    "duration": 82,
    "start_time": "2022-03-27T16:58:06.197Z"
   },
   {
    "duration": 7,
    "start_time": "2022-03-27T17:07:26.913Z"
   },
   {
    "duration": 4,
    "start_time": "2022-03-27T17:08:36.528Z"
   },
   {
    "duration": 6,
    "start_time": "2022-03-27T17:08:48.161Z"
   },
   {
    "duration": 4,
    "start_time": "2022-03-27T17:09:14.265Z"
   },
   {
    "duration": 5,
    "start_time": "2022-03-27T17:12:31.595Z"
   },
   {
    "duration": 4,
    "start_time": "2022-03-27T17:19:04.010Z"
   },
   {
    "duration": 5,
    "start_time": "2022-03-27T17:24:58.472Z"
   },
   {
    "duration": 6,
    "start_time": "2022-03-27T17:28:05.891Z"
   },
   {
    "duration": 7,
    "start_time": "2022-03-27T17:28:55.198Z"
   },
   {
    "duration": 447,
    "start_time": "2022-03-27T18:33:27.474Z"
   },
   {
    "duration": 76,
    "start_time": "2022-03-27T18:33:29.959Z"
   },
   {
    "duration": 28,
    "start_time": "2022-03-27T18:33:36.110Z"
   },
   {
    "duration": 17,
    "start_time": "2022-03-27T18:33:39.121Z"
   },
   {
    "duration": 8,
    "start_time": "2022-03-27T18:33:44.316Z"
   },
   {
    "duration": 19,
    "start_time": "2022-03-27T18:33:50.437Z"
   },
   {
    "duration": 14,
    "start_time": "2022-03-27T18:33:56.596Z"
   },
   {
    "duration": 20,
    "start_time": "2022-03-27T18:34:05.085Z"
   },
   {
    "duration": 28,
    "start_time": "2022-03-27T18:34:53.905Z"
   },
   {
    "duration": 9,
    "start_time": "2022-03-27T18:35:54.499Z"
   },
   {
    "duration": 3,
    "start_time": "2022-03-27T18:45:46.863Z"
   },
   {
    "duration": 80,
    "start_time": "2022-03-27T19:01:33.537Z"
   },
   {
    "duration": 14,
    "start_time": "2022-03-27T19:01:45.718Z"
   },
   {
    "duration": 10,
    "start_time": "2022-03-27T19:02:15.315Z"
   },
   {
    "duration": 2,
    "start_time": "2022-03-27T19:02:40.678Z"
   },
   {
    "duration": 78,
    "start_time": "2022-03-27T19:02:40.682Z"
   },
   {
    "duration": 15,
    "start_time": "2022-03-27T19:02:40.762Z"
   },
   {
    "duration": 38,
    "start_time": "2022-03-27T19:02:40.780Z"
   },
   {
    "duration": 8,
    "start_time": "2022-03-27T19:02:40.821Z"
   },
   {
    "duration": 20,
    "start_time": "2022-03-27T19:02:40.831Z"
   },
   {
    "duration": 52,
    "start_time": "2022-03-27T19:02:40.853Z"
   },
   {
    "duration": 16,
    "start_time": "2022-03-27T19:02:40.907Z"
   },
   {
    "duration": 48,
    "start_time": "2022-03-27T19:02:40.924Z"
   },
   {
    "duration": 72,
    "start_time": "2022-03-27T19:02:40.974Z"
   },
   {
    "duration": 28,
    "start_time": "2022-03-27T19:02:41.049Z"
   },
   {
    "duration": 75,
    "start_time": "2022-03-27T19:02:41.079Z"
   },
   {
    "duration": 14,
    "start_time": "2022-03-27T19:02:41.157Z"
   },
   {
    "duration": 38,
    "start_time": "2022-03-27T19:02:41.173Z"
   },
   {
    "duration": 15,
    "start_time": "2022-03-27T19:02:41.213Z"
   },
   {
    "duration": 32,
    "start_time": "2022-03-27T19:02:41.230Z"
   },
   {
    "duration": 64,
    "start_time": "2022-03-27T19:02:41.265Z"
   },
   {
    "duration": 3,
    "start_time": "2022-03-27T19:02:41.331Z"
   },
   {
    "duration": 19,
    "start_time": "2022-03-27T19:02:41.337Z"
   },
   {
    "duration": 49,
    "start_time": "2022-03-27T19:02:41.358Z"
   },
   {
    "duration": 18,
    "start_time": "2022-03-27T19:02:41.409Z"
   },
   {
    "duration": 18,
    "start_time": "2022-03-27T19:02:41.430Z"
   },
   {
    "duration": 52,
    "start_time": "2022-03-27T19:02:41.450Z"
   },
   {
    "duration": 21,
    "start_time": "2022-03-27T19:03:26.655Z"
   },
   {
    "duration": 19,
    "start_time": "2022-03-27T19:05:16.462Z"
   },
   {
    "duration": 9,
    "start_time": "2022-03-27T19:06:51.982Z"
   },
   {
    "duration": 21,
    "start_time": "2022-03-27T19:06:59.649Z"
   },
   {
    "duration": 20,
    "start_time": "2022-03-27T19:07:09.382Z"
   },
   {
    "duration": 182,
    "start_time": "2022-03-28T07:17:35.636Z"
   },
   {
    "duration": 47,
    "start_time": "2022-03-28T07:19:35.507Z"
   },
   {
    "duration": 0,
    "start_time": "2022-03-28T07:19:35.556Z"
   },
   {
    "duration": 0,
    "start_time": "2022-03-28T07:19:35.557Z"
   },
   {
    "duration": 0,
    "start_time": "2022-03-28T07:19:35.558Z"
   },
   {
    "duration": 0,
    "start_time": "2022-03-28T07:19:35.559Z"
   },
   {
    "duration": 7,
    "start_time": "2022-03-28T07:19:43.452Z"
   },
   {
    "duration": 6,
    "start_time": "2022-03-28T07:20:08.800Z"
   },
   {
    "duration": 0,
    "start_time": "2022-03-28T07:20:08.808Z"
   },
   {
    "duration": 0,
    "start_time": "2022-03-28T07:20:08.809Z"
   },
   {
    "duration": 8,
    "start_time": "2022-03-28T07:20:08.811Z"
   },
   {
    "duration": 0,
    "start_time": "2022-03-28T07:20:08.820Z"
   },
   {
    "duration": 8,
    "start_time": "2022-03-28T07:20:16.044Z"
   },
   {
    "duration": 382,
    "start_time": "2022-03-28T07:20:47.767Z"
   },
   {
    "duration": 81,
    "start_time": "2022-03-28T07:20:48.151Z"
   },
   {
    "duration": 21,
    "start_time": "2022-03-28T07:20:48.233Z"
   },
   {
    "duration": 17,
    "start_time": "2022-03-28T07:20:48.256Z"
   },
   {
    "duration": 6,
    "start_time": "2022-03-28T07:20:48.276Z"
   },
   {
    "duration": 48,
    "start_time": "2022-03-28T07:20:48.283Z"
   },
   {
    "duration": 10,
    "start_time": "2022-03-28T07:20:50.619Z"
   },
   {
    "duration": 5,
    "start_time": "2022-03-28T07:21:16.580Z"
   },
   {
    "duration": 7,
    "start_time": "2022-03-28T07:21:26.722Z"
   },
   {
    "duration": 18,
    "start_time": "2022-03-28T07:25:03.172Z"
   },
   {
    "duration": 15,
    "start_time": "2022-03-28T07:31:52.137Z"
   },
   {
    "duration": 485,
    "start_time": "2022-03-28T15:13:23.199Z"
   },
   {
    "duration": 90,
    "start_time": "2022-03-28T15:13:23.687Z"
   },
   {
    "duration": 29,
    "start_time": "2022-03-28T15:13:23.779Z"
   },
   {
    "duration": 22,
    "start_time": "2022-03-28T15:13:23.810Z"
   },
   {
    "duration": 42,
    "start_time": "2022-03-28T15:13:23.834Z"
   },
   {
    "duration": 25,
    "start_time": "2022-03-28T15:13:23.878Z"
   },
   {
    "duration": 13,
    "start_time": "2022-03-28T15:13:26.197Z"
   },
   {
    "duration": 14,
    "start_time": "2022-03-28T15:15:21.329Z"
   },
   {
    "duration": 13,
    "start_time": "2022-03-28T15:15:39.074Z"
   },
   {
    "duration": 14,
    "start_time": "2022-03-28T15:16:03.794Z"
   },
   {
    "duration": 15,
    "start_time": "2022-03-28T15:16:13.754Z"
   },
   {
    "duration": 11,
    "start_time": "2022-03-28T15:16:26.068Z"
   },
   {
    "duration": 7,
    "start_time": "2022-03-28T15:25:52.087Z"
   },
   {
    "duration": 7,
    "start_time": "2022-03-28T15:26:18.255Z"
   },
   {
    "duration": 2004,
    "start_time": "2022-03-28T15:26:44.064Z"
   },
   {
    "duration": 18,
    "start_time": "2022-03-28T15:27:17.837Z"
   },
   {
    "duration": 44,
    "start_time": "2022-03-28T15:32:12.506Z"
   },
   {
    "duration": 46,
    "start_time": "2022-03-28T15:36:20.873Z"
   },
   {
    "duration": 44,
    "start_time": "2022-03-28T15:37:07.611Z"
   },
   {
    "duration": 47,
    "start_time": "2022-03-28T15:37:14.256Z"
   },
   {
    "duration": 46,
    "start_time": "2022-03-28T15:37:42.801Z"
   },
   {
    "duration": 30,
    "start_time": "2022-03-28T15:39:02.559Z"
   },
   {
    "duration": 22,
    "start_time": "2022-03-28T15:39:29.104Z"
   },
   {
    "duration": 18,
    "start_time": "2022-03-28T15:39:54.509Z"
   },
   {
    "duration": 13,
    "start_time": "2022-03-28T15:40:07.037Z"
   },
   {
    "duration": 13,
    "start_time": "2022-03-28T15:41:46.314Z"
   },
   {
    "duration": 23,
    "start_time": "2022-03-28T15:42:53.681Z"
   },
   {
    "duration": 34,
    "start_time": "2022-03-28T15:43:25.908Z"
   },
   {
    "duration": 20,
    "start_time": "2022-03-28T15:43:57.662Z"
   },
   {
    "duration": 22,
    "start_time": "2022-03-28T15:46:28.806Z"
   },
   {
    "duration": 3,
    "start_time": "2022-03-28T15:46:59.210Z"
   },
   {
    "duration": 85,
    "start_time": "2022-03-28T15:46:59.216Z"
   },
   {
    "duration": 18,
    "start_time": "2022-03-28T15:46:59.303Z"
   },
   {
    "duration": 23,
    "start_time": "2022-03-28T15:46:59.324Z"
   },
   {
    "duration": 30,
    "start_time": "2022-03-28T15:46:59.349Z"
   },
   {
    "duration": 28,
    "start_time": "2022-03-28T15:46:59.381Z"
   },
   {
    "duration": 22,
    "start_time": "2022-03-28T15:47:00.903Z"
   },
   {
    "duration": 22,
    "start_time": "2022-03-28T15:47:13.731Z"
   },
   {
    "duration": 22,
    "start_time": "2022-03-28T15:47:16.844Z"
   },
   {
    "duration": 3,
    "start_time": "2022-03-28T15:48:45.313Z"
   },
   {
    "duration": 88,
    "start_time": "2022-03-28T15:48:45.319Z"
   },
   {
    "duration": 19,
    "start_time": "2022-03-28T15:48:45.411Z"
   },
   {
    "duration": 24,
    "start_time": "2022-03-28T15:48:45.432Z"
   },
   {
    "duration": 9,
    "start_time": "2022-03-28T15:48:45.475Z"
   },
   {
    "duration": 26,
    "start_time": "2022-03-28T15:48:45.486Z"
   },
   {
    "duration": 22,
    "start_time": "2022-03-28T15:48:48.072Z"
   },
   {
    "duration": 4,
    "start_time": "2022-03-28T15:50:01.428Z"
   },
   {
    "duration": 108,
    "start_time": "2022-03-28T15:50:01.435Z"
   },
   {
    "duration": 28,
    "start_time": "2022-03-28T15:50:01.546Z"
   },
   {
    "duration": 27,
    "start_time": "2022-03-28T15:50:01.576Z"
   },
   {
    "duration": 15,
    "start_time": "2022-03-28T15:50:01.606Z"
   },
   {
    "duration": 56,
    "start_time": "2022-03-28T15:50:01.624Z"
   },
   {
    "duration": 22,
    "start_time": "2022-03-28T15:50:03.278Z"
   },
   {
    "duration": 128,
    "start_time": "2022-03-28T15:54:41.084Z"
   },
   {
    "duration": 148,
    "start_time": "2022-03-28T15:54:56.764Z"
   },
   {
    "duration": 117,
    "start_time": "2022-03-28T15:55:11.790Z"
   },
   {
    "duration": 21,
    "start_time": "2022-03-28T15:55:26.705Z"
   },
   {
    "duration": 4,
    "start_time": "2022-03-28T15:55:51.464Z"
   },
   {
    "duration": 91,
    "start_time": "2022-03-28T15:55:51.470Z"
   },
   {
    "duration": 20,
    "start_time": "2022-03-28T15:55:51.563Z"
   },
   {
    "duration": 22,
    "start_time": "2022-03-28T15:55:51.586Z"
   },
   {
    "duration": 10,
    "start_time": "2022-03-28T15:55:51.611Z"
   },
   {
    "duration": 57,
    "start_time": "2022-03-28T15:55:51.624Z"
   },
   {
    "duration": 22,
    "start_time": "2022-03-28T15:55:54.433Z"
   },
   {
    "duration": 24,
    "start_time": "2022-03-28T15:56:42.470Z"
   },
   {
    "duration": 4,
    "start_time": "2022-03-28T15:56:53.090Z"
   },
   {
    "duration": 85,
    "start_time": "2022-03-28T15:56:53.098Z"
   },
   {
    "duration": 19,
    "start_time": "2022-03-28T15:56:53.186Z"
   },
   {
    "duration": 27,
    "start_time": "2022-03-28T15:56:53.207Z"
   },
   {
    "duration": 8,
    "start_time": "2022-03-28T15:56:53.237Z"
   },
   {
    "duration": 31,
    "start_time": "2022-03-28T15:56:53.274Z"
   },
   {
    "duration": 22,
    "start_time": "2022-03-28T15:56:54.707Z"
   },
   {
    "duration": 4,
    "start_time": "2022-03-28T15:57:27.334Z"
   },
   {
    "duration": 89,
    "start_time": "2022-03-28T15:57:27.341Z"
   },
   {
    "duration": 21,
    "start_time": "2022-03-28T15:57:27.432Z"
   },
   {
    "duration": 40,
    "start_time": "2022-03-28T15:57:27.456Z"
   },
   {
    "duration": 10,
    "start_time": "2022-03-28T15:57:27.498Z"
   },
   {
    "duration": 28,
    "start_time": "2022-03-28T15:57:27.510Z"
   },
   {
    "duration": 22,
    "start_time": "2022-03-28T15:57:28.705Z"
   },
   {
    "duration": 20,
    "start_time": "2022-03-28T15:58:16.751Z"
   },
   {
    "duration": 21,
    "start_time": "2022-03-28T15:59:50.207Z"
   },
   {
    "duration": 4,
    "start_time": "2022-03-28T15:59:55.241Z"
   },
   {
    "duration": 100,
    "start_time": "2022-03-28T15:59:55.247Z"
   },
   {
    "duration": 26,
    "start_time": "2022-03-28T15:59:55.349Z"
   },
   {
    "duration": 24,
    "start_time": "2022-03-28T15:59:55.378Z"
   },
   {
    "duration": 9,
    "start_time": "2022-03-28T15:59:55.404Z"
   },
   {
    "duration": 63,
    "start_time": "2022-03-28T15:59:55.415Z"
   },
   {
    "duration": 22,
    "start_time": "2022-03-28T15:59:55.480Z"
   },
   {
    "duration": 20,
    "start_time": "2022-03-28T15:59:55.504Z"
   },
   {
    "duration": 90,
    "start_time": "2022-03-28T15:59:55.529Z"
   },
   {
    "duration": 59,
    "start_time": "2022-03-28T15:59:55.622Z"
   },
   {
    "duration": 23,
    "start_time": "2022-03-28T15:59:55.683Z"
   },
   {
    "duration": 80,
    "start_time": "2022-03-28T15:59:55.709Z"
   },
   {
    "duration": 15,
    "start_time": "2022-03-28T15:59:55.792Z"
   },
   {
    "duration": 15,
    "start_time": "2022-03-28T15:59:55.809Z"
   },
   {
    "duration": 47,
    "start_time": "2022-03-28T15:59:55.826Z"
   },
   {
    "duration": 27,
    "start_time": "2022-03-28T15:59:55.876Z"
   },
   {
    "duration": 69,
    "start_time": "2022-03-28T15:59:55.905Z"
   },
   {
    "duration": 3,
    "start_time": "2022-03-28T15:59:55.976Z"
   },
   {
    "duration": 25,
    "start_time": "2022-03-28T15:59:55.981Z"
   },
   {
    "duration": 24,
    "start_time": "2022-03-28T15:59:56.008Z"
   },
   {
    "duration": 51,
    "start_time": "2022-03-28T15:59:56.035Z"
   },
   {
    "duration": 20,
    "start_time": "2022-03-28T15:59:56.088Z"
   },
   {
    "duration": 22,
    "start_time": "2022-03-28T15:59:56.110Z"
   },
   {
    "duration": 61,
    "start_time": "2022-03-28T15:59:56.136Z"
   },
   {
    "duration": 20,
    "start_time": "2022-03-28T15:59:59.738Z"
   },
   {
    "duration": 50,
    "start_time": "2022-03-28T16:07:43.851Z"
   },
   {
    "duration": 49,
    "start_time": "2022-03-28T16:08:05.227Z"
   },
   {
    "duration": 51,
    "start_time": "2022-03-28T16:08:14.738Z"
   },
   {
    "duration": 3,
    "start_time": "2022-03-28T16:08:41.346Z"
   },
   {
    "duration": 87,
    "start_time": "2022-03-28T16:08:41.352Z"
   },
   {
    "duration": 35,
    "start_time": "2022-03-28T16:08:41.440Z"
   },
   {
    "duration": 24,
    "start_time": "2022-03-28T16:08:41.478Z"
   },
   {
    "duration": 9,
    "start_time": "2022-03-28T16:08:41.504Z"
   },
   {
    "duration": 58,
    "start_time": "2022-03-28T16:08:41.515Z"
   },
   {
    "duration": 21,
    "start_time": "2022-03-28T16:08:41.575Z"
   },
   {
    "duration": 20,
    "start_time": "2022-03-28T16:08:41.598Z"
   },
   {
    "duration": 92,
    "start_time": "2022-03-28T16:08:41.623Z"
   },
   {
    "duration": 60,
    "start_time": "2022-03-28T16:08:41.718Z"
   },
   {
    "duration": 23,
    "start_time": "2022-03-28T16:08:41.781Z"
   },
   {
    "duration": 73,
    "start_time": "2022-03-28T16:08:41.806Z"
   },
   {
    "duration": 16,
    "start_time": "2022-03-28T16:08:41.881Z"
   },
   {
    "duration": 16,
    "start_time": "2022-03-28T16:08:41.900Z"
   },
   {
    "duration": 18,
    "start_time": "2022-03-28T16:08:41.918Z"
   },
   {
    "duration": 27,
    "start_time": "2022-03-28T16:08:41.973Z"
   },
   {
    "duration": 37,
    "start_time": "2022-03-28T16:08:42.002Z"
   },
   {
    "duration": 32,
    "start_time": "2022-03-28T16:08:42.042Z"
   },
   {
    "duration": 27,
    "start_time": "2022-03-28T16:08:42.076Z"
   },
   {
    "duration": 23,
    "start_time": "2022-03-28T16:08:42.105Z"
   },
   {
    "duration": 48,
    "start_time": "2022-03-28T16:08:42.130Z"
   },
   {
    "duration": 22,
    "start_time": "2022-03-28T16:08:42.181Z"
   },
   {
    "duration": 23,
    "start_time": "2022-03-28T16:08:42.206Z"
   },
   {
    "duration": 62,
    "start_time": "2022-03-28T16:08:42.235Z"
   },
   {
    "duration": 21,
    "start_time": "2022-03-28T16:08:44.117Z"
   },
   {
    "duration": 116,
    "start_time": "2022-03-28T17:08:16.533Z"
   }
  ],
  "kernelspec": {
   "display_name": "Python 3",
   "language": "python",
   "name": "python3"
  },
  "language_info": {
   "codemirror_mode": {
    "name": "ipython",
    "version": 3
   },
   "file_extension": ".py",
   "mimetype": "text/x-python",
   "name": "python",
   "nbconvert_exporter": "python",
   "pygments_lexer": "ipython3",
   "version": "3.7.3"
  },
  "toc": {
   "base_numbering": 1,
   "nav_menu": {},
   "number_sections": true,
   "sideBar": true,
   "skip_h1_title": true,
   "title_cell": "Table of Contents",
   "title_sidebar": "Contents",
   "toc_cell": false,
   "toc_position": {},
   "toc_section_display": true,
   "toc_window_display": false
  }
 },
 "nbformat": 4,
 "nbformat_minor": 5
}
